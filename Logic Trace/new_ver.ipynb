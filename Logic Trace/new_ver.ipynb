{
 "cells": [
  {
   "cell_type": "code",
   "execution_count": 1,
   "metadata": {},
   "outputs": [],
   "source": [
    "import numpy as np\n",
    "import math\n",
    "import pprint"
   ]
  },
  {
   "cell_type": "code",
   "execution_count": 2,
   "metadata": {},
   "outputs": [],
   "source": [
    "d = {\n",
    "    'common' : {\n",
    "        'region'                 : 6,    # 地域の区分\n",
    "        'structure'              : 'RC', # 建物の構造\n",
    "        'height'                 : 9.1,  # 建物の高さ(m)\n",
    "        'opening_main_direction' : 'S',  # 主開口部の方位\n",
    "    },\n",
    "    'private_area' : {\n",
    "        'private_floors' : [    # 各階の情報\n",
    "            {\n",
    "                'number_of_houses'    : 4,         # 住戸数\n",
    "                'floor_area'          : 162.64,    # 床面積の合計(m2)\n",
    "                'peri_length_outside' : 66.56,     # 外周長 外気と接する部分(m)\n",
    "                'peri_length_inside'  : 0.0,       # 外周長 空調された共用部や非住宅部と接する部分(m)\n",
    "                'peri_length_private' : 0.0,       # 外周長 住戸と接する部分(住棟を複数の方位に分けて計算する場合のみ)(m)\n",
    "                'window_area'         : 30.48,     # 窓面積の合計(m2)\n",
    "                'roof_area'           : 0.0,       # (最上階を除く)屋根面積の合計(m2)\n",
    "                'outside_floor_area'  : None,      # (最下階を除く)外気床の面積の合計(m2)\n",
    "            },\n",
    "            {\n",
    "                'number_of_houses'    : 4,         # 住戸数\n",
    "                'floor_area'          : 162.64,    # 床面積の合計(m2)\n",
    "                'peri_length_outside' : 66.56,     # 外周長 外気と接する部分(m)\n",
    "                'peri_length_inside'  : 0.0,       # 外周長 空調された共用部や非住宅部と接する部分(m)\n",
    "                'peri_length_private' : 0.0,       # 外周長 住戸と接する部分(住棟を複数の方位に分けて計算する場合のみ)(m)\n",
    "                'window_area'         : 30.64,     # 窓面積の合計(m2)\n",
    "                'roof_area'           : 0.0,       # (最上階を除く)屋根面積の合計(m2)\n",
    "                'outside_floor_area'  : 0.0,       # (最下階を除く)外気床の面積の合計(m2)\n",
    "            },\n",
    "            {\n",
    "                'number_of_houses'    : 4,         # 住戸数\n",
    "                'floor_area'          : 162.64,    # 床面積の合計(m2)\n",
    "                'peri_length_outside' : 66.56,     # 外周長 外気と接する部分(m)\n",
    "                'peri_length_inside'  : 0.0,       # 外周長 空調された共用部や非住宅部と接する部分(m)\n",
    "                'peri_length_private' : 0.0,       # 外周長 住戸と接する部分(住棟を複数の方位に分けて計算する場合のみ)(m)\n",
    "                'window_area'         : 30.64,     # 窓面積の合計(m2)\n",
    "                'roof_area'           : None,      # (最上階を除く)屋根面積の合計(m2)\n",
    "                'outside_floor_area'  : 0.0,       # (最下階を除く)外気床の面積の合計(m2)\n",
    "            },\n",
    "        ],\n",
    "        'wall' : {                 # 外壁の仕様\n",
    "            'U_value' : 0.785,     # 熱貫流率(U値)(W/m2K)\n",
    "            'ins_pos' : 'inside',  # 断熱位置, inside=内断熱, outside=外断熱, non=無断熱 から選択\n",
    "            'HB_spec' : 'spec1'    # 断熱補強の仕様, spec1=仕様1, spec2=仕様2, non=補強なし, null=該当なし から選択\n",
    "        },\n",
    "        'roof' : {                 # 屋根の仕様\n",
    "            'U_value' : 0.417,     # 熱貫流率(U値)(W/m2K)\n",
    "            'ins_pos' : 'outside', # 断熱位置, inside=内断熱, outside=外断熱, non=無断熱 から選択\n",
    "            'HB_spec' : 'spec1'    # 断熱補強の仕様, spec1=仕様1, spec2=仕様2, non=補強なし, null=該当なし から選択\n",
    "        },\n",
    "        'floor' : {                # 最下階床の仕様\n",
    "            'U_value' : 0.507,     # 熱貫流率(U値)(W/m2K)\n",
    "            'ins_pos' : 'outside', # 断熱位置, inside=内断熱, outside=外断熱, non=無断熱 から選択\n",
    "            'HB_spec' : 'null'     # 断熱補強の仕様, spec1=仕様1, spec2=仕様2, non=補強なし, null=該当なし から選択\n",
    "        },\n",
    "        'inside_wall' : {\n",
    "            'U_value'   : 2.34, # 界壁の熱貫流率(U値)(W/m2K)\n",
    "        },\n",
    "        'inside_floor' : {\n",
    "            'U_value'  : 1.796, # 界床の熱貫流率(U値)(W/m2K)\n",
    "        },\n",
    "        'window' : {\n",
    "            'U_value'   : 4.65, # 窓の熱貫流率(U値)(W/m2K)\n",
    "            'eta_value' : 0.79, # 窓の日射熱取得率(η値)    \n",
    "        }\n",
    "    },\n",
    "}"
   ]
  },
  {
   "cell_type": "code",
   "execution_count": 3,
   "metadata": {},
   "outputs": [],
   "source": [
    "def get_floor_positions(floor_indices, number_of_floors):\n",
    "    \n",
    "    def func(floor_index):\n",
    "        \n",
    "        if floor_index == 0:\n",
    "            return 'bottom'\n",
    "        elif floor_index == number_of_floors-1:\n",
    "            return 'top'\n",
    "        else:\n",
    "            return 'middle'\n",
    "    \n",
    "    return [func(floor_index) for floor_index in floor_indices]"
   ]
  },
  {
   "cell_type": "code",
   "execution_count": 4,
   "metadata": {},
   "outputs": [],
   "source": [
    "def get_floor_heights(H_total, n):\n",
    "    \n",
    "    return np.full(n, H_total/n)"
   ]
  },
  {
   "cell_type": "code",
   "execution_count": 5,
   "metadata": {},
   "outputs": [],
   "source": [
    "def get_roof_area_totals(A_r_total_inputs, A_f_totals, floor_positions):\n",
    "    \n",
    "    def func(A_r_total_input, A_f_total, floor_position):\n",
    "        \n",
    "        if floor_position == 'top':\n",
    "            return A_f_total\n",
    "        else:\n",
    "            return A_r_total_input\n",
    "    \n",
    "    return [func(A_r_total_input, A_f_total, floor_position)\n",
    "            for (A_r_total_input, A_f_total, floor_position) in zip(A_r_total_inputs, A_f_totals, floor_positions)]"
   ]
  },
  {
   "cell_type": "code",
   "execution_count": 6,
   "metadata": {},
   "outputs": [],
   "source": [
    "def get_outside_floor_area_totals(A_of_total_inputs, floor_positions):\n",
    "    \n",
    "    def func(A_of_total_input, floor_position):\n",
    "        \n",
    "        if floor_position == 'bottom':\n",
    "            return 0.0\n",
    "        else:\n",
    "            return A_of_total_input\n",
    "    \n",
    "    return [func(A_of_total_input, floor_position)\n",
    "            for (A_of_total_input, floor_position) in zip(A_of_total_inputs, floor_positions)]"
   ]
  },
  {
   "cell_type": "code",
   "execution_count": 7,
   "metadata": {},
   "outputs": [],
   "source": [
    "def make_private_floors(h, fs):\n",
    "    \n",
    "    # 床面積の合計, m2, [1次元配列]\n",
    "    floor_area_totals = np.array([f['floor_area'] for f in fs])\n",
    "    print('床面積の合計:' + str(floor_area_totals))\n",
    "    \n",
    "    # 屋根の面積の合計(入力値), m2, [1次元配列]\n",
    "    roof_area_total_inputs = np.array([f['roof_area'] for f in fs])\n",
    "    print('屋根の面積の合計(入力値):' + str(roof_area_total_inputs))\n",
    "    \n",
    "    # 外気床の面積の合計(入力値), m2, [1次元配列]\n",
    "    outside_floor_area_inputs = np.array([f['outside_floor_area'] for f in fs])\n",
    "    print('外気床の面積の合計(入力値):' + str(outside_floor_area_inputs))\n",
    "\n",
    "    # 階数\n",
    "    number_of_floors = len(fs)\n",
    "    print('階数:' + str(number_of_floors))\n",
    "    \n",
    "    # 階のindex(0はじまり) [1次元配列]\n",
    "    floor_indices = np.arange(number_of_floors)\n",
    "    print('階index:' + str(floor_indices))\n",
    "    \n",
    "    # フロアの種類(最上階・中間階・最下階) [1次元配列]\n",
    "    floor_positions = get_floor_positions(floor_indices, number_of_floors)\n",
    "    print('フロアの種類:' + str(floor_positions))\n",
    "    \n",
    "    # 各フロアの階高, m, [1次元配列]\n",
    "    floor_heights = get_floor_heights(h, number_of_floors)\n",
    "    print('各フロアの階高:' + str(floor_heights))\n",
    "    \n",
    "    # 屋根面積の合計, m2, [1次元配列]\n",
    "    roof_area_totals = get_roof_area_totals(roof_area_total_inputs, floor_area_totals, floor_positions)\n",
    "    print('屋根面積の合計:' + str(roof_area_totals))\n",
    "    \n",
    "    # 外気床面積の合計, m2, [1次元配列]\n",
    "    outside_floor_area_totals = get_outside_floor_area_totals(outside_floor_area_inputs, floor_positions)\n",
    "    print('外気床面積の合計:' + str(outside_floor_area_totals))\n",
    "    \n",
    "    number_of_houses = [f['number_of_houses'] for f in fs]\n",
    "    \n",
    "    return []"
   ]
  },
  {
   "cell_type": "code",
   "execution_count": 8,
   "metadata": {},
   "outputs": [],
   "source": [
    "def make_private_area(height, wall, roof, floor, inside_wall, inside_floor, window, private_floors):\n",
    "    \n",
    "    fs = make_private_floors(h=height, fs=private_floors)\n",
    "\n",
    "    return {\n",
    "        'wall' : wall,\n",
    "        'roof' : roof,\n",
    "        'floor' : floor,\n",
    "        'inside_wall' : inside_wall,\n",
    "        'inside_floor' : inside_floor,\n",
    "        'window' : window,\n",
    "        'private_floors' : fs,\n",
    "    }"
   ]
  },
  {
   "cell_type": "code",
   "execution_count": 9,
   "metadata": {},
   "outputs": [],
   "source": [
    "def make_common(region, structure, height, opening_main_direction):\n",
    "    \n",
    "    return {\n",
    "        'region' : region,\n",
    "        'structure' : structure,\n",
    "        'height' : height,\n",
    "        'opening_main_direction' : opening_main_direction,\n",
    "    }"
   ]
  },
  {
   "cell_type": "code",
   "execution_count": 10,
   "metadata": {},
   "outputs": [],
   "source": [
    "def convert(d):\n",
    "    \n",
    "    common = make_common(**d['common'])\n",
    "    private_area = make_private_area(common['height'], **d['private_area'])\n",
    "    return {\n",
    "        'common' : common,\n",
    "        'private_area' : private_area\n",
    "    }"
   ]
  },
  {
   "cell_type": "code",
   "execution_count": 11,
   "metadata": {},
   "outputs": [
    {
     "name": "stdout",
     "output_type": "stream",
     "text": [
      "床面積の合計:[162.64 162.64 162.64]\n",
      "屋根の面積の合計(入力値):[0.0 0.0 None]\n",
      "外気床の面積の合計(入力値):[None 0.0 0.0]\n",
      "階数:3\n",
      "階index:[0 1 2]\n",
      "フロアの種類:['bottom', 'middle', 'top']\n",
      "各フロアの階高:[3.03333333 3.03333333 3.03333333]\n",
      "屋根面積の合計:[0.0, 0.0, 162.64]\n",
      "外気床面積の合計:[0.0, 0.0, 0.0]\n"
     ]
    },
    {
     "data": {
      "text/plain": [
       "{'common': {'region': 6,\n",
       "  'structure': 'RC',\n",
       "  'height': 9.1,\n",
       "  'opening_main_direction': 'S'},\n",
       " 'private_area': {'wall': {'U_value': 0.785,\n",
       "   'ins_pos': 'inside',\n",
       "   'HB_spec': 'spec1'},\n",
       "  'roof': {'U_value': 0.417, 'ins_pos': 'outside', 'HB_spec': 'spec1'},\n",
       "  'floor': {'U_value': 0.507, 'ins_pos': 'outside', 'HB_spec': 'null'},\n",
       "  'inside_wall': {'U_value': 2.34},\n",
       "  'inside_floor': {'U_value': 1.796},\n",
       "  'window': {'U_value': 4.65, 'eta_value': 0.79},\n",
       "  'private_floors': []}}"
      ]
     },
     "execution_count": 11,
     "metadata": {},
     "output_type": "execute_result"
    }
   ],
   "source": [
    "convert(d)"
   ]
  },
  {
   "cell_type": "code",
   "execution_count": null,
   "metadata": {},
   "outputs": [],
   "source": []
  }
 ],
 "metadata": {
  "kernelspec": {
   "display_name": "Python 3",
   "language": "python",
   "name": "python3"
  },
  "language_info": {
   "codemirror_mode": {
    "name": "ipython",
    "version": 3
   },
   "file_extension": ".py",
   "mimetype": "text/x-python",
   "name": "python",
   "nbconvert_exporter": "python",
   "pygments_lexer": "ipython3",
   "version": "3.6.4"
  }
 },
 "nbformat": 4,
 "nbformat_minor": 2
}
