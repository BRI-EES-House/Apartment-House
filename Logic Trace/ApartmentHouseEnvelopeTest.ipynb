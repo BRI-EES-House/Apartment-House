{
 "cells": [
  {
   "cell_type": "code",
   "execution_count": 1,
   "metadata": {
    "collapsed": false
   },
   "outputs": [],
   "source": [
    "import numpy as np\n",
    "import math\n",
    "from collections import namedtuple"
   ]
  },
  {
   "cell_type": "code",
   "execution_count": 2,
   "metadata": {
    "collapsed": true
   },
   "outputs": [],
   "source": [
    "Direction = namedtuple('Direction', ('D0','D90','D180','D270'))"
   ]
  },
  {
   "cell_type": "markdown",
   "metadata": {},
   "source": [
    "# 共同住宅の躯体性能の簡易評価法"
   ]
  },
  {
   "cell_type": "markdown",
   "metadata": {},
   "source": [
    "## I. 入力項目"
   ]
  },
  {
   "cell_type": "markdown",
   "metadata": {},
   "source": [
    "<center>住棟全体に関する入力項目</center>"
   ]
  },
  {
   "cell_type": "markdown",
   "metadata": {},
   "source": [
    "| No. | 入力項目 | 単位 | 記号 | 備考 |\n",
    "| --- | --- | --- | --- | --- |\n",
    "| G1 | 地域の区分 | - | - | 1～8地域 |\n",
    "| G2 | 建物の構造 | - | - | RC, S, W |\n",
    "| G3 | 建物の階数 | 階 | $N$ | - |\n",
    "| G4 | 建物全体の高さ | m | $H_{total}$ | - |\n",
    "| G5 | 主開口部の方位 | - | - | 8方位 |\n",
    "| G6 | 各階の床面積の合計 | m<sup>2</sup> | $A_{f,total}$ | 階ごとに入力する |\n",
    "| G7 | 各階の住戸数 | 戸 | $n$ | 階ごとに入力する |"
   ]
  },
  {
   "cell_type": "code",
   "execution_count": 3,
   "metadata": {
    "collapsed": true
   },
   "outputs": [],
   "source": [
    "d_General = {\n",
    "    \"Region\"               : 6,                        # 地域の区分\n",
    "    \"Structure\"            : \"RC\",                     # 建物の構造\n",
    "    \"Levels_Number\"        : 3,                        # 建物の階数\n",
    "    \"Height\"               : 9.1,                      # 建物の高さ(m)\n",
    "    \"OpeningMainDirection\" : \"south\",                  # 主開口部の方位\n",
    "    \"FloorArea\"            : [231.46, 222.34, 222.34], # 各階の床面積の合計(m2)\n",
    "    \"HouseNumber\"          : [4,4,4]                   # 各階の住戸数\n",
    "}"
   ]
  },
  {
   "cell_type": "markdown",
   "metadata": {},
   "source": [
    "<center>専有部に関する入力項目</center>"
   ]
  },
  {
   "cell_type": "markdown",
   "metadata": {},
   "source": [
    "| No. | 入力項目 | 単位 | 記号 | 備考 |\n",
    "| --- | --- | --- | --- | --- |\n",
    "| P1 | 各階の外周長 外気と接する部分 | m | | 階ごとに入力する |\n",
    "| P2 | 各階の外周長 空調された共用部や非住宅部と接する部分 | m | | 階ごとに入力する |\n",
    "| P3 | 各階の外周長 住戸と接する部分 | m | | 階ごとに入力する (住棟を複数の方位に分けて計算する場合のみ入力) |\n",
    "| P4 | 各階の窓面積の合計 | m<sup>2</sup> | | 階ごとに入力する |\n",
    "| P5 | 各階(最上階を除く)の屋根面積の合計 | m<sup>2</sup> | | 階ごとに入力する |\n",
    "| P6 | 各階(最下階を除く)の外気床の面積の合計 | m<sup>2</sup> | | 階ごとに入力する |\n",
    "| P7 | 外壁の仕様 熱貫流率(U値) | W/m<sup>2</sup>K | | |\n",
    "| P8 | 外壁の仕様 断熱位置 | - | | inside=内断熱, outside=外断熱, non=無断熱 から選択 |\n",
    "| P9 | 外壁の仕様 断熱補強の仕様 | - | | spec1=仕様1, spec2=仕様2, non=補強なし, null=該当なし から選択 |\n",
    "| P10 | 屋根の仕様 熱貫流率(U値) | W/m<sup>2</sup>K | | |\n",
    "| P11 | 屋根の仕様 断熱位置 | - | | inside=内断熱, outside=外断熱, non=無断熱 から選択 |\n",
    "| P12 | 屋根の仕様 断熱補強の仕様 | - | | spec1=仕様1, spec2=仕様2, non=補強なし, null=該当なし から選択 |\n",
    "| P13 | 最下階床の仕様 熱貫流率(U値) | W/m<sup>2</sup>K | | |\n",
    "| P14 | 最下階床の仕様 断熱位置 | - | | inside=内断熱, outside=外断熱, non=無断熱 から選択 |\n",
    "| P15 | 最下階床の仕様 断熱補強の仕様 | - | | spec1=仕様1, spec2=仕様2, non=補強なし, null=該当なし から選択 |\n",
    "| P16 | 界壁の熱貫流率(U値) | W/m<sup>2</sup>K | | |\n",
    "| P17 | 界床の熱貫流率(U値) | W/m<sup>2</sup>K | | |\n",
    "| P18 | 窓の熱貫流率(U値) | W/m<sup>2</sup>K | | |\n",
    "| P19 | 窓の日射熱取得率(η値) | - | | |"
   ]
  },
  {
   "cell_type": "code",
   "execution_count": 4,
   "metadata": {
    "collapsed": true
   },
   "outputs": [],
   "source": [
    "d_PrivateArea = {\n",
    "    \"PeriLengthOutside\"   : [66.56, 66.56, 66.56], # 各階の外周長 外気と接する部分(m)\n",
    "    \"PeriLengthInside\"    : [0.0, 0.0, 0.0],       # 各階の外周長 空調された共用部や非住宅部と接する部分(m)\n",
    "    \"PeriLengthPrivate\"   : [0.0, 0.0, 0.0],       # 各階の外周長 住戸と接する部分(住棟を複数の方位に分けて計算する場合のみ)(m)\n",
    "    \"WindowArea\"          : [30.48, 30.64, 30.64], # 各階の窓面積の合計(m2)\n",
    "    \"RoofArea\"            : [0.0, 0.0, None],      # 各階(最上階を除く)の屋根面積の合計(m2)\n",
    "    \"OutsideFloorArea\"    : [None, 0.0, 0.0],      # 各階(最下階を除く)の外気床の面積の合計(m2)\n",
    "    \"Wall\"                : {                      # 外壁の仕様\n",
    "        \"UValue\" : 0.785,    # 熱貫流率(U値)(W/m2K)\n",
    "        \"InsPos\" : \"inside\", # 断熱位置, inside=内断熱, outside=外断熱, non=無断熱 から選択\n",
    "        \"HBSpec\" : \"spec1\"   # 断熱補強の仕様, spec1=仕様1, spec2=仕様2, non=補強なし, null=該当なし から選択\n",
    "    },\n",
    "    \"Roof\"                : {                      # 屋根の仕様\n",
    "        \"UValue\" : 0.417,     # 熱貫流率(U値)(W/m2K)\n",
    "        \"InsPos\" : \"outside\", # 断熱位置, inside=内断熱, outside=外断熱, non=無断熱 から選択\n",
    "        \"HBSpec\" : \"spec1\"    # 断熱補強の仕様, spec1=仕様1, spec2=仕様2, non=補強なし, null=該当なし から選択\n",
    "    },\n",
    "    \"Floor\"               : {                      # 最下階床の仕様\n",
    "        \"UValue\" : 0.507,     # 熱貫流率(U値)(W/m2K)\n",
    "        \"InsPos\" : \"outside\", # 断熱位置, inside=内断熱, outside=外断熱, non=無断熱 から選択\n",
    "        \"HBSpec\" : \"null\"     # 断熱補強の仕様, spec1=仕様1, spec2=仕様2, non=補強なし, null=該当なし から選択\n",
    "    },\n",
    "    \"InsideWallUValue\"    : 2.34,                  # 界壁の熱貫流率(U値)(W/m2K)\n",
    "    \"InsideFloorUValue\"   : 1.796,                 # 界床の熱貫流率(U値)(W/m2K)\n",
    "    \"WallUValue\"          : 4.65,                  # 窓の熱貫流率(U値)(W/m2K)\n",
    "    \"WallEtaValue\"        : 0.79                   # 窓の日射熱取得率(η値)    \n",
    "}"
   ]
  },
  {
   "cell_type": "markdown",
   "metadata": {},
   "source": [
    "<center>共用部に関する入力項目</center>"
   ]
  },
  {
   "cell_type": "markdown",
   "metadata": {},
   "source": [
    "| No. | 入力項目 | 単位 | 記号 | 備考 |\n",
    "| --- | --- | --- | --- | --- |\n",
    "| C1 | 各階の共用部・非住宅部の床面積の合計 | m<sup>2</sup> | | 階ごとに入力する |\n",
    "| C2 | 各階(最上階を除く)の屋根面積の合計 | m<sup>2</sup> | | 階ごとに入力する |\n",
    "| C3 | 各階(最下階を除く)の外気床の面積の合計 | m<sup>2</sup> | | 階ごとに入力する |\n",
    "| C4 | 外壁の熱貫流率(U値) | W/m<sup>2</sup>K | | |\n",
    "| C5 | 界床の熱貫流率(U値) | W/m<sup>2</sup>K | | |\n",
    "| C6 | 外気床の熱貫流率(U値) | W/m<sup>2</sup>K | | |\n",
    "| C7 | 窓の熱貫流率(U値) | W/m<sup>2</sup>K | | |\n",
    "| C8 | 窓の日射熱取得率(η値) | - | |  |"
   ]
  },
  {
   "cell_type": "code",
   "execution_count": 5,
   "metadata": {
    "collapsed": true
   },
   "outputs": [],
   "source": [
    "d_PublicArea = {\n",
    "    \"FloorArea\"          : [68.82, 59.7, 59.7], # 各階の共用部・非住宅部の床面積の合計(m2)\n",
    "    \"RoofArea\"           : [9.125, 0.0, None],  # 各階(最上階を除く)の屋根面積の合計(m2)\n",
    "    \"OutsideFloorArea\"   : [None, 0.0, 0.0],    # 各階(最下階を除く)の外気床の面積の合計(m2)\n",
    "    \"WallUValue\"         : 0.00,                # 外壁の熱貫流率(U値)(W/m2K)\n",
    "    \"InsideFloorUValue\"  : 0.00,                # 界床の熱貫流率(U値)(W/m2K)\n",
    "    \"OutsideFloorUValue\" : 0.00,                # 外気床の熱貫流率(U値)(W/m2K)\n",
    "    \"WindowUValue\"       : 0.00,                # 窓の熱貫流率(U値)(W/m2K)\n",
    "    \"WindowEtaValue\"     : 0.00                 # 窓の日射熱取得率(η値)\n",
    "}"
   ]
  },
  {
   "cell_type": "code",
   "execution_count": 6,
   "metadata": {
    "collapsed": false
   },
   "outputs": [],
   "source": [
    "d = {\n",
    "    \"General\"     : d_General,\n",
    "    \"PrivateArea\" : d_PrivateArea,\n",
    "    \"PublicArea\"  : d_PublicArea\n",
    "}"
   ]
  },
  {
   "cell_type": "markdown",
   "metadata": {},
   "source": [
    "## II. 計算方法"
   ]
  },
  {
   "cell_type": "markdown",
   "metadata": {},
   "source": [
    "### 1. 各階全体の面積等"
   ]
  },
  {
   "cell_type": "markdown",
   "metadata": {},
   "source": [
    "#### 1) 各階の階高"
   ]
  },
  {
   "cell_type": "markdown",
   "metadata": {},
   "source": [
    "各階の階高$H$(m)は次式により表される。"
   ]
  },
  {
   "cell_type": "markdown",
   "metadata": {},
   "source": [
    "$$\n",
    "H = \\frac{H_{total}}{N}\n",
    "$$"
   ]
  },
  {
   "cell_type": "markdown",
   "metadata": {},
   "source": [
    "$H_{total}$: 建物全体の高さ(m)  \n",
    "$N$: 建物の階数  "
   ]
  },
  {
   "cell_type": "code",
   "execution_count": 7,
   "metadata": {
    "collapsed": true
   },
   "outputs": [],
   "source": [
    "def get_H(H_total, N):\n",
    "    return [ H_total / N ] * N"
   ]
  },
  {
   "cell_type": "markdown",
   "metadata": {},
   "source": [
    "#### 計算例"
   ]
  },
  {
   "cell_type": "markdown",
   "metadata": {},
   "source": [
    "建物全体の高さ 9.1 (m), 建物の階数 3階"
   ]
  },
  {
   "cell_type": "code",
   "execution_count": 8,
   "metadata": {
    "collapsed": false
   },
   "outputs": [
    {
     "data": {
      "text/plain": [
       "[3.033333333333333, 3.033333333333333, 3.033333333333333]"
      ]
     },
     "execution_count": 8,
     "metadata": {},
     "output_type": "execute_result"
    }
   ],
   "source": [
    "get_H(9.1,3)"
   ]
  },
  {
   "cell_type": "markdown",
   "metadata": {},
   "source": [
    "#### 2) 専有部の床面積合計(各階)"
   ]
  },
  {
   "cell_type": "markdown",
   "metadata": {},
   "source": [
    "各階の専有部(住戸部）の床面積の合計 $A_{f,h,total}$は次式により表される。  "
   ]
  },
  {
   "cell_type": "markdown",
   "metadata": {},
   "source": [
    "$$ A_{f,h,total} = A_{f,total} - A_{f,c,total} $$"
   ]
  },
  {
   "cell_type": "markdown",
   "metadata": {},
   "source": [
    "$ A_{f,total} $: 各階の床面積の合計(m<sup>2</sup>)  \n",
    "$ A_{f,c,total} $: 各階の共用部、非住宅部の床面積の合計(m<sup>2</sup>)"
   ]
  },
  {
   "cell_type": "code",
   "execution_count": 9,
   "metadata": {
    "collapsed": true
   },
   "outputs": [],
   "source": [
    "def get_A_f_h_total(A_f_total, A_f_c_total):\n",
    "    return [ x - y for (x,y) in zip(A_f_total, A_f_c_total) ]"
   ]
  },
  {
   "cell_type": "markdown",
   "metadata": {},
   "source": [
    "#### 計算例"
   ]
  },
  {
   "cell_type": "markdown",
   "metadata": {},
   "source": [
    "各階の床面積の合計(m<sup>2</sup>)  \n",
    "1階:231.46,2階:222.34,3階:222.34  \n",
    "\n",
    "各階の共用部、非住宅部の床面積の合計(m<sup>2</sup>)  \n",
    "1階:68.82,2階:59.7,3階:59.7"
   ]
  },
  {
   "cell_type": "code",
   "execution_count": 10,
   "metadata": {
    "collapsed": false
   },
   "outputs": [
    {
     "data": {
      "text/plain": [
       "[162.64000000000001, 162.64, 162.64]"
      ]
     },
     "execution_count": 10,
     "metadata": {},
     "output_type": "execute_result"
    }
   ],
   "source": [
    "get_A_f_h_total( [231.46, 222.34, 222.34], [68.82,59.7,59.7] )"
   ]
  },
  {
   "cell_type": "markdown",
   "metadata": {},
   "source": [
    "#### 3) 専有部（住戸部）全体の長辺および短辺の長さ(各階)"
   ]
  },
  {
   "cell_type": "markdown",
   "metadata": {},
   "source": [
    "各階における専有部(住戸部)全体の平面形状は矩形を想定し、その長辺が主方位(主方位+180°)側にあるもとの仮定し、長辺と短辺の長さは次式を連立して求めることとする。"
   ]
  },
  {
   "cell_type": "markdown",
   "metadata": {},
   "source": [
    "$$ l_{1,total} \\ge l_{2,total} $$\n",
    "$$ l_{1,total} \\times l_{2,total} = A_{f,h,total} $$\n",
    "$$ 2 \\times ( l_{1,total} + l_{2,total} ) = L $$"
   ]
  },
  {
   "cell_type": "markdown",
   "metadata": {},
   "source": [
    "これらを連立すると、"
   ]
  },
  {
   "cell_type": "markdown",
   "metadata": {},
   "source": [
    "$$ l_{1,total} = \\frac{ \\frac{L}{2} + \\sqrt{ (\\frac{L}{2})^2 - 4 \\times A_{f,h,total} } }{2} $$"
   ]
  },
  {
   "cell_type": "markdown",
   "metadata": {},
   "source": [
    "$$ l_{2,total} = \\frac{ \\frac{L}{2} - \\sqrt{ (\\frac{L}{2})^2 - 4 \\times A_{f,h,total} } }{2} $$"
   ]
  },
  {
   "cell_type": "markdown",
   "metadata": {},
   "source": [
    "となる。"
   ]
  },
  {
   "cell_type": "markdown",
   "metadata": {},
   "source": [
    "$ A_{f,h,total} $: 各階における専有部(住戸部)の床面積の合計(m<sup>2</sup>)  \n",
    "$ l_{1,total} $: 各階における専有部(住戸部)全体の長辺の長さ(m)  \n",
    "$ l_{2,total} $: 各階における専有部(住戸部)全体の短辺の長さ(m)  \n",
    "$ L_i$: 各階における専有部(住戸部)全体の外皮の周長(m)"
   ]
  },
  {
   "cell_type": "code",
   "execution_count": 11,
   "metadata": {
    "collapsed": true
   },
   "outputs": [],
   "source": [
    "def get_l_1_total(L, A_f_h_total):\n",
    "    return [ ( (l/2) + math.sqrt( (l/2)**2 - 4 * a ) )/2 for (l,a) in zip(L, A_f_h_total) ]"
   ]
  },
  {
   "cell_type": "code",
   "execution_count": 12,
   "metadata": {
    "collapsed": true
   },
   "outputs": [],
   "source": [
    "def get_l_2_total(L, A_f_h_total):\n",
    "    return [ ( (l/2) - math.sqrt( (l/2)**2 - 4 * a ) )/2 for (l,a) in zip(L, A_f_h_total) ]"
   ]
  },
  {
   "cell_type": "markdown",
   "metadata": {},
   "source": [
    "#### 計算例"
   ]
  },
  {
   "cell_type": "markdown",
   "metadata": {},
   "source": [
    "専有部(住戸部)の床面積の合計(m<sup>2</sup>)  \n",
    "1階:66.56, 2階:66.56, 3階:66.56\n",
    "\n",
    "専有部(住戸部)全体の外皮の周長(m)  \n",
    "1階:162.6, 2階:162.6, 3階:162.6"
   ]
  },
  {
   "cell_type": "code",
   "execution_count": 13,
   "metadata": {
    "collapsed": false
   },
   "outputs": [
    {
     "data": {
      "text/plain": [
       "[27.330631412596734, 27.330631412596734, 27.330631412596734]"
      ]
     },
     "execution_count": 13,
     "metadata": {},
     "output_type": "execute_result"
    }
   ],
   "source": [
    "get_l_1_total( [66.56,66.56,66.56], [162.6,162.6,162.6] )"
   ]
  },
  {
   "cell_type": "code",
   "execution_count": 14,
   "metadata": {
    "collapsed": false
   },
   "outputs": [
    {
     "data": {
      "text/plain": [
       "[5.949368587403267, 5.949368587403267, 5.949368587403267]"
      ]
     },
     "execution_count": 14,
     "metadata": {},
     "output_type": "execute_result"
    }
   ],
   "source": [
    "get_l_2_total([ 66.56,66.56,66.56], [162.6,162.6,162.6] )"
   ]
  },
  {
   "cell_type": "markdown",
   "metadata": {},
   "source": [
    "#### 4) 専有部(住戸部)の屋根面積の合計(各階)"
   ]
  },
  {
   "cell_type": "markdown",
   "metadata": {},
   "source": [
    "各階の専有部(住戸部)の屋根面積の合計$A_{r,h,total}$ (m<sup>2</sup>)は次式により表される。"
   ]
  },
  {
   "cell_type": "markdown",
   "metadata": {},
   "source": [
    "$$\n",
    "A_{r,h,total} = \\left\\{\n",
    "    \\begin{array}{ll}\n",
    "        A_{r,h,total,i,input} & (i \\ne N) \\\\\n",
    "        A_{f,h,total,i} & (i = N)\n",
    "    \\end{array}\n",
    "\\right.\n",
    "$$"
   ]
  },
  {
   "cell_type": "markdown",
   "metadata": {},
   "source": [
    "$i$階における専有部（住戸部）の屋根面積の合計は最上階とそれ以外の階に分けて求める。最上階以外は入力値とし、最上階は床面積の合計に等しいものとする。なお、最上階以外に屋根がある場合は、その階の主方位側かつ各住戸に均等に位置するものとする。"
   ]
  },
  {
   "cell_type": "markdown",
   "metadata": {},
   "source": [
    "$N$: 建物の階数(階)  \n",
    "$A_{r,h,total,i}$: $i$階における専有部(住戸部)の屋根面積の合計(m<sup>2</sup>)"
   ]
  },
  {
   "cell_type": "code",
   "execution_count": 15,
   "metadata": {
    "collapsed": false
   },
   "outputs": [],
   "source": [
    "def get_A_r_h_total(A_r_h_total_input, A_f_h_total):\n",
    "    \n",
    "    N = len(A_f_h_total) # 階数\n",
    "    \n",
    "    return [\n",
    "        A_r if idx != N-1 else A_f     # 最上階以外はA_r(屋根)の値、最上階のみA_f(床)の値 (最上階は床面積=屋根面積が自明なため)\n",
    "        for idx,(A_r,A_f) in enumerate(zip(A_r_h_total_input, A_f_h_total))\n",
    "    ]"
   ]
  },
  {
   "cell_type": "markdown",
   "metadata": {},
   "source": [
    "#### 計算例"
   ]
  },
  {
   "cell_type": "markdown",
   "metadata": {},
   "source": [
    "各階(最上階を除く)の屋根面積の合計(m<sup>2</sup>)  \n",
    "1階:0.0, 2階:0.0, 3階:非入力項目\n",
    "\n",
    "専有部(住戸部)の床面積の合計(m<sup>2</sup>)  \n",
    "1階:162.6, 2階:162.6, 3階:162.6"
   ]
  },
  {
   "cell_type": "code",
   "execution_count": 16,
   "metadata": {
    "collapsed": false
   },
   "outputs": [
    {
     "data": {
      "text/plain": [
       "[0.0, 0.0, 162.6]"
      ]
     },
     "execution_count": 16,
     "metadata": {},
     "output_type": "execute_result"
    }
   ],
   "source": [
    "get_A_r_h_total( [0.0, 0.0, None], [162.6, 162.6, 162.6] )"
   ]
  },
  {
   "cell_type": "markdown",
   "metadata": {},
   "source": [
    "#### 5) 専有部(住戸部)の外気に接する床の面積の合計"
   ]
  },
  {
   "cell_type": "markdown",
   "metadata": {},
   "source": [
    "$i$階における専有部(住戸部)の外気に接する床の面積の合計$A_{of,h,total,i}$ (m<sup>2</sup>) は次式により表される。  "
   ]
  },
  {
   "cell_type": "markdown",
   "metadata": {},
   "source": [
    "$$\n",
    "A_{of,h,total,i} = \\left\\{\n",
    "    \\begin{array}{ll}\n",
    "        0 & (i = 1) \\\\\n",
    "        A_{of,h,total,i,input} & (i \\ne 1)\n",
    "    \\end{array}\n",
    "\\right.\n",
    "$$"
   ]
  },
  {
   "cell_type": "markdown",
   "metadata": {},
   "source": [
    "$i$階における専有部(住戸部)の外気に接する床の面積の合計は、1階(最下階)は0とし、1階以外は入力値とする。  \n",
    "なお、最下階以外に外気に接する床がある場合は、その階の主方位側かつ各住戸に均等に位置するものとする。"
   ]
  },
  {
   "cell_type": "markdown",
   "metadata": {},
   "source": [
    "$A_{of,h,total,i}$: $i$階における専有部(住戸部)の外気に接する床の面積の合計(m<sup>2</sup>)"
   ]
  },
  {
   "cell_type": "code",
   "execution_count": 17,
   "metadata": {
    "collapsed": false
   },
   "outputs": [],
   "source": [
    "def get_A_of_h_total(A_of_h_total_input):\n",
    "    \n",
    "    return [\n",
    "        0.0 if idx == 0 else A_of     # 1階部分は0m<sup>2</sup>とする。\n",
    "        for idx, A_of in enumerate(A_of_h_total_input)\n",
    "    ]"
   ]
  },
  {
   "cell_type": "markdown",
   "metadata": {},
   "source": [
    "#### 計算例"
   ]
  },
  {
   "cell_type": "markdown",
   "metadata": {},
   "source": [
    "各階(最下階を除く)の外気床の面積の合計(m<sup>2</sup>)  \n",
    "1階:非入力項目, 2階:5.0, 3階:5.0"
   ]
  },
  {
   "cell_type": "code",
   "execution_count": 18,
   "metadata": {
    "collapsed": false
   },
   "outputs": [
    {
     "data": {
      "text/plain": [
       "[0.0, 5.0, 5.0]"
      ]
     },
     "execution_count": 18,
     "metadata": {},
     "output_type": "execute_result"
    }
   ],
   "source": [
    "get_A_of_h_total([None,5.0,5.0])"
   ]
  },
  {
   "cell_type": "markdown",
   "metadata": {},
   "source": [
    "#### 6) 窓面積の合計"
   ]
  },
  {
   "cell_type": "markdown",
   "metadata": {},
   "source": [
    "各階における方位$j$の窓面積の合計は次式により算出する。なお、主方位を$D0$とし、方位の角度は上から見て時計回りに増加するものとし、$D90$で主方位+90度、$D180$で主方位+180度、$D270$で主方位+270度とする。（以下、同じ）。"
   ]
  },
  {
   "cell_type": "markdown",
   "metadata": {},
   "source": [
    "$$\n",
    "A_{win,h,total,D0} = A_{win,h,total} \\times ( 1 - \\frac{0.24}{n} ) \\times 0.64\n",
    "$$"
   ]
  },
  {
   "cell_type": "markdown",
   "metadata": {},
   "source": [
    "$$\n",
    "A_{win,h,total,D90} = A_{win,h,total} \\times \\frac{0.12}{n}\n",
    "$$"
   ]
  },
  {
   "cell_type": "markdown",
   "metadata": {},
   "source": [
    "$$\n",
    "A_{win,h,total,D180} = A_{win,h,total} \\times ( 1 - \\frac{0.24}{n} ) \\times 0.36\n",
    "$$"
   ]
  },
  {
   "cell_type": "markdown",
   "metadata": {},
   "source": [
    "$$\n",
    "A_{win,h,total,D270} = A_{win,h,total} \\times \\frac{0.12}{n}\n",
    "$$"
   ]
  },
  {
   "cell_type": "markdown",
   "metadata": {},
   "source": [
    "$A_{win,h,total}$: 各階における窓面積の合計(m<sup>2</sup>)  \n",
    "$A_{win,h,total,j}$: 各階における方位$j$の窓面積の合計(m<sup>2</sup>)  \n",
    "$n$: 各階における住戸数(戸)"
   ]
  },
  {
   "cell_type": "code",
   "execution_count": 19,
   "metadata": {
    "collapsed": true
   },
   "outputs": [],
   "source": [
    "def get_A_win_h_total(A_win_h_total,n):\n",
    "    def f(A,n_i):\n",
    "        return Direction( A * (1-0.24/n_i) * 0.64, A * 0.12/n_i, A * (1-0.24/n_i) * 0.36, A * 0.12/n_i )\n",
    "\n",
    "    return [ f(A,n_i) for (A,n_i) in zip(A_win_h_total,n)]"
   ]
  },
  {
   "cell_type": "markdown",
   "metadata": {},
   "source": [
    "#### 計算例"
   ]
  },
  {
   "cell_type": "markdown",
   "metadata": {},
   "source": [
    "各階の窓面積の合計(m<sup>2</sup>)  \n",
    "1階:30.48, 2階:30.64, 3階:30.64\n",
    "\n",
    "各階の住戸数\n",
    "1階:4戸, 2階:4戸, 3階:4戸"
   ]
  },
  {
   "cell_type": "code",
   "execution_count": 20,
   "metadata": {
    "collapsed": false
   },
   "outputs": [
    {
     "data": {
      "text/plain": [
       "[Direction(D0=18.336768, D90=0.9144, D180=10.314432, D270=0.9144),\n",
       " Direction(D0=18.433024, D90=0.9192, D180=10.368576, D270=0.9192),\n",
       " Direction(D0=18.433024, D90=0.9192, D180=10.368576, D270=0.9192)]"
      ]
     },
     "execution_count": 20,
     "metadata": {},
     "output_type": "execute_result"
    }
   ],
   "source": [
    "get_A_win_h_total([30.48,30.64,30.64],[4,4,4])"
   ]
  },
  {
   "cell_type": "markdown",
   "metadata": {},
   "source": [
    "### 2. 各階における各住戸の面積等"
   ]
  },
  {
   "cell_type": "markdown",
   "metadata": {},
   "source": [
    "#### 1) 屋根の面積"
   ]
  },
  {
   "cell_type": "markdown",
   "metadata": {},
   "source": [
    "各階における各住戸の屋根面積$A_{r,h}$(m<sup>2</sup>)は次式により算出する。"
   ]
  },
  {
   "cell_type": "markdown",
   "metadata": {},
   "source": [
    "$$\n",
    "A_{r,h} = \\frac{A_{r,h,total}}{n}\n",
    "$$"
   ]
  },
  {
   "cell_type": "markdown",
   "metadata": {},
   "source": [
    "$A_{r,h}$: 各階における各住戸の屋根面積 (m<sup>2</sup>)  \n",
    "$A_{r,h,total}$: 各階における専有部(住戸部)全体の屋根面積の合計 (m<sup>2</sup>)  \n",
    "$n$: 各階における住戸数 (戸)"
   ]
  },
  {
   "cell_type": "code",
   "execution_count": 21,
   "metadata": {
    "collapsed": true
   },
   "outputs": [],
   "source": [
    "def get_A_r_h(A_r_h_total, n):\n",
    "    return [ [A_r_h_total_i / n_i] * n_i for (A_r_h_total_i, n_i) in zip(A_r_h_total, n) ]"
   ]
  },
  {
   "cell_type": "markdown",
   "metadata": {},
   "source": [
    "#### 計算例"
   ]
  },
  {
   "cell_type": "markdown",
   "metadata": {},
   "source": [
    "専有部(住戸部)の屋根面積の合計(m<sup>2</sup>)\n",
    "1階:0.0, 2階:0.0, 3階:162.6\n",
    "\n",
    "各階の住戸数  \n",
    "1階:4, 2階:4, 3階:4, "
   ]
  },
  {
   "cell_type": "code",
   "execution_count": 22,
   "metadata": {
    "collapsed": false
   },
   "outputs": [
    {
     "data": {
      "text/plain": [
       "[[0.0, 0.0, 0.0, 0.0], [0.0, 0.0, 0.0, 0.0], [40.65, 40.65, 40.65, 40.65]]"
      ]
     },
     "execution_count": 22,
     "metadata": {},
     "output_type": "execute_result"
    }
   ],
   "source": [
    "get_A_r_h([0.0,0.0,162.6],[4,4,4])"
   ]
  },
  {
   "cell_type": "markdown",
   "metadata": {},
   "source": [
    "#### 2) 窓の面積"
   ]
  },
  {
   "cell_type": "markdown",
   "metadata": {},
   "source": [
    "各階の各方位における各住戸の窓面積$A_{win,h,D0,k}$, $A_{win,h,D90,k}$, $A_{win,h,D180,k}$, $A_{win,h,D270,k}$は、住戸位置ごとに次式により算出する。"
   ]
  },
  {
   "cell_type": "markdown",
   "metadata": {},
   "source": [
    "$$\n",
    "A_{win,h,D0,k} = \\frac{ A_{win,h,total,D0} } { n }\n",
    "$$"
   ]
  },
  {
   "cell_type": "markdown",
   "metadata": {},
   "source": [
    "$$\n",
    "A_{win,h,D90,k} = \\left\\{\n",
    "    \\begin{array}{ll}\n",
    "        A_{win,h,total,D90} & (k=1) \\\\\n",
    "        0 & (k \\ne 1)\n",
    "    \\end{array}\n",
    "\\right.\n",
    "$$"
   ]
  },
  {
   "cell_type": "markdown",
   "metadata": {},
   "source": [
    "$$\n",
    "A_{win,h,D180,k} = \\frac{ A_{win,h,total,D180} } { n }\n",
    "$$"
   ]
  },
  {
   "cell_type": "markdown",
   "metadata": {},
   "source": [
    "$$\n",
    "A_{win,h,D270,k} = \\left\\{\n",
    "    \\begin{array}{ll}\n",
    "        A_{win,h,total,D270} & (k=n) \\\\\n",
    "        0 & (k \\ne n)\n",
    "    \\end{array}\n",
    "\\right.\n",
    "$$"
   ]
  },
  {
   "cell_type": "markdown",
   "metadata": {},
   "source": [
    "$A_{win,h,D0,k}$: 各階における住戸kの主方位の窓面積(m<sup>2</sup>)  \n",
    "$A_{win,h,D90,k}$: 各階における住戸kの主方位+90°の窓面積(m<sup>2</sup>)  \n",
    "$A_{win,h,D180,k}$: 各階における住戸kの主方位+180°の窓面積(m<sup>2</sup>)  \n",
    "$A_{win,h,D270,k}$: 各階における住戸kの主方位+270°の窓面積(m<sup>2</sup>)  \n",
    "$A_{win,h,total,D0}$: 各階における主方位の窓面積の合計(m<sup>2</sup>)  \n",
    "$A_{win,h,total,D90}$: 各階における主方位+90°の窓面積の合計(m<sup>2</sup>)  \n",
    "$A_{win,h,total,D180}$: 各階における主方位+180°の窓面積の合計(m<sup>2</sup>)  \n",
    "$A_{win,h,total,D270}$: 各階における主方位+270°の窓面積の合計(m<sup>2</sup>)  "
   ]
  },
  {
   "cell_type": "code",
   "execution_count": 23,
   "metadata": {
    "collapsed": false
   },
   "outputs": [],
   "source": [
    "def get_A_win_h(A_win_h_total, n):\n",
    "    def f(A_win_h_total_i, n_i):\n",
    "        return [ Direction ( A_win_h_total_i[0] / n_i,\n",
    "                             A_win_h_total_i[1] if k == 0 else 0,\n",
    "                             A_win_h_total_i[2] / n_i,\n",
    "                             A_win_h_total_i[3] if k == n_i-1 else 0\n",
    "                           ) for k in range(n_i) ]\n",
    "    return [ f(A_win_h_total_i, n_i) for (A_win_h_total_i, n_i) in zip(A_win_h_total, n) ]"
   ]
  },
  {
   "cell_type": "markdown",
   "metadata": {},
   "source": [
    "#### 計算例"
   ]
  },
  {
   "cell_type": "markdown",
   "metadata": {},
   "source": [
    "各階における窓面積の合計(m<sup>2</sup>)  \n",
    "1階: 主方位+0°:18.336768, 主方位+90°: 0.9144, 主方位+180°: 10.314432, 主方位+270°: 0.9144  \n",
    "2階: 主方位+0°:18.433024, 主方位+90°: 0.9192, 主方位+180°: 10.368576, 主方位+270°: 0.9192\n",
    "3階: 主方位+0°:18.433024, 主方位+90°: 0.9192, 主方位+180°: 10.368576, 主方位+270°: 0.9192\n",
    "\n",
    "各階における住戸数\n",
    "1階:4, 2階:4, 3階:4"
   ]
  },
  {
   "cell_type": "code",
   "execution_count": 24,
   "metadata": {
    "collapsed": false
   },
   "outputs": [
    {
     "data": {
      "text/plain": [
       "[[Direction(D0=4.584192, D90=0.9144, D180=2.578608, D270=0),\n",
       "  Direction(D0=4.584192, D90=0, D180=2.578608, D270=0),\n",
       "  Direction(D0=4.584192, D90=0, D180=2.578608, D270=0),\n",
       "  Direction(D0=4.584192, D90=0, D180=2.578608, D270=0.9144)],\n",
       " [Direction(D0=4.608256, D90=0.9192, D180=2.592144, D270=0),\n",
       "  Direction(D0=4.608256, D90=0, D180=2.592144, D270=0),\n",
       "  Direction(D0=4.608256, D90=0, D180=2.592144, D270=0),\n",
       "  Direction(D0=4.608256, D90=0, D180=2.592144, D270=0.9192)],\n",
       " [Direction(D0=4.608256, D90=0.9192, D180=2.592144, D270=0),\n",
       "  Direction(D0=4.608256, D90=0, D180=2.592144, D270=0),\n",
       "  Direction(D0=4.608256, D90=0, D180=2.592144, D270=0),\n",
       "  Direction(D0=4.608256, D90=0, D180=2.592144, D270=0.9192)]]"
      ]
     },
     "execution_count": 24,
     "metadata": {},
     "output_type": "execute_result"
    }
   ],
   "source": [
    "get_A_win_h([[18.336768, 0.9144, 10.314432, 0.9144], [18.433024, 0.9192, 10.368576, 0.9192], [18.433024, 0.9192, 10.368576, 0.9192]],[4,4,4])"
   ]
  },
  {
   "cell_type": "markdown",
   "metadata": {},
   "source": [
    "### 3) 玄関ドアの面積"
   ]
  },
  {
   "cell_type": "markdown",
   "metadata": {},
   "source": [
    "各階の各住戸の各方位における玄関ドアの面積$A_{door,h,D0}$, $A_{door,h,D90}$, $A_{door,h,D180}$, $A_{door,h,D270}$ (m<sup>2</sup>)は次式により算出する。"
   ]
  },
  {
   "cell_type": "markdown",
   "metadata": {},
   "source": [
    "$$\n",
    "A_{door,h,D0} = 0\n",
    "$$"
   ]
  },
  {
   "cell_type": "markdown",
   "metadata": {},
   "source": [
    "$$\n",
    "A_{door,h,D90} = 0\n",
    "$$"
   ]
  },
  {
   "cell_type": "markdown",
   "metadata": {},
   "source": [
    "$$\n",
    "A_{door,h,D180} = 1.6\n",
    "$$"
   ]
  },
  {
   "cell_type": "markdown",
   "metadata": {},
   "source": [
    "$$\n",
    "A_{door,h,D270} = 0\n",
    "$$"
   ]
  },
  {
   "cell_type": "markdown",
   "metadata": {},
   "source": [
    "$A_{door,h}$: 各階における各住戸の玄関ドアの面積(m<sup>2</sup>)"
   ]
  },
  {
   "cell_type": "code",
   "execution_count": 25,
   "metadata": {
    "collapsed": true
   },
   "outputs": [],
   "source": [
    "def get_A_door_h(n):\n",
    "    return [ [ Direction ( 0.0,0.0,1.6,0.0) for k in range(n_i) ] for n_i in n ]"
   ]
  },
  {
   "cell_type": "markdown",
   "metadata": {},
   "source": [
    "#### 計算例"
   ]
  },
  {
   "cell_type": "markdown",
   "metadata": {},
   "source": [
    "各階の住戸数  \n",
    "1階:4, 2階:4, 3階:4"
   ]
  },
  {
   "cell_type": "code",
   "execution_count": 26,
   "metadata": {
    "collapsed": false
   },
   "outputs": [
    {
     "data": {
      "text/plain": [
       "[[Direction(D0=0.0, D90=0.0, D180=1.6, D270=0.0),\n",
       "  Direction(D0=0.0, D90=0.0, D180=1.6, D270=0.0),\n",
       "  Direction(D0=0.0, D90=0.0, D180=1.6, D270=0.0),\n",
       "  Direction(D0=0.0, D90=0.0, D180=1.6, D270=0.0)],\n",
       " [Direction(D0=0.0, D90=0.0, D180=1.6, D270=0.0),\n",
       "  Direction(D0=0.0, D90=0.0, D180=1.6, D270=0.0),\n",
       "  Direction(D0=0.0, D90=0.0, D180=1.6, D270=0.0),\n",
       "  Direction(D0=0.0, D90=0.0, D180=1.6, D270=0.0)],\n",
       " [Direction(D0=0.0, D90=0.0, D180=1.6, D270=0.0),\n",
       "  Direction(D0=0.0, D90=0.0, D180=1.6, D270=0.0),\n",
       "  Direction(D0=0.0, D90=0.0, D180=1.6, D270=0.0),\n",
       "  Direction(D0=0.0, D90=0.0, D180=1.6, D270=0.0)]]"
      ]
     },
     "execution_count": 26,
     "metadata": {},
     "output_type": "execute_result"
    }
   ],
   "source": [
    "get_A_door_h([4,4,4])"
   ]
  },
  {
   "cell_type": "markdown",
   "metadata": {},
   "source": [
    "### 4) 外壁の面積"
   ]
  },
  {
   "cell_type": "markdown",
   "metadata": {},
   "source": [
    "各階の住戸$k$の各方位における外壁面積$A_{ow,h,k,D0}$, $A_{ow,h,k,D90}$, $A_{ow,h,k,D180}$, $A_{ow,h,k,D270}$は、住戸位置ごとに次式により算出する。なお、主方位+180°に玄関前を想定した窪み(幅1m、奥行き1m)を想定する。"
   ]
  },
  {
   "cell_type": "markdown",
   "metadata": {},
   "source": [
    "$$\n",
    "A_{ow,h,k,D0} = \\frac{ l_{1,total} }{ n } \\times H -  A_{win,h,D0} - A_{door,h,D0}\n",
    "$$"
   ]
  },
  {
   "cell_type": "markdown",
   "metadata": {},
   "source": [
    "$$\n",
    "A_{ow,h,k,D90} = \\left\\{\n",
    "    \\begin{array}{ll}\n",
    "        ( l_{2,total} + 1 ) \\times H - A_{win,h,k,D90} - A_{door,h,D90} & (k=1) \\\\\n",
    "        1 \\times H - A_{win,h,k,D90} - A_{door,h,D90} & (k \\ne 1)\n",
    "    \\end{array}\n",
    "\\right.\n",
    "$$"
   ]
  },
  {
   "cell_type": "markdown",
   "metadata": {},
   "source": [
    "$$\n",
    "A_{ow,h,k,D180} = \\frac{ l_{1,total} }{ n } \\times H -  A_{win,h,D180} - A_{door,h,D180}\n",
    "$$"
   ]
  },
  {
   "cell_type": "markdown",
   "metadata": {},
   "source": [
    "$$\n",
    "A_{ow,h,k,D270} = \\left\\{\n",
    "    \\begin{array}{ll}\n",
    "        ( l_{2,total} + 1 ) \\times H - A_{win,h,k,D270} - A_{door,h,D270} & (k=n) \\\\\n",
    "        1 \\times H - A_{win,h,k,D270} - A_{door,h,D270} & (k \\ne n)\n",
    "    \\end{array}\n",
    "\\right.\n",
    "$$"
   ]
  },
  {
   "cell_type": "markdown",
   "metadata": {},
   "source": [
    "$A_{ow,h,k,D0}$: 各階の各住戸における主方位の外壁面積 (m<sup>2</sup>)  \n",
    "$A_{ow,h,k,D90}$: 各階の各住戸における主方位+90°の外壁面積 (m<sup>2</sup>)  \n",
    "$A_{ow,h,k,D180}$: 各階の各住戸における主方位+180°の外壁面積 (m<sup>2</sup>)  \n",
    "$A_{ow,h,k,D270}$: 各階の各住戸における主方位+270°の外壁面積 (m<sup>2</sup>)  \n",
    "$l_{1,total}$: 各階における専有部(住戸部)全体の長辺の長さ (m)  \n",
    "$l_{2,total}$: 各階における専有部(住戸部)全体の短辺の長さ (m)  \n",
    "$n$: 各階における住戸数 (戸)  \n",
    "$H$: 各階の階高 (m)  \n",
    "$A_{win,h,D0}$: 各階の各住戸における主方位の窓面積 (m<sup>2</sup>)  \n",
    "$A_{win,h,i,D90}$: 各階の各住戸における主方位+90°の窓面積 (m<sup>2</sup>)  \n",
    "$A_{win,h,i,D180}$: 各階の各住戸における主方位+180°の窓面積 (m<sup>2</sup>)  \n",
    "$A_{win,h,i,D270}$: 各階の各住戸における主方位+270°の窓面積 (m<sup>2</sup>)  \n",
    "$A_{door,h,i,D180}$: 各階の各住戸における玄関ドアの面積 (m<sup>2</sup>)"
   ]
  },
  {
   "cell_type": "code",
   "execution_count": 27,
   "metadata": {
    "collapsed": true
   },
   "outputs": [],
   "source": [
    "def get_A_ow_h(l_1_total,l_2_total,H,n,A_win_h,A_door_h):\n",
    "    def f( l_1_total_i, l_2_total_i, H_i,n_i, A_win_h_i, A_door_h_i ):\n",
    "        return [ Direction ( l_1_total_i / n_i * H_i - A_win_h_i[k].D0 - A_door_h_i[k].D0,\n",
    "                             ( ( l_2_total_i + 1 ) * H_i if k == 0 else 1 * H_i ) -  A_win_h_i[k].D90 - A_door_h_i[k].D90,\n",
    "                             l_1_total_i / n_i * H_i  - A_win_h_i[k].D180 - A_door_h_i[k].D180,\n",
    "                             ( ( l_2_total_i + 1 ) * H_i if k == n_i-1 else 1 * H_i ) - A_win_h_i[k].D270 - A_door_h_i[k].D270\n",
    "                           ) for k in range(n_i) ]\n",
    "    return [ f( l_1_total_i, l_2_total_i, H_i, n_i, A_win_h_i, A_door_h_i )\n",
    "            for ( l_1_total_i, l_2_total_i, H_i, n_i, A_win_h_i, A_door_h_i )\n",
    "            in zip(l_1_total, l_2_total, H, n, A_win_h, A_door_h) ]    "
   ]
  },
  {
   "cell_type": "markdown",
   "metadata": {},
   "source": [
    "#### 計算例"
   ]
  },
  {
   "cell_type": "markdown",
   "metadata": {},
   "source": [
    "専有部(住戸部)全体の長辺の長さ 1～3階: 27.33 (m)  \n",
    "専有部(住戸部)全体の短辺の長さ 1～3階: 5.95 (m)  \n",
    "各階の住戸数 1～3階: 4住戸  \n",
    "各階の各住戸の窓面積 (m<sup>2</sup>)  \n",
    " 主方位+0°  : 4.584192  \n",
    " 主方位+90° : 主方位+90°壁を有する妻側住戸のみ 0.9144 / それ以外の住戸 0.0  \n",
    " 主方位+180°: 2.578608  \n",
    " 主方位+270°: 主方位+90°壁を有する妻側住戸のみ 0.9144 / それ以外の住戸 0.0  \n",
    "各階の各住戸のドア面積 (m<sup>2</sup>)  \n",
    "主方位+270°のみ 1.8, それ以外 0.0"
   ]
  },
  {
   "cell_type": "code",
   "execution_count": 28,
   "metadata": {
    "collapsed": false
   },
   "outputs": [
    {
     "data": {
      "text/plain": [
       "[[Direction(D0=16.118282999999998, D90=20.144099999999998, D180=16.323866999999996, D270=3.03),\n",
       "  Direction(D0=16.118282999999998, D90=3.03, D180=16.323866999999996, D270=3.03),\n",
       "  Direction(D0=16.118282999999998, D90=3.03, D180=16.323866999999996, D270=3.03),\n",
       "  Direction(D0=16.118282999999998, D90=3.03, D180=16.323866999999996, D270=20.144099999999998)],\n",
       " [Direction(D0=16.118282999999998, D90=20.144099999999998, D180=16.323866999999996, D270=3.03),\n",
       "  Direction(D0=16.118282999999998, D90=3.03, D180=16.323866999999996, D270=3.03),\n",
       "  Direction(D0=16.118282999999998, D90=3.03, D180=16.323866999999996, D270=3.03),\n",
       "  Direction(D0=16.118282999999998, D90=3.03, D180=16.323866999999996, D270=20.144099999999998)],\n",
       " [Direction(D0=16.118282999999998, D90=20.144099999999998, D180=16.323866999999996, D270=3.03),\n",
       "  Direction(D0=16.118282999999998, D90=3.03, D180=16.323866999999996, D270=3.03),\n",
       "  Direction(D0=16.118282999999998, D90=3.03, D180=16.323866999999996, D270=3.03),\n",
       "  Direction(D0=16.118282999999998, D90=3.03, D180=16.323866999999996, D270=20.144099999999998)]]"
      ]
     },
     "execution_count": 28,
     "metadata": {},
     "output_type": "execute_result"
    }
   ],
   "source": [
    "get_A_ow_h([27.33,27.33,27.33],[5.95,5.95,5.95],[3.03,3.03,3.03],[4,4,4],\n",
    "           [ [ Direction(4.584192, 0.9144, 2.578608, 0.0   ),\n",
    "               Direction(4.584192, 0.0,    2.578608, 0.0   ),\n",
    "               Direction(4.584192, 0.0,    2.578608, 0.0   ),\n",
    "               Direction(4.584192, 0.0,    2.578608, 0.9144) ],\n",
    "             [ Direction(4.584192, 0.9144, 2.578608, 0.0   ),\n",
    "               Direction(4.584192, 0.0,    2.578608, 0.0   ),\n",
    "               Direction(4.584192, 0.0,    2.578608, 0.0   ),\n",
    "               Direction(4.584192, 0.0,    2.578608, 0.9144) ],\n",
    "             [ Direction(4.584192, 0.9144, 2.578608, 0.0   ),\n",
    "               Direction(4.584192, 0.0,    2.578608, 0.0   ),\n",
    "               Direction(4.584192, 0.0,    2.578608, 0.0   ),\n",
    "               Direction(4.584192, 0.0,    2.578608, 0.9144) ] ],\n",
    "           [ [ Direction(0.0, 0.0, 1.8, 0.0),\n",
    "               Direction(0.0, 0.0, 1.8, 0.0),\n",
    "               Direction(0.0, 0.0, 1.8, 0.0), \n",
    "               Direction(0.0, 0.0, 1.8, 0.0) ],\n",
    "             [ Direction(0.0, 0.0, 1.8, 0.0),\n",
    "               Direction(0.0, 0.0, 1.8, 0.0),\n",
    "               Direction(0.0, 0.0, 1.8, 0.0), \n",
    "               Direction(0.0, 0.0, 1.8, 0.0) ],\n",
    "             [ Direction(0.0, 0.0, 1.8, 0.0),\n",
    "               Direction(0.0, 0.0, 1.8, 0.0),\n",
    "               Direction(0.0, 0.0, 1.8, 0.0), \n",
    "               Direction(0.0, 0.0, 1.8, 0.0) ] ] )"
   ]
  },
  {
   "cell_type": "markdown",
   "metadata": {},
   "source": [
    "### 5) 外気に接する床の面積"
   ]
  },
  {
   "cell_type": "markdown",
   "metadata": {},
   "source": [
    "階$i$の各住戸における外気に接する床の面積$A_{of,h,i}$(m<sup>2</sup>)は次式により算出する。"
   ]
  },
  {
   "cell_type": "markdown",
   "metadata": {},
   "source": [
    "$$\n",
    "A_{of,h,i} = \\left\\{\n",
    "    \\begin{array}{ll}\n",
    "        0 & ( i = 1 ) \\\\\n",
    "        \\frac{ A_{of,h,total,i} }{ n_i } & ( i \\ge 2 )\n",
    "    \\end{array}\n",
    "\\right.\n",
    "$$"
   ]
  },
  {
   "cell_type": "markdown",
   "metadata": {},
   "source": [
    "$A_{of,h,i}$: 階$i$の各住戸における外気に接する床の面積 (m<sup>2</sup>)  \n",
    "$A_{of,h,total,i}$: 階$i$における専有部（住戸部）の外気に接する床の面積の合計 (m<sup>2</sup>)  \n",
    "$n_i$: 階$i$における住戸数 (戸)"
   ]
  },
  {
   "cell_type": "code",
   "execution_count": 29,
   "metadata": {
    "collapsed": true
   },
   "outputs": [],
   "source": [
    "def get_A_of_h(A_of_h_total,n):\n",
    "    return [ [ A_of_h_total_i / n_i ] * n_i for ( A_of_h_total_i, n_i ) in zip( A_of_h_total, n ) ]"
   ]
  },
  {
   "cell_type": "markdown",
   "metadata": {},
   "source": [
    "#### 計算例"
   ]
  },
  {
   "cell_type": "markdown",
   "metadata": {},
   "source": [
    "専有部(住戸部)の外気床面積の合計 1階:0.0, 2階:2.0, 3階:2.0 (m<sup>2</sup>)  \n",
    "各階の住戸数: 1～4階: 4 住戸"
   ]
  },
  {
   "cell_type": "code",
   "execution_count": 30,
   "metadata": {
    "collapsed": false
   },
   "outputs": [
    {
     "data": {
      "text/plain": [
       "[[0.0, 0.0, 0.0, 0.0], [0.5, 0.5, 0.5, 0.5], [0.5, 0.5, 0.5, 0.5]]"
      ]
     },
     "execution_count": 30,
     "metadata": {},
     "output_type": "execute_result"
    }
   ],
   "source": [
    "get_A_of_h([0.0,2.0,2.0],[4,4,4])"
   ]
  },
  {
   "cell_type": "markdown",
   "metadata": {},
   "source": [
    "### 6) 界壁の面積"
   ]
  },
  {
   "cell_type": "markdown",
   "metadata": {},
   "source": [
    "各階の住戸$k$の界壁面積$A_{iw,h,k}$(m<sup>2</sup>)は次式により算出する。"
   ]
  },
  {
   "cell_type": "markdown",
   "metadata": {},
   "source": [
    "$ n = 1 $ (各階に1住戸しかない場合)の場合、"
   ]
  },
  {
   "cell_type": "markdown",
   "metadata": {},
   "source": [
    "$$\n",
    "A_{iw,h,k} = 0.0\n",
    "$$"
   ]
  },
  {
   "cell_type": "markdown",
   "metadata": {},
   "source": [
    "$ n > 1 $ の場合、"
   ]
  },
  {
   "cell_type": "markdown",
   "metadata": {},
   "source": [
    "$$\n",
    "A_{iw,h,k} = \\left\\{\n",
    "    \\begin{array}{ll}\n",
    "        l_{2,total} \\times H & ( k = 1 ) \\\\\n",
    "        l_{2,total} \\times H \\times 2 & ( (k \\ne 1) \\& (k \\ne n) ) \\\\\n",
    "        l_{2,total} \\times H & ( k = n )\n",
    "    \\end{array}\n",
    "\\right.\n",
    "$$"
   ]
  },
  {
   "cell_type": "markdown",
   "metadata": {},
   "source": [
    "$n$: 各階における住戸数(戸)  \n",
    "$A_{iw,h,k}$: 各階の住戸$k$における界壁の面積 (m<sup>2</sup>)  \n",
    "$l_{2,total}$: 各階における専有部(住戸部)全体の短辺の長さ (m)  \n",
    "$H$: 各階の階高 (m)"
   ]
  },
  {
   "cell_type": "code",
   "execution_count": 31,
   "metadata": {
    "collapsed": false
   },
   "outputs": [],
   "source": [
    "def get_A_iw_h(l_2_total, H, n):\n",
    "    def f(l_2_total_i, H_i, n_i, k):\n",
    "        if k == 0:\n",
    "            return l_2_total_i * H_i\n",
    "        elif k == n_i - 1:\n",
    "            return l_2_total_i * H_i\n",
    "        else:\n",
    "            return l_2_total_i * H_i * 2\n",
    "    return [ [0.0] if n_i == 1 else [ f(l_2_total_i, H_i, n_i, k)  for k in range(n_i) ]\n",
    "             for (l_2_total_i, H_i, n_i) in zip(l_2_total, H, n) ]"
   ]
  },
  {
   "cell_type": "markdown",
   "metadata": {},
   "source": [
    "#### 計算例"
   ]
  },
  {
   "cell_type": "markdown",
   "metadata": {},
   "source": [
    "各階における専有部(住戸部)全体の短辺の長さ 6.0 (m)  \n",
    "各階の階高 3.0 (m)  \n",
    "各階における住戸数 4 (戸)"
   ]
  },
  {
   "cell_type": "code",
   "execution_count": 32,
   "metadata": {
    "collapsed": false
   },
   "outputs": [
    {
     "data": {
      "text/plain": [
       "[[18.0, 36.0, 36.0, 18.0], [18.0, 36.0, 36.0, 18.0], [18.0, 36.0, 36.0, 18.0]]"
      ]
     },
     "execution_count": 32,
     "metadata": {},
     "output_type": "execute_result"
    }
   ],
   "source": [
    "get_A_iw_h([6.0,6.0,6.0], [3.0,3.0,3.0], [4,4,4,4])"
   ]
  },
  {
   "cell_type": "markdown",
   "metadata": {},
   "source": [
    "各階における専有部(住戸部)全体の短辺の長さ 6.0 (m)  \n",
    "各階の階高 3.0 (m)  \n",
    "各階における住戸数 1 (戸)"
   ]
  },
  {
   "cell_type": "code",
   "execution_count": 33,
   "metadata": {
    "collapsed": false
   },
   "outputs": [
    {
     "data": {
      "text/plain": [
       "[[0.0], [0.0], [0.0]]"
      ]
     },
     "execution_count": 33,
     "metadata": {},
     "output_type": "execute_result"
    }
   ],
   "source": [
    "get_A_iw_h([6.0,6.0,6.0], [3.0,3.0,3.0], [1,1,1,1])"
   ]
  },
  {
   "cell_type": "markdown",
   "metadata": {},
   "source": [
    "### 7) 界床の面積"
   ]
  },
  {
   "cell_type": "markdown",
   "metadata": {},
   "source": [
    "階$i$の各住戸における界床の面積$A_{if,h,i}$ (m<sup>2</sup>) は、次式により算出する。"
   ]
  },
  {
   "cell_type": "markdown",
   "metadata": {},
   "source": [
    "$$\n",
    "A_{if,h,i} = \\left\\{\n",
    "    \\begin{array}{ll}\n",
    "        0 & (i=1)\\\\\n",
    "        \\frac{ A_{f,h,total,i} }{ n_i } - A_{of,h,i} & ( i \\ge 2 )\n",
    "    \\end{array}\n",
    "\\right.\n",
    "$$"
   ]
  },
  {
   "cell_type": "markdown",
   "metadata": {},
   "source": [
    "$A_{if,h,i}$: 階$i$の各住戸における界床面積 (m<sup>2</sup>)  \n",
    "$A_{f,h,total,i}$: 階$i$の専有部(住戸部)の床面積の合計 (m<sup>2</sup>)  \n",
    "$A_{of,h,i}$: 階$i$の各住戸における外気に接する床の面積 (m<sup>2</sup>)  \n",
    "$n_i$: 階$i$における住戸数(戸)"
   ]
  },
  {
   "cell_type": "code",
   "execution_count": 34,
   "metadata": {
    "collapsed": false
   },
   "outputs": [],
   "source": [
    "def get_A_if_h(A_f_h_total, A_of_h, n):\n",
    "    def f(A_f_h_total_i, A_of_h_i, n_i):\n",
    "        return [ x - y for (x,y) in zip( [ A_f_h_total_i / n_i ] * n_i, A_of_h_i ) ]\n",
    "    return [ [0.0] * n_i if i == 0 else f(A_f_h_total_i, A_of_h_i, n_i)\n",
    "             for ( i, (A_f_h_total_i, A_of_h_i, n_i) ) in enumerate(zip(A_f_h_total, A_of_h, n)) ]"
   ]
  },
  {
   "cell_type": "markdown",
   "metadata": {},
   "source": [
    "#### 計算例"
   ]
  },
  {
   "cell_type": "markdown",
   "metadata": {},
   "source": [
    "各階の専有部(住戸部)の床面積の合計 1階: 162.6, 2階: 162.6, 3階: 162.6 (m<sup>2</sup>)  \n",
    "各階の各住戸における外気に接する床の面積 全ての住戸で 0.0 (m<sup>2</sup>)  \n",
    "各階における住戸数 1～3階: 4(戸)"
   ]
  },
  {
   "cell_type": "code",
   "execution_count": 35,
   "metadata": {
    "collapsed": false
   },
   "outputs": [
    {
     "data": {
      "text/plain": [
       "[[0.0, 0.0, 0.0, 0.0],\n",
       " [40.65, 40.65, 40.65, 40.65],\n",
       " [40.65, 40.65, 40.65, 40.65]]"
      ]
     },
     "execution_count": 35,
     "metadata": {},
     "output_type": "execute_result"
    }
   ],
   "source": [
    "get_A_if_h([162.6, 162.6, 162.6],[[0.0, 0.0, 0.0, 0.0], [0.0, 0.0, 0.0, 0.0], [0.0, 0.0, 0.0, 0.0]], [4,4,4])"
   ]
  },
  {
   "cell_type": "markdown",
   "metadata": {},
   "source": [
    "### 8) 界天井の面積"
   ]
  },
  {
   "cell_type": "markdown",
   "metadata": {},
   "source": [
    "階$i$の各住戸における界天井の面積$A_{ic,h,i}$ (m<sup>2</sup>) は、次式により算出する。"
   ]
  },
  {
   "cell_type": "markdown",
   "metadata": {},
   "source": [
    "$$\n",
    "A_{ic,h,i} = \\left\\{\n",
    "    \\begin{array}{ll}\n",
    "        0 & (i=N)\\\\\n",
    "        \\frac{ A_{f,h,total,i} }{ n_i } - A_{r,h,i} & ( i < N )\n",
    "    \\end{array}\n",
    "\\right.\n",
    "$$"
   ]
  },
  {
   "cell_type": "markdown",
   "metadata": {},
   "source": [
    "$N$: 建物の階数(階)  \n",
    "$A_{ic,h,i}$: 階$i$の各住戸における界天井の面積 (m<sup>2</sup>)  \n",
    "$A_{f,h,total,i}$: 階$i$の専有部(住戸部)の床面積の合計 (m<sup>2</sup>)  \n",
    "$A_{r,h,i}$: 階$i$の各住戸における外気に接する屋根の面積 (m<sup>2</sup>)  \n",
    "$n_i$: 階$i$における住戸数(戸)"
   ]
  },
  {
   "cell_type": "code",
   "execution_count": 36,
   "metadata": {
    "collapsed": true
   },
   "outputs": [],
   "source": [
    "def get_A_ic_h(A_f_h_total, A_r_h, n):\n",
    "    def f(A_f_h_total_i, A_r_h_i, n_i):\n",
    "        return [ x - y for (x,y) in zip( [A_f_h_total_i / n_i] * n_i, A_r_h_i )]\n",
    "    return [\n",
    "        [0.0] * n_i if i == len(A_f_h_total) - 1 else f(A_f_h_total_i, A_r_h_i, n_i)\n",
    "        for ( i, (A_f_h_total_i, A_r_h_i, n_i) ) in enumerate(zip(A_f_h_total, A_r_h, n))\n",
    "    ]"
   ]
  },
  {
   "cell_type": "markdown",
   "metadata": {},
   "source": [
    "#### 計算例"
   ]
  },
  {
   "cell_type": "markdown",
   "metadata": {},
   "source": [
    "各階の専有部(住戸部)の床面積の合計 1階: 162.6, 2階: 162.6, 3階: 162.6 (m<sup>2</sup>)  \n",
    "各階の各住戸における外気に接する屋根の面積 1～2階: 0.0, 3階: 40.7 (m<sup>2</sup>)  \n",
    "各階における住戸数 1～3階: 4(戸)"
   ]
  },
  {
   "cell_type": "code",
   "execution_count": 37,
   "metadata": {
    "collapsed": false
   },
   "outputs": [
    {
     "data": {
      "text/plain": [
       "[[40.65, 40.65, 40.65, 40.65],\n",
       " [40.65, 40.65, 40.65, 40.65],\n",
       " [0.0, 0.0, 0.0, 0.0]]"
      ]
     },
     "execution_count": 37,
     "metadata": {},
     "output_type": "execute_result"
    }
   ],
   "source": [
    "get_A_ic_h([162.6, 162.6, 162.6],[[0.0, 0.0, 0.0, 0.0], [0.0, 0.0, 0.0, 0.0], [40.7, 40.7, 40.7, 40.7]], [4,4,4])"
   ]
  },
  {
   "cell_type": "markdown",
   "metadata": {},
   "source": [
    "### 9) 床下に面する床面積"
   ]
  },
  {
   "cell_type": "markdown",
   "metadata": {},
   "source": [
    "階$i$の各住戸における床下に面する床面積$A_{csf,h,i}$ (m<sup>2</sup>) は、次式により算出する。"
   ]
  },
  {
   "cell_type": "markdown",
   "metadata": {},
   "source": [
    "$$\n",
    "A_{csf,h,i} = \\left\\{\n",
    "    \\begin{array}{ll}\n",
    "        \\frac{ A_{f,h,total,i} }{ n_i } & (i=1)\\\\\n",
    "        0 & ( i \\ge 2 )\n",
    "    \\end{array}\n",
    "\\right.\n",
    "$$"
   ]
  },
  {
   "cell_type": "markdown",
   "metadata": {},
   "source": [
    "$A_{csf,h,i}$: 階$i$の各住戸における床下に面する床面積 (m<sup>2</sup>)  \n",
    "$A_{f,h,total,i}$: 階$i$の専有部(住戸部)の床面積の合計 (m<sup>2</sup>)  \n",
    "$n_i$: 階$i$における住戸数(戸)"
   ]
  },
  {
   "cell_type": "code",
   "execution_count": 38,
   "metadata": {
    "collapsed": true
   },
   "outputs": [],
   "source": [
    "def get_A_csf_h(A_f_h_total, n):\n",
    "    return [ [ A_f_h_total_i / n_i ] * n_i if i == 0 else [0.0] * n_i\n",
    "             for ( i, (A_f_h_total_i, n_i) ) in enumerate(zip(A_f_h_total, n)) ]"
   ]
  },
  {
   "cell_type": "markdown",
   "metadata": {},
   "source": [
    "#### 計算例"
   ]
  },
  {
   "cell_type": "markdown",
   "metadata": {},
   "source": [
    "各階の専有部(住戸部)の床面積の合計 1階: 162.6, 2階: 162.6, 3階: 162.6 (m<sup>2</sup>)  \n",
    "各階における住戸数 1～3階: 4(戸)"
   ]
  },
  {
   "cell_type": "code",
   "execution_count": 39,
   "metadata": {
    "collapsed": false
   },
   "outputs": [
    {
     "data": {
      "text/plain": [
       "[[40.65, 40.65, 40.65, 40.65], [0.0, 0.0, 0.0, 0.0], [0.0, 0.0, 0.0, 0.0]]"
      ]
     },
     "execution_count": 39,
     "metadata": {},
     "output_type": "execute_result"
    }
   ],
   "source": [
    "get_A_csf_h([162.6, 162.6, 162.6],[4,4,4])"
   ]
  },
  {
   "cell_type": "markdown",
   "metadata": {},
   "source": [
    "### 3. 各住戸の熱橋長さ"
   ]
  },
  {
   "cell_type": "markdown",
   "metadata": {},
   "source": [
    "各階における各住戸の構造熱橋部の長さ"
   ]
  },
  {
   "cell_type": "markdown",
   "metadata": {},
   "source": [
    "| 種類<br>(記号) | 境界の数<br>(屋外/屋内/床下) | 熱橋の方向 | 主な発生場所 |\n",
    "| --- | --- | --- | --- |\n",
    "| $ \\psi_{1v} $ | 3 / 1 / - | 鉛直 | 外壁同士の接合部 |\n",
    "| $ \\psi_{1h,r} $ | 3 / 1 / - | 水平 | 外壁と屋根の接合部 |\n",
    "| $ \\psi_{1h,f} $ | 3 / 1 / - | 水平 | 外壁と外気床の接合部 |\n",
    "| $ \\psi_{2v} $ | 2 / 2 / - | 鉛直 | 外壁と間仕切壁の接合部（住戸長辺≧20mの場合は追加） |\n",
    "| $ \\psi_{2h,r} $ | 2 / 2 / - | 水平 | 屋根と界壁の接合部（住戸長辺≧20mの場合は追加） |\n",
    "| $ \\psi_{2h,f1} $ | 2 / 2 / - | 水平 | 外壁と界床の接合部 |\n",
    "| $ \\psi_{2h,f2} $ | 2 / 2 / - | 水平 | 外気床と界壁の接合部 |\n",
    "| $ \\psi_{3v} $ | 1 / 3 / - | 鉛直 | 外壁同士の接合部 |\n",
    "| $ \\psi_{3h,r} $ | 1 / 3 / - | 水平 | 外壁と中間階屋根の接合部 |\n",
    "| $ \\psi_{3h,f} $ | 1 / 3 / - | 水平 | 外壁と外気床の接合部 |\n",
    "| $ \\psi_{4h,uf} $ | 2 / 1 / 1 | 水平 | 外壁と最下階床の接合部 |\n",
    "| $ \\psi_{5h,uf} $ | - / 2 / 2 | 水平 | 界壁と最下階床の接合部 |\n"
   ]
  },
  {
   "cell_type": "markdown",
   "metadata": {},
   "source": [
    "![HeatBridge](HeatBridgeType.png)"
   ]
  },
  {
   "cell_type": "code",
   "execution_count": null,
   "metadata": {
    "collapsed": true
   },
   "outputs": [],
   "source": []
  },
  {
   "cell_type": "code",
   "execution_count": null,
   "metadata": {
    "collapsed": true
   },
   "outputs": [],
   "source": []
  },
  {
   "cell_type": "code",
   "execution_count": null,
   "metadata": {
    "collapsed": true
   },
   "outputs": [],
   "source": []
  },
  {
   "cell_type": "code",
   "execution_count": null,
   "metadata": {
    "collapsed": true
   },
   "outputs": [],
   "source": []
  },
  {
   "cell_type": "code",
   "execution_count": null,
   "metadata": {
    "collapsed": true
   },
   "outputs": [],
   "source": []
  },
  {
   "cell_type": "code",
   "execution_count": 40,
   "metadata": {
    "collapsed": false
   },
   "outputs": [],
   "source": [
    "def general(d):\n",
    "    \n",
    "    d_general = d['General']\n",
    "    d_private = d['PrivateArea']\n",
    "    d_public  = d['PublicArea']\n",
    "    \n",
    "    H = get_H(d_general['Height'], d_general['Levels_Number'])\n",
    "    print('階高: ' + str(H))\n",
    "        \n",
    "    A_f_h_total = get_A_f_h_total(d_general['FloorArea'], d_public['FloorArea'])\n",
    "    print('専有部の床面積の合計: ' + str(A_f_h_total))\n",
    "    \n",
    "    l_1_total = get_l_1_total(d_private['PeriLengthOutside'], A_f_h_total)\n",
    "    l_2_total = get_l_2_total(d_private['PeriLengthOutside'], A_f_h_total)\n",
    "\n",
    "    print('専有部の全体の長辺の長さ: ' + str(l_1_total))\n",
    "    print('専有部の全体の短辺の長さ: ' + str(l_2_total))\n",
    "\n",
    "    A_r_h_total = get_A_r_h_total(d_private['RoofArea'], A_f_h_total)\n",
    "    print('専有部の屋根面積の合計: ' + str(A_r_h_total))\n",
    "\n",
    "    A_of_h_total = get_A_of_h_total(d_private['OutsideFloorArea'])\n",
    "    print('専有部の外気床面積の合計: ' + str(A_of_h_total))\n",
    "    \n",
    "    A_win_h_total = get_A_win_h_total(d_private['WindowArea'], d_general['HouseNumber'])\n",
    "    print('窓面積の合計: ' + str(A_win_h_total))\n",
    "    \n",
    "    A_r_h = get_A_r_h(A_r_h_total, d_general['HouseNumber'])\n",
    "    print('各住戸の屋根面積: ' + str(A_r_h))\n",
    "    \n",
    "    A_win_h = get_A_win_h(A_win_h_total,d_general['HouseNumber'])\n",
    "    print('各住戸の窓面積: ' + str(A_win_h))\n",
    "    \n",
    "    A_door_h = get_A_door_h(d_general['HouseNumber'])\n",
    "    print('各住戸のドアの面積: ' +  str(A_door_h))\n",
    "    \n",
    "    A_ow_h = get_A_ow_h( l_1_total, l_2_total, H, d_general['HouseNumber'], A_win_h, A_door_h )\n",
    "    print('各住戸の外壁の面積: ' + str(A_ow_h))\n",
    "    \n",
    "    A_of_h = get_A_of_h( A_of_h_total, d_general['HouseNumber'] )\n",
    "    print('各住戸の外気床の面積: ' + str(A_of_h))\n",
    "    \n",
    "    A_iw_h = get_A_iw_h(l_2_total, H, d_general['HouseNumber'])\n",
    "    print('各住戸の界壁の面積: ' + str(A_iw_h))\n",
    "    \n",
    "    A_if_h = get_A_if_h(A_f_h_total, A_of_h, d_general['HouseNumber'])\n",
    "    print('各住戸の界床の面積: ' + str(A_if_h))\n",
    "\n",
    "    A_ic_h = get_A_ic_h(A_f_h_total, A_r_h, d_general['HouseNumber'])\n",
    "    print('各住戸の界天井の面積: ' + str(A_ic_h))\n",
    "            \n",
    "    A_csf_h = get_A_csf_h(A_f_h_total, d_general['HouseNumber'])\n",
    "    print('各住戸の床下に面する床の面積: ' + str(A_csf_h))\n",
    "    \n",
    "    return 0\n"
   ]
  },
  {
   "cell_type": "code",
   "execution_count": 41,
   "metadata": {
    "collapsed": false
   },
   "outputs": [
    {
     "name": "stdout",
     "output_type": "stream",
     "text": [
      "階高: [3.033333333333333, 3.033333333333333, 3.033333333333333]\n",
      "専有部の床面積の合計: [162.64000000000001, 162.64, 162.64]\n",
      "専有部の全体の長辺の長さ: [27.32876045198881, 27.328760451988813, 27.328760451988813]\n",
      "専有部の全体の短辺の長さ: [5.951239548011191, 5.9512395480111895, 5.9512395480111895]\n",
      "専有部の屋根面積の合計: [0.0, 0.0, 162.64]\n",
      "専有部の外気床面積の合計: [0.0, 0.0, 0.0]\n",
      "窓面積の合計: [Direction(D0=18.336768, D90=0.9144, D180=10.314432, D270=0.9144), Direction(D0=18.433024, D90=0.9192, D180=10.368576, D270=0.9192), Direction(D0=18.433024, D90=0.9192, D180=10.368576, D270=0.9192)]\n",
      "各住戸の屋根面積: [[0.0, 0.0, 0.0, 0.0], [0.0, 0.0, 0.0, 0.0], [40.66, 40.66, 40.66, 40.66]]\n",
      "各住戸の窓面積: [[Direction(D0=4.584192, D90=0.9144, D180=2.578608, D270=0), Direction(D0=4.584192, D90=0, D180=2.578608, D270=0), Direction(D0=4.584192, D90=0, D180=2.578608, D270=0), Direction(D0=4.584192, D90=0, D180=2.578608, D270=0.9144)], [Direction(D0=4.608256, D90=0.9192, D180=2.592144, D270=0), Direction(D0=4.608256, D90=0, D180=2.592144, D270=0), Direction(D0=4.608256, D90=0, D180=2.592144, D270=0), Direction(D0=4.608256, D90=0, D180=2.592144, D270=0.9192)], [Direction(D0=4.608256, D90=0.9192, D180=2.592144, D270=0), Direction(D0=4.608256, D90=0, D180=2.592144, D270=0), Direction(D0=4.608256, D90=0, D180=2.592144, D270=0), Direction(D0=4.608256, D90=0, D180=2.592144, D270=0.9192)]]\n",
      "各住戸のドアの面積: [[Direction(D0=0.0, D90=0.0, D180=1.6, D270=0.0), Direction(D0=0.0, D90=0.0, D180=1.6, D270=0.0), Direction(D0=0.0, D90=0.0, D180=1.6, D270=0.0), Direction(D0=0.0, D90=0.0, D180=1.6, D270=0.0)], [Direction(D0=0.0, D90=0.0, D180=1.6, D270=0.0), Direction(D0=0.0, D90=0.0, D180=1.6, D270=0.0), Direction(D0=0.0, D90=0.0, D180=1.6, D270=0.0), Direction(D0=0.0, D90=0.0, D180=1.6, D270=0.0)], [Direction(D0=0.0, D90=0.0, D180=1.6, D270=0.0), Direction(D0=0.0, D90=0.0, D180=1.6, D270=0.0), Direction(D0=0.0, D90=0.0, D180=1.6, D270=0.0), Direction(D0=0.0, D90=0.0, D180=1.6, D270=0.0)]]\n",
      "各住戸の外壁の面積: [[Direction(D0=16.140118009424846, D90=20.17102662896728, D180=16.545702009424847, D270=3.033333333333333), Direction(D0=16.140118009424846, D90=3.033333333333333, D180=16.545702009424847, D270=3.033333333333333), Direction(D0=16.140118009424846, D90=3.033333333333333, D180=16.545702009424847, D270=3.033333333333333), Direction(D0=16.140118009424846, D90=3.033333333333333, D180=16.545702009424847, D270=20.17102662896728)], [Direction(D0=16.11605400942485, D90=20.166226628967273, D180=16.53216600942485, D270=3.033333333333333), Direction(D0=16.11605400942485, D90=3.033333333333333, D180=16.53216600942485, D270=3.033333333333333), Direction(D0=16.11605400942485, D90=3.033333333333333, D180=16.53216600942485, D270=3.033333333333333), Direction(D0=16.11605400942485, D90=3.033333333333333, D180=16.53216600942485, D270=20.166226628967273)], [Direction(D0=16.11605400942485, D90=20.166226628967273, D180=16.53216600942485, D270=3.033333333333333), Direction(D0=16.11605400942485, D90=3.033333333333333, D180=16.53216600942485, D270=3.033333333333333), Direction(D0=16.11605400942485, D90=3.033333333333333, D180=16.53216600942485, D270=3.033333333333333), Direction(D0=16.11605400942485, D90=3.033333333333333, D180=16.53216600942485, D270=20.166226628967273)]]\n",
      "各住戸の外気床の面積: [[0.0, 0.0, 0.0, 0.0], [0.0, 0.0, 0.0, 0.0], [0.0, 0.0, 0.0, 0.0]]\n",
      "各住戸の界壁の面積: [[18.052093295633945, 36.10418659126789, 36.10418659126789, 18.052093295633945], [18.05209329563394, 36.10418659126788, 36.10418659126788, 18.05209329563394], [18.05209329563394, 36.10418659126788, 36.10418659126788, 18.05209329563394]]\n",
      "各住戸の界床の面積: [[0.0, 0.0, 0.0, 0.0], [40.66, 40.66, 40.66, 40.66], [40.66, 40.66, 40.66, 40.66]]\n",
      "各住戸の界天井の面積: [[40.660000000000004, 40.660000000000004, 40.660000000000004, 40.660000000000004], [40.66, 40.66, 40.66, 40.66], [0.0, 0.0, 0.0, 0.0]]\n",
      "各住戸の床下に面する床の面積: [[40.660000000000004, 40.660000000000004, 40.660000000000004, 40.660000000000004], [0.0, 0.0, 0.0, 0.0], [0.0, 0.0, 0.0, 0.0]]\n"
     ]
    },
    {
     "data": {
      "text/plain": [
       "0"
      ]
     },
     "execution_count": 41,
     "metadata": {},
     "output_type": "execute_result"
    }
   ],
   "source": [
    "general(d)"
   ]
  },
  {
   "cell_type": "code",
   "execution_count": null,
   "metadata": {
    "collapsed": true
   },
   "outputs": [],
   "source": []
  }
 ],
 "metadata": {
  "kernelspec": {
   "display_name": "Python 3",
   "language": "python",
   "name": "python3"
  },
  "language_info": {
   "codemirror_mode": {
    "name": "ipython",
    "version": 3
   },
   "file_extension": ".py",
   "mimetype": "text/x-python",
   "name": "python",
   "nbconvert_exporter": "python",
   "pygments_lexer": "ipython3",
   "version": "3.6.2"
  }
 },
 "nbformat": 4,
 "nbformat_minor": 2
}
