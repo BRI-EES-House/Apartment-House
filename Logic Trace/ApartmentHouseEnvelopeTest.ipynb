{
 "cells": [
  {
   "cell_type": "code",
   "execution_count": 1,
   "metadata": {},
   "outputs": [],
   "source": [
    "import numpy as np\n",
    "import math\n",
    "import pprint"
   ]
  },
  {
   "cell_type": "markdown",
   "metadata": {},
   "source": [
    "# 共同住宅の躯体性能の簡易評価法"
   ]
  },
  {
   "cell_type": "markdown",
   "metadata": {},
   "source": [
    "## I. Orientation Class"
   ]
  },
  {
   "cell_type": "markdown",
   "metadata": {},
   "source": [
    "### Normal Parts"
   ]
  },
  {
   "cell_type": "code",
   "execution_count": 2,
   "metadata": {},
   "outputs": [],
   "source": [
    "class OrientationValue():\n",
    "    \n",
    "    def __init__( self, v, o ):\n",
    "        # 'v' is Value and 'o' is Orientation \n",
    "        if not ( o == 'D0' or o == 'D90' or o == 'D180' or o == 'D270' or o == 'top' or o == 'bottom' ):\n",
    "            raise ValueError\n",
    "        self.v = v\n",
    "        self.o = o\n",
    "        \n",
    "    def __str__( self ):\n",
    "        return {\n",
    "            'D0'     : 'D0     : ',\n",
    "            'D90'    : 'D90    : ',\n",
    "            'D180'   : 'D180   : ',\n",
    "            'D270'   : 'D270   : ',\n",
    "            'top'    : 'top    : ',\n",
    "            'bottom' : 'bottom : ',\n",
    "               }[self.o] + str(self.v)"
   ]
  },
  {
   "cell_type": "code",
   "execution_count": 3,
   "metadata": {},
   "outputs": [],
   "source": [
    "class HorizontalOrientation():\n",
    "    \n",
    "    def __init__( self, d0, d90, d180, d270 ):\n",
    "        self.d0   = d0\n",
    "        self.d90  = d90\n",
    "        self.d180 = d180\n",
    "        self.d270 = d270\n",
    "        \n",
    "    def getMembers(self):\n",
    "        return [ self.d0, self.d90, self.d180, self.d270 ]\n",
    "    \n",
    "    def get_dict(self):\n",
    "        \n",
    "        return {\n",
    "            'D0'   : self.d0.v,\n",
    "            'D90'  : self.d90.v,\n",
    "            'D180' : self.d180.v,\n",
    "            'D270' : self.d270.v,\n",
    "        }\n",
    "    \n",
    "    def __str__(self):\n",
    "        return 'd0: ' + str(self.d0) + ', d90: ' + str(self.d90) + ', d180: ' + str(self.d180) + ', d270: ' + str(self.d270)"
   ]
  },
  {
   "cell_type": "markdown",
   "metadata": {},
   "source": [
    "#### Example"
   ]
  },
  {
   "cell_type": "code",
   "execution_count": 4,
   "metadata": {},
   "outputs": [
    {
     "name": "stdout",
     "output_type": "stream",
     "text": [
      "error\n"
     ]
    }
   ],
   "source": [
    "try:\n",
    "    OrientationValue( 0.12, 'D45')\n",
    "except ValueError:\n",
    "    print('error')"
   ]
  },
  {
   "cell_type": "code",
   "execution_count": 5,
   "metadata": {},
   "outputs": [
    {
     "name": "stdout",
     "output_type": "stream",
     "text": [
      "D90    : 0.12\n"
     ]
    }
   ],
   "source": [
    "print( OrientationValue( 0.12, 'D90' ) )"
   ]
  },
  {
   "cell_type": "markdown",
   "metadata": {},
   "source": [
    "### Heat Bridges"
   ]
  },
  {
   "cell_type": "code",
   "execution_count": 6,
   "metadata": {},
   "outputs": [],
   "source": [
    "class OrientationValueHB():\n",
    "    def __init__( self, v, o1, o2 ):\n",
    "        \n",
    "        # 'v' is Value, 'o1' is Orientation, 'o2' is Orientation \n",
    "        def ValueCheck( o ):\n",
    "            if not ( o == 'D0' or o == 'D90' or o == 'D180' or o == 'D270' or o == 'top' or o == 'bottom' ):\n",
    "                raise ValueError\n",
    "        ValueCheck( o1 )\n",
    "        ValueCheck( o2 )\n",
    "        self.v = v\n",
    "        self.o1 = o1\n",
    "        self.o2 = o2\n",
    "    \n",
    "    def get_info(self):\n",
    "        \n",
    "        return {\n",
    "            'orientation1' : self.o1,\n",
    "            'orientation2' : self.o2,\n",
    "            'value'        : self.v,\n",
    "        }\n",
    "    \n",
    "    def __str__( self ):\n",
    "        return {\n",
    "            'D0'     : 'D0     + ',\n",
    "            'D90'    : 'D90    + ',\n",
    "            'D180'   : 'D180   + ',\n",
    "            'D270'   : 'D270   + ',\n",
    "            'top'    : 'top    + ',\n",
    "            'bottom' : 'bottom + ',\n",
    "               }[self.o1] + {\n",
    "            'D0'     : 'D0     : ',\n",
    "            'D90'    : 'D90    : ',\n",
    "            'D180'   : 'D180   : ',\n",
    "            'D270'   : 'D270   : ',\n",
    "            'top'    : 'top    : ',\n",
    "            'bottom' : 'bottom : ',\n",
    "               }[self.o2] + str(self.v)"
   ]
  },
  {
   "cell_type": "code",
   "execution_count": 7,
   "metadata": {},
   "outputs": [
    {
     "name": "stdout",
     "output_type": "stream",
     "text": [
      "error\n"
     ]
    }
   ],
   "source": [
    "try:\n",
    "    OrientationValueHB( 0.12, 'D45', 'D90' )\n",
    "except ValueError:\n",
    "    print('error')"
   ]
  },
  {
   "cell_type": "code",
   "execution_count": 8,
   "metadata": {},
   "outputs": [
    {
     "name": "stdout",
     "output_type": "stream",
     "text": [
      "error\n"
     ]
    }
   ],
   "source": [
    "try:\n",
    "    OrientationValueHB( 0.12, 'D90', 'D45')\n",
    "except ValueError:\n",
    "    print('error')"
   ]
  },
  {
   "cell_type": "code",
   "execution_count": 9,
   "metadata": {},
   "outputs": [
    {
     "name": "stdout",
     "output_type": "stream",
     "text": [
      "top    + D90    : 0.12\n"
     ]
    }
   ],
   "source": [
    "print( OrientationValueHB( 0.12, 'top', 'D90' ) )"
   ]
  },
  {
   "cell_type": "markdown",
   "metadata": {},
   "source": [
    "## II. Input Data"
   ]
  },
  {
   "cell_type": "markdown",
   "metadata": {},
   "source": [
    "### 1) 住棟全体"
   ]
  },
  {
   "cell_type": "markdown",
   "metadata": {},
   "source": [
    "| No. | 入力項目 | 単位 | 記号 | 備考 |\n",
    "| --- | --- | --- | --- | --- |\n",
    "| G1 | 地域の区分 | - | - | 1～8地域 |\n",
    "| G2 | 建物の構造 | - | - | RC, S, W |\n",
    "| G3 | 建物の階数 | 階 | $N$ | - |\n",
    "| G4 | 建物全体の高さ | m | $H_{total}$ | - |\n",
    "| G5 | 主開口部の方位 | - | - | 8方位 |"
   ]
  },
  {
   "cell_type": "markdown",
   "metadata": {},
   "source": [
    "````\n",
    "common = {\n",
    "    'region'                 : 6,    # 地域の区分\n",
    "    'structure'              : 'RC', # 建物の構造\n",
    "    'levels_number'          : 3,    # 建物の階数\n",
    "    'height'                 : 9.1,  # 建物の高さ(m)\n",
    "    'opening_main_direction' : 'S',  # 主開口部の方位\n",
    "}\n",
    "````"
   ]
  },
  {
   "cell_type": "markdown",
   "metadata": {},
   "source": [
    "### 2) 専有部全体"
   ]
  },
  {
   "cell_type": "markdown",
   "metadata": {},
   "source": [
    "| No. | 入力項目 | 単位 | 記号 | 備考 |\n",
    "| --- | --- | --- | --- | --- |\n",
    "| P9 | 外壁の仕様 熱貫流率(U値) | W/m<sup>2</sup>K | | |\n",
    "| P10 | 外壁の仕様 断熱位置 | - | | inside=内断熱, outside=外断熱, non=無断熱 から選択 |\n",
    "| P11 | 外壁の仕様 断熱補強の仕様 | - | | spec1=仕様1, spec2=仕様2, non=補強なし, null=該当なし から選択 |\n",
    "| P12 | 屋根の仕様 熱貫流率(U値) | W/m<sup>2</sup>K | | |\n",
    "| P13 | 屋根の仕様 断熱位置 | - | | inside=内断熱, outside=外断熱, non=無断熱 から選択 |\n",
    "| P14 | 屋根の仕様 断熱補強の仕様 | - | | spec1=仕様1, spec2=仕様2, non=補強なし, null=該当なし から選択 |\n",
    "| P15 | 最下階床の仕様 熱貫流率(U値) | W/m<sup>2</sup>K | | |\n",
    "| P16 | 最下階床の仕様 断熱位置 | - | | inside=内断熱, outside=外断熱, non=無断熱 から選択 |\n",
    "| P17 | 最下階床の仕様 断熱補強の仕様 | - | | spec1=仕様1, spec2=仕様2, non=補強なし, null=該当なし から選択 |\n",
    "| P18 | 界壁の熱貫流率(U値) | W/m<sup>2</sup>K | | |\n",
    "| P19 | 界床の熱貫流率(U値) | W/m<sup>2</sup>K | | |\n",
    "| P20 | 窓の熱貫流率(U値) | W/m<sup>2</sup>K | | |\n",
    "| P21 | 窓の日射熱取得率(η値) | - | | |"
   ]
  },
  {
   "cell_type": "markdown",
   "metadata": {},
   "source": [
    "````\n",
    "private_area = {\n",
    "    'wall'                : { # 外壁\n",
    "        'U_value' : 0.785,    # 熱貫流率(U値)(W/m2K)\n",
    "        'ins_pos' : 'inside', # 断熱位置, inside=内断熱, outside=外断熱, non=無断熱 から選択\n",
    "        'HB_spec' : 'spec1'   # 断熱補強の仕様, spec1=仕様1, spec2=仕様2, non=補強なし, null=該当なし から選択\n",
    "    },\n",
    "    'roof'                : {  # 屋根\n",
    "        'U_value' : 0.417,     # 熱貫流率(U値)(W/m2K)\n",
    "        'ins_pos' : 'outside', # 断熱位置, inside=内断熱, outside=外断熱, non=無断熱 から選択\n",
    "        'HB_spec' : 'spec1'    # 断熱補強の仕様, spec1=仕様1, spec2=仕様2, non=補強なし, null=該当なし から選択\n",
    "    },\n",
    "    'floor'               : {  # 最下階床\n",
    "        'U_value' : 0.507,     # 熱貫流率(U値)(W/m2K)\n",
    "        'ins_pos' : 'outside', # 断熱位置, inside=内断熱, outside=外断熱, non=無断熱 から選択\n",
    "        'HB_spec' : 'null'     # 断熱補強の仕様, spec1=仕様1, spec2=仕様2, non=補強なし, null=該当なし から選択\n",
    "    },\n",
    "    'inside_wall'  : {         # 界壁\n",
    "        'U_value' : 2.34,      # 熱貫流率(U値)(W/m2K)\n",
    "    },\n",
    "    'inside_floor' : {         # 界床\n",
    "        'U_value' : 1.796,     # 熱貫流率(U値)(W/m2K)\n",
    "    },\n",
    "    'window' : {               # 窓\n",
    "        'U_value'   : 4.65,    # 熱貫流率(U値)(W/m2K)\n",
    "        'eta_value' : 0.79     # 日射熱取得率(η値)    \n",
    "    },\n",
    "    'private_floors' : [private_floor],\n",
    "}\n",
    "````"
   ]
  },
  {
   "cell_type": "markdown",
   "metadata": {},
   "source": [
    "| No. | 入力項目 | 単位 | 記号 | 備考 |\n",
    "| --- | --- | --- | --- | --- |\n",
    "| P1 | 各階の住戸数 | 戸 | $n$ | 階ごとに入力する |\n",
    "| P2 | 各階の床面積の合計 | m<sup>2</sup>| $A_{f,total} $ | 階ごとに入力する |\n",
    "| P3 | 各階の外周長 外気と接する部分 | m | | 階ごとに入力する |\n",
    "| P4 | 各階の外周長 空調された共用部や非住宅部と接する部分 | m | | 階ごとに入力する |\n",
    "| P5 | 各階の外周長 住戸と接する部分 | m | | 階ごとに入力する (住棟を複数の方位に分けて計算する場合のみ入力) |\n",
    "| P6 | 各階の窓面積の合計 | m<sup>2</sup> | | 階ごとに入力する |\n",
    "| P7 | 各階(最上階を除く)の屋根面積の合計 | m<sup>2</sup> | | 階ごとに入力する |\n",
    "| P8 | 各階(最下階を除く)の外気床の面積の合計 | m<sup>2</sup> | | 階ごとに入力する |"
   ]
  },
  {
   "cell_type": "markdown",
   "metadata": {},
   "source": [
    "````\n",
    "private_floor = {\n",
    "    'house_number'        : 4,                # 各階の住戸数\n",
    "    'floor_area'          : 162.64, # 各階の床面積の合計(m2)\n",
    "    'peri_length_outside' : [66.56, 66.56, 66.56],    # 各階の外周長 外気と接する部分(m)\n",
    "    'PeriLengthInside'    : [0.0, 0.0, 0.0],          # 各階の外周長 空調された共用部や非住宅部と接する部分(m)\n",
    "    'PeriLengthPrivate'   : [0.0, 0.0, 0.0],          # 各階の外周長 住戸と接する部分(住棟を複数の方位に分けて計算する場合のみ)(m)\n",
    "    'window_area'         : [30.48, 30.64, 30.64],    # 各階の窓面積の合計(m2)\n",
    "    'roof_area'           : [0.0, 0.0, None],         # 各階(最上階を除く)の屋根面積の合計(m2)\n",
    "    'outside_floor_area'  : [None, 0.0, 0.0],         # 各階(最下階を除く)の外気床の面積の合計(m2)\n",
    "}\n",
    "````"
   ]
  },
  {
   "cell_type": "markdown",
   "metadata": {},
   "source": [
    "### 3) 共用部"
   ]
  },
  {
   "cell_type": "markdown",
   "metadata": {},
   "source": [
    "| No. | 入力項目 | 単位 | 記号 | 備考 |\n",
    "| --- | --- | --- | --- | --- |\n",
    "| C1 | 各階の共用部・非住宅部の床面積の合計 | m<sup>2</sup> | | 階ごとに入力する |\n",
    "| C2 | 各階(最上階を除く)の屋根面積の合計 | m<sup>2</sup> | | 階ごとに入力する |\n",
    "| C3 | 各階(最下階を除く)の外気床の面積の合計 | m<sup>2</sup> | | 階ごとに入力する |\n",
    "| C4 | 外壁の熱貫流率(U値) | W/m<sup>2</sup>K | | |\n",
    "| C5 | 界床の熱貫流率(U値) | W/m<sup>2</sup>K | | |\n",
    "| C6 | 外気床の熱貫流率(U値) | W/m<sup>2</sup>K | | |\n",
    "| C7 | 窓の熱貫流率(U値) | W/m<sup>2</sup>K | | |\n",
    "| C8 | 窓の日射熱取得率(η値) | - | |  |"
   ]
  },
  {
   "cell_type": "markdown",
   "metadata": {},
   "source": [
    "````\n",
    "d_public_area = {\n",
    "    'FloorArea'          : [68.82, 59.7, 59.7], # 各階の共用部・非住宅部の床面積の合計(m2)\n",
    "    'RoofArea'           : [9.125, 0.0, None],  # 各階(最上階を除く)の屋根面積の合計(m2)\n",
    "    'OutsideFloorArea'   : [None, 0.0, 0.0],    # 各階(最下階を除く)の外気床の面積の合計(m2)\n",
    "    'WallUValue'         : 0.00,                # 外壁の熱貫流率(U値)(W/m2K)\n",
    "    'InsideFloorUValue'  : 0.00,                # 界床の熱貫流率(U値)(W/m2K)\n",
    "    'OutsideFloorUValue' : 0.00,                # 外気床の熱貫流率(U値)(W/m2K)\n",
    "    'WindowUValue'       : 0.00,                # 窓の熱貫流率(U値)(W/m2K)\n",
    "    'WindowEtaValue'     : 0.00                 # 窓の日射熱取得率(η値)\n",
    "}\n",
    "````"
   ]
  },
  {
   "cell_type": "markdown",
   "metadata": {},
   "source": [
    "````\n",
    "d = {\n",
    "    \"common\"       : common,\n",
    "    \"private_area\" : private_area,\n",
    "    \"public_area\"  : public_area\n",
    "}\n",
    "````"
   ]
  },
  {
   "cell_type": "markdown",
   "metadata": {},
   "source": [
    "## IV. Functions"
   ]
  },
  {
   "cell_type": "markdown",
   "metadata": {},
   "source": [
    "### 1. 専有部における各階の面積・長さ"
   ]
  },
  {
   "cell_type": "markdown",
   "metadata": {},
   "source": [
    "### 1.1 階高"
   ]
  },
  {
   "cell_type": "markdown",
   "metadata": {},
   "source": [
    "$$\n",
    "H_i = \\frac{H_{total}}{N}\n",
    "$$"
   ]
  },
  {
   "cell_type": "markdown",
   "metadata": {},
   "source": [
    "$H_i$: 階$i$の階高, m  \n",
    "$H_{total}$: 建物全体の高さ, m  \n",
    "$N$: 建物の階数  "
   ]
  },
  {
   "cell_type": "code",
   "execution_count": 10,
   "metadata": {},
   "outputs": [],
   "source": [
    "def get_height(height, levels):\n",
    "    \n",
    "    return height / levels"
   ]
  },
  {
   "cell_type": "markdown",
   "metadata": {},
   "source": [
    "### 1.2 屋根面積"
   ]
  },
  {
   "cell_type": "markdown",
   "metadata": {},
   "source": [
    "専有部における階$i$の屋根面積の合計は最上階とそれ以外の階に分けて求める。最上階以外は入力値とし、最上階は床面積の合計に等しいものとする。なお、最上階以外に屋根がある場合は、その階の主方位側かつ各住戸に均等に位置するものとする。"
   ]
  },
  {
   "cell_type": "markdown",
   "metadata": {},
   "source": [
    "$$\n",
    "A_{r,total,i} = \\left\\{\n",
    "    \\begin{array}{ll}\n",
    "        A_{r,total,i,input} & (i \\ne N) \\\\\n",
    "        A_{f,total,i} & (i = N)\n",
    "    \\end{array}\n",
    "\\right.\n",
    "$$"
   ]
  },
  {
   "cell_type": "markdown",
   "metadata": {},
   "source": [
    "$N$: 建物の階数(階)  \n",
    "$A_{r,h,total,i}$: 専有部(住戸部)における階$i$の屋根面積の合計, m<sup>2</sup>"
   ]
  },
  {
   "cell_type": "code",
   "execution_count": 11,
   "metadata": {},
   "outputs": [],
   "source": [
    "def get_roof_area_total(roof_area_total_input, A_f_total, level, total_level_number):\n",
    "    \n",
    "    return roof_area_total_input if level != total_level_number - 1 else A_f_total"
   ]
  },
  {
   "cell_type": "markdown",
   "metadata": {},
   "source": [
    "### 1.3 外気に接する床の面積"
   ]
  },
  {
   "cell_type": "markdown",
   "metadata": {},
   "source": [
    "階$i$における専有部の外気に接する床の面積の合計は、1階(最下階)は0とし、1階以外は入力値とする。  \n",
    "なお、最下階以外に外気に接する床がある場合は、その階の主方位側かつ各住戸に均等に位置するものとする。"
   ]
  },
  {
   "cell_type": "markdown",
   "metadata": {},
   "source": [
    "$$\n",
    "A_{of,total,i} = \\left\\{\n",
    "    \\begin{array}{ll}\n",
    "        0 & (i = 1) \\\\\n",
    "        A_{of,total,i,input} & (i \\ne 1)\n",
    "    \\end{array}\n",
    "\\right.\n",
    "$$"
   ]
  },
  {
   "cell_type": "markdown",
   "metadata": {},
   "source": [
    "$A_{of,total,i}$: 階$i$における専有部の外気に接する床の面積の合計(m<sup>2</sup>)"
   ]
  },
  {
   "cell_type": "code",
   "execution_count": 12,
   "metadata": {},
   "outputs": [],
   "source": [
    "def get_outside_floor_area_total(A_of_total_input, level):\n",
    "    return 0.0 if level == 0 else A_of_total_input"
   ]
  },
  {
   "cell_type": "markdown",
   "metadata": {},
   "source": [
    "### 1.4 長辺および短辺の長さ"
   ]
  },
  {
   "cell_type": "markdown",
   "metadata": {},
   "source": [
    "階$i$における専有部全体の平面形状は矩形を想定し、その長辺が主方位(主方位+180°)側にあるもとの仮定し、長辺と短辺の長さの合計は次式を連立して求めることとする。"
   ]
  },
  {
   "cell_type": "markdown",
   "metadata": {},
   "source": [
    "$$ l_{long,total,i} \\ge l_{short,total,i} $$\n",
    "$$ l_{long,total,i} \\times l_{short,total,i} = A_{f,total,i} $$\n",
    "$$ 2 \\times ( l_{long,total,i} + l_{short,total,i} ) = L_i $$"
   ]
  },
  {
   "cell_type": "markdown",
   "metadata": {},
   "source": [
    "これらを連立すると、"
   ]
  },
  {
   "cell_type": "markdown",
   "metadata": {},
   "source": [
    "$$ l_{long,total,i} = \\frac{ \\frac{L_i}{2} + \\sqrt{ (\\frac{L_i}{2})^2 - 4 \\times A_{f,total,i} } }{2} $$"
   ]
  },
  {
   "cell_type": "markdown",
   "metadata": {},
   "source": [
    "$$ l_{short,total,i} = \\frac{ \\frac{L_i}{2} - \\sqrt{ (\\frac{L_i}{2})^2 - 4 \\times A_{f,total_i} } }{2} $$"
   ]
  },
  {
   "cell_type": "markdown",
   "metadata": {},
   "source": [
    "となる。"
   ]
  },
  {
   "cell_type": "markdown",
   "metadata": {},
   "source": [
    "$ A_{f,total,i} $: 階$i$における専有部の床面積の合計(m<sup>2</sup>)  \n",
    "$ l_{long,total,i} $: 階$i$における専有部全体の長辺の長さの合計(m)  \n",
    "$ l_{short,total,i} $: 階$i$における専有部全体の短辺の長さの合計(m)  \n",
    "$ L_i$: 階$i$における専有部全体の外皮の周長(m)"
   ]
  },
  {
   "cell_type": "code",
   "execution_count": 13,
   "metadata": {},
   "outputs": [],
   "source": [
    "def get_l_long_total(L, A_f_total):\n",
    "    return ( (L/2) + math.sqrt( (L/2)**2 - 4 * A_f_total ) )/2"
   ]
  },
  {
   "cell_type": "code",
   "execution_count": 14,
   "metadata": {},
   "outputs": [],
   "source": [
    "def get_l_short_total(L, A_f_total):\n",
    "    return ( (L/2) - math.sqrt( (L/2)**2 - 4 * A_f_total ) )/2"
   ]
  },
  {
   "cell_type": "markdown",
   "metadata": {},
   "source": [
    "### 1.5 窓面積"
   ]
  },
  {
   "cell_type": "markdown",
   "metadata": {},
   "source": [
    "階$i$における主方位から時計回りに0°、90°、180°及び270°の方位の窓面積の合計は次式により算出する。なお、主方位を$D0$とし、方位の角度は上から見て時計回りに増加するものとし、$D90$で主方位+90度、$D180$で主方位+180度、$D270$で主方位+270度とする。（以下、同じ）。"
   ]
  },
  {
   "cell_type": "markdown",
   "metadata": {},
   "source": [
    "$$\n",
    "A_{win,total,D0,i} = A_{win,total,i} \\times ( 1 - \\frac{0.24}{n_i} ) \\times 0.64\n",
    "$$"
   ]
  },
  {
   "cell_type": "markdown",
   "metadata": {},
   "source": [
    "$$\n",
    "A_{win,total,D90,i} = A_{win,total,i} \\times \\frac{0.12}{n_i}\n",
    "$$"
   ]
  },
  {
   "cell_type": "markdown",
   "metadata": {},
   "source": [
    "$$\n",
    "A_{win,total,D180,i} = A_{win,total,i} \\times ( 1 - \\frac{0.24}{n_i} ) \\times 0.36\n",
    "$$"
   ]
  },
  {
   "cell_type": "markdown",
   "metadata": {},
   "source": [
    "$$\n",
    "A_{win,total,D270,i} = A_{win,total,i} \\times \\frac{0.12}{n_i}\n",
    "$$"
   ]
  },
  {
   "cell_type": "markdown",
   "metadata": {},
   "source": [
    "$A_{win,total,i}$: 階$i$における窓面積の合計(m<sup>2</sup>)  \n",
    "$A_{win,total,D0,i}$: 階$i$における主方位から時計回りに0°の方位の窓面積の合計(m<sup>2</sup>)  \n",
    "$A_{win,total,D90,i}$: 階$i$における主方位から時計回りに90°の方位の窓面積の合計(m<sup>2</sup>)  \n",
    "$A_{win,total,D180,i}$: 階$i$における主方位から時計回りに180°の方位の窓面積の合計(m<sup>2</sup>)  \n",
    "$A_{win,total,D270,i}$: 階$i$における主方位から時計回りに270°の方位の窓面積の合計(m<sup>2</sup>)  \n",
    "$n_i$: 階$i$における住戸数(戸)"
   ]
  },
  {
   "cell_type": "code",
   "execution_count": 15,
   "metadata": {},
   "outputs": [],
   "source": [
    "def get_windows_area_total(A_win_total, n):\n",
    "    return HorizontalOrientation(\n",
    "        OrientationValue( A_win_total * (1-0.24/n) * 0.64, 'D0'   ),\n",
    "        OrientationValue( A_win_total * 0.12/n,            'D90'  ),\n",
    "        OrientationValue( A_win_total * (1-0.24/n) * 0.36, 'D180' ),\n",
    "        OrientationValue( A_win_total * 0.12/n,            'D270' )\n",
    "    )"
   ]
  },
  {
   "cell_type": "markdown",
   "metadata": {},
   "source": [
    "### 2. 専有部における各階の各住戸の面積・長さ"
   ]
  },
  {
   "cell_type": "markdown",
   "metadata": {},
   "source": [
    "### 2.1 屋根の面積"
   ]
  },
  {
   "cell_type": "markdown",
   "metadata": {},
   "source": [
    "$$\n",
    "A_{r,i,j} = \\frac{A_{r,total,i}}{n_i}\n",
    "$$"
   ]
  },
  {
   "cell_type": "markdown",
   "metadata": {},
   "source": [
    "$A_{r,i,j}$: 階$i$における住戸$j$の屋根面積 (m<sup>2</sup>)  \n",
    "$A_{r,total,i}$: 階$i$における屋根面積の合計 (m<sup>2</sup>)  \n",
    "$n_i$: 階$i$における住戸数 (戸)"
   ]
  },
  {
   "cell_type": "code",
   "execution_count": 16,
   "metadata": {},
   "outputs": [],
   "source": [
    "def get_roof_area(A_r_total, n):\n",
    "    return A_r_total / n"
   ]
  },
  {
   "cell_type": "markdown",
   "metadata": {},
   "source": [
    "### 2.2 窓の面積"
   ]
  },
  {
   "cell_type": "markdown",
   "metadata": {},
   "source": [
    "階$i$の住戸$j$における主方位から時計回りに0°、90°、180°及び270°の方位の窓面積$A_{win,D0,i,j}$, $A_{win,D90,i,j}$, $A_{win,D180,i,j}$, $A_{win,D270,i,j}$は、住戸位置ごとに次式により算出する。"
   ]
  },
  {
   "cell_type": "markdown",
   "metadata": {},
   "source": [
    "$$\n",
    "A_{win,D0,i,j} = \\frac{ A_{win,total,D0,i} } { n_i }\n",
    "$$"
   ]
  },
  {
   "cell_type": "markdown",
   "metadata": {},
   "source": [
    "$$\n",
    "A_{win,D90,i,j} = \\left\\{\n",
    "    \\begin{array}{ll}\n",
    "        A_{win,total,D90,i} & (j=1) \\\\\n",
    "        0 & (j \\ne 1)\n",
    "    \\end{array}\n",
    "\\right.\n",
    "$$"
   ]
  },
  {
   "cell_type": "markdown",
   "metadata": {},
   "source": [
    "$$\n",
    "A_{win,D180,i,j} = \\frac{ A_{win,total,D180,i} } { n_i }\n",
    "$$"
   ]
  },
  {
   "cell_type": "markdown",
   "metadata": {},
   "source": [
    "$$\n",
    "A_{win,D270,i,j} = \\left\\{\n",
    "    \\begin{array}{ll}\n",
    "        A_{win,total,D270,i} & (j=n) \\\\\n",
    "        0 & (j \\ne n)\n",
    "    \\end{array}\n",
    "\\right.\n",
    "$$"
   ]
  },
  {
   "cell_type": "markdown",
   "metadata": {},
   "source": [
    "$A_{win,D0,i,j}$: 階$i$の住戸$j$における主方位から時計回りに0°の方位の窓面積(m<sup>2</sup>)  \n",
    "$A_{win,D90,i,j}$: 階$i$の住戸$j$における主方位から時計回りに90°の方位の窓面積(m<sup>2</sup>)  \n",
    "$A_{win,D180,i,j}$: 階$i$の住戸$j$における主方位から時計回りに180°の方位の窓面積(m<sup>2</sup>)  \n",
    "$A_{win,D270,i,j}$: 階$i$の住戸$j$における主方位から時計回りに270°の方位の窓面積(m<sup>2</sup>)  \n",
    "$A_{win,total,D0,i}$: 階$i$における主方位から時計回りに0°の方位の窓面積の合計(m<sup>2</sup>)  \n",
    "$A_{win,total,D90,i}$: 階$i$における主方位から時計回りに90°の方位の窓面積の合計(m<sup>2</sup>)  \n",
    "$A_{win,total,D180,i}$: 階$i$における主方位から時計回りに180°の方位の窓面積の合計(m<sup>2</sup>)   \n",
    "$A_{win,total,D270,i}$: 階$i$における主方位から時計回りに270°の方位の窓面積の合計(m<sup>2</sup>)  "
   ]
  },
  {
   "cell_type": "code",
   "execution_count": 17,
   "metadata": {},
   "outputs": [],
   "source": [
    "def get_windows_area(A_win_total, house_number, houseindex):\n",
    "    return HorizontalOrientation(\n",
    "        OrientationValue( A_win_total.d0.v / house_number,                             'D0'   ),\n",
    "        OrientationValue( A_win_total.d90.v if houseindex == 0 else 0,                'D90'  ),\n",
    "        OrientationValue( A_win_total.d180.v / house_number,                           'D180' ),\n",
    "        OrientationValue( A_win_total.d270.v if houseindex == house_number - 1 else 0, 'D270' )\n",
    "    )"
   ]
  },
  {
   "cell_type": "markdown",
   "metadata": {},
   "source": [
    "### 2.3 玄関ドア面積"
   ]
  },
  {
   "cell_type": "markdown",
   "metadata": {},
   "source": [
    "階$i$の住戸$j$における主方位から時計回りに0°、90°、180°及び270°の方位の各方位における玄関ドア面積$A_{door,D0,i,j}$, $A_{door,D90,i,j}$, $A_{door,D180,i,j}$, $A_{door,D270,i,j}$ (m<sup>2</sup>)は次式により算出する。"
   ]
  },
  {
   "cell_type": "markdown",
   "metadata": {},
   "source": [
    "$$\n",
    "A_{door,D0,i,j} = 0\n",
    "$$"
   ]
  },
  {
   "cell_type": "markdown",
   "metadata": {},
   "source": [
    "$$\n",
    "A_{door,D90,i,j} = 0\n",
    "$$"
   ]
  },
  {
   "cell_type": "markdown",
   "metadata": {},
   "source": [
    "$$\n",
    "A_{door,D180,i,j} = 1.6\n",
    "$$"
   ]
  },
  {
   "cell_type": "markdown",
   "metadata": {},
   "source": [
    "$$\n",
    "A_{door,D270,i,j} = 0\n",
    "$$"
   ]
  },
  {
   "cell_type": "markdown",
   "metadata": {},
   "source": [
    "$A_{door,D0,i,j}$: 階$i$の住戸$j$における主方位から時計回りに0°の方位の玄関ドア面積(m<sup>2</sup>)  \n",
    "$A_{door,D90,i,j}$: 階$i$の住戸$j$における主方位から時計回りに90°の方位の玄関ドア面積(m<sup>2</sup>)  \n",
    "$A_{door,D180,i,j}$: 階$i$の住戸$j$における主方位から時計回りに180°の方位の玄関ドア面積(m<sup>2</sup>)  \n",
    "$A_{door,D270,i,j}$: 階$i$の住戸$j$における主方位から時計回りに270°の方位の玄関ドア面積(m<sup>2</sup>)  "
   ]
  },
  {
   "cell_type": "code",
   "execution_count": 18,
   "metadata": {},
   "outputs": [],
   "source": [
    "def get_doors_area():\n",
    "    return HorizontalOrientation(\n",
    "        OrientationValue( 0.0, 'D0'   ),\n",
    "        OrientationValue( 0.0, 'D90'  ),\n",
    "        OrientationValue( 1.6, 'D180' ),\n",
    "        OrientationValue( 0.0, 'D270' )\n",
    "    ) "
   ]
  },
  {
   "cell_type": "markdown",
   "metadata": {},
   "source": [
    "### 2.4 外壁の面積"
   ]
  },
  {
   "cell_type": "markdown",
   "metadata": {},
   "source": [
    "階$i$の住戸$j$における主方位から時計回りに0°、90°、180°及び270°の方位の各方位における外壁面積$A_{ow,D0,i,j}$, $A_{ow,D90,i,j}$, $A_{ow,D180,i,j}$, $A_{ow,D270,i,j}$は、住戸位置ごとに次式により算出する。なお、主方位+180°に玄関前を想定した窪み(幅1m、奥行き1m)を想定する。"
   ]
  },
  {
   "cell_type": "markdown",
   "metadata": {},
   "source": [
    "$$\n",
    "A_{ow,D0,i,j} = \\frac{ l_{long,total,i} }{ n_i } \\times H_i -  A_{win,D0,i,j} - A_{door,D0,i,j}\n",
    "$$"
   ]
  },
  {
   "cell_type": "markdown",
   "metadata": {},
   "source": [
    "$$\n",
    "A_{ow,D90,i,j} = \\left\\{\n",
    "    \\begin{array}{ll}\n",
    "        ( l_{short,total,i} + 1 ) \\times H_i - A_{win,D90,i,j} - A_{door,D90,i,j} & (j=1) \\\\\n",
    "        1 \\times H_i - A_{win,D90,i} - A_{door,D90,i} & (j \\ne 1)\n",
    "    \\end{array}\n",
    "\\right.\n",
    "$$"
   ]
  },
  {
   "cell_type": "markdown",
   "metadata": {},
   "source": [
    "$$\n",
    "A_{ow,D180,i,j} = \\frac{ l_{long,total,i} }{ n_i } \\times H_i -  A_{win,D180,i,j} - A_{door,D180,i,j}\n",
    "$$"
   ]
  },
  {
   "cell_type": "markdown",
   "metadata": {},
   "source": [
    "$$\n",
    "A_{ow,h,k,D270} = \\left\\{\n",
    "    \\begin{array}{ll}\n",
    "        ( l_{short,total} + 1 ) \\times H - A_{win,h,k,D270} - A_{door,h,D270} & (k=n) \\\\\n",
    "        1 \\times H - A_{win,h,k,D270} - A_{door,h,D270} & (k \\ne n)\n",
    "    \\end{array}\n",
    "\\right.\n",
    "$$"
   ]
  },
  {
   "cell_type": "markdown",
   "metadata": {},
   "source": [
    "$A_{ow,D0,i,j}$: 階$i$の住戸$j$における主方位から時計回りに0°の方位の外壁面積(m<sup>2</sup>)  \n",
    "$A_{ow,D90,i,j}$: 階$i$の住戸$j$における主方位から時計回りに90°の方位の外壁面積(m<sup>2</sup>)  \n",
    "$A_{ow,D180,i,j}$: 階$i$の住戸$j$における主方位から時計回りに180°の方位の外壁面積(m<sup>2</sup>)  \n",
    "$A_{ow,D270,i,j}$: 階$i$の住戸$j$における主方位から時計回りに270°の方位の外壁面積(m<sup>2</sup>)  \n",
    "$l_{long,total,i}$: 階$i$における専有部全体の長辺の長さ (m)  \n",
    "$l_{short,total,i}$: 階$i$における専有部全体の短辺の長さ (m)  \n",
    "$n_i$: 階$i$における住戸数 (戸)  \n",
    "$H_i$: 階$i$の階高 (m)  \n",
    "$A_{win,D0,i,j}$: 階$i$の住戸$j$における主方位から時計回りに0°の方位の窓面積 (m<sup>2</sup>)  \n",
    "$A_{win,D90,i,j}$: 階$i$の住戸$j$における主方位から時計回りに90°の方位の窓面積 (m<sup>2</sup>)  \n",
    "$A_{win,D180,i,j}$: 階$i$の住戸$j$における主方位から時計回りに180°の方位の窓面積 (m<sup>2</sup>)  \n",
    "$A_{win,D270,i,j}$: 階$i$の住戸$j$における主方位から時計回りに270°の方位の窓面積 (m<sup>2</sup>)  \n",
    "$A_{door,D0,i,j}$: 階$i$の住戸$j$における主方位から時計回りに0°の方位の玄関ドア面積 (m<sup>2</sup>)  \n",
    "$A_{door,D90,i,j}$: 階$i$の住戸$j$における主方位から時計回りに90°の方位の玄関ドア面積 (m<sup>2</sup>)  \n",
    "$A_{door,D180,i,j}$: 階$i$の住戸$j$における主方位から時計回りに180°の方位の玄関ドア面積 (m<sup>2</sup>)  \n",
    "$A_{door,D270,i,j}$: 階$i$の住戸$j$における主方位から時計回りに270°の方位の玄関ドア面積 (m<sup>2</sup>)  "
   ]
  },
  {
   "cell_type": "code",
   "execution_count": 19,
   "metadata": {},
   "outputs": [],
   "source": [
    "def get_outside_walls_area( l_long_total, l_short_total, H, A_win, A_door, house_number, houseIndex ):\n",
    "    return HorizontalOrientation(\n",
    "        OrientationValue( l_long_total / house_number * H                                  - A_win.d0.v   - A_door.d0.v,   'D0' ),\n",
    "        OrientationValue( (l_short_total if houseIndex == 0 else 0.0 + 1) * H              - A_win.d90.v  - A_door.d90.v,  'D90' ),\n",
    "        OrientationValue( l_long_total / house_number * H                                  - A_win.d180.v - A_door.d180.v, 'D180' ),\n",
    "        OrientationValue( (l_short_total if houseIndex == house_number-1 else 0.0 + 1) * H - A_win.d270.v - A_door.d270.v, 'D270' )\n",
    "    )"
   ]
  },
  {
   "cell_type": "markdown",
   "metadata": {},
   "source": [
    "### 2.5 外気に接する床の面積"
   ]
  },
  {
   "cell_type": "markdown",
   "metadata": {},
   "source": [
    "階$i$の住戸$j$における外気に接する床の面積$A_{of,i,j}$(m<sup>2</sup>)は次式により算出する。なお、最下階($i=1$)の場合は必ず$A_{of,total,i} = 0$のため、$A_{of,i,j}=0$である。"
   ]
  },
  {
   "cell_type": "markdown",
   "metadata": {},
   "source": [
    "$$\n",
    "A_{of,i,j} = \\frac{ A_{of,total,i} }{ n_i }\n",
    "$$"
   ]
  },
  {
   "cell_type": "markdown",
   "metadata": {},
   "source": [
    "$A_{of,i,j}$: 階$i$の住戸$j$における外気に接する床の面積 (m<sup>2</sup>)  \n",
    "$A_{of,total,i}$: 階$i$における専有部の外気に接する床の面積の合計 (m<sup>2</sup>)  \n",
    "$n_i$: 階$i$における住戸数 (戸)"
   ]
  },
  {
   "cell_type": "code",
   "execution_count": 20,
   "metadata": {},
   "outputs": [],
   "source": [
    "def get_outside_floor_area( A_of_total, n ):\n",
    "    return A_of_total / n"
   ]
  },
  {
   "cell_type": "markdown",
   "metadata": {},
   "source": [
    "### 2.6 界壁の面積"
   ]
  },
  {
   "cell_type": "markdown",
   "metadata": {},
   "source": [
    "階$i$の住戸$j$の界壁面積$A_{iw,i,j}$(m<sup>2</sup>)は次式により算出する。"
   ]
  },
  {
   "cell_type": "markdown",
   "metadata": {},
   "source": [
    "$ n_i = 1 $ (階$i$に1住戸しかない場合)の場合、"
   ]
  },
  {
   "cell_type": "markdown",
   "metadata": {},
   "source": [
    "$$\n",
    "A_{iw,i,j} = 0.0\n",
    "$$"
   ]
  },
  {
   "cell_type": "markdown",
   "metadata": {},
   "source": [
    "$ n_i > 2 $ の場合、"
   ]
  },
  {
   "cell_type": "markdown",
   "metadata": {},
   "source": [
    "$$\n",
    "A_{iw,i,j} = \\left\\{\n",
    "    \\begin{array}{ll}\n",
    "        l_{short,total,i} \\times H_i & ( j = 1 ) \\\\\n",
    "        l_{short,total,i} \\times H_i \\times 2 & ( (j \\ne 1) \\  and \\  (j \\ne n_i) ) \\\\\n",
    "        l_{short,total,i} \\times H_i & ( j = n_i )\n",
    "    \\end{array}\n",
    "\\right.\n",
    "$$"
   ]
  },
  {
   "cell_type": "markdown",
   "metadata": {},
   "source": [
    "$n_i$: 階$i$における住戸数(戸)  \n",
    "$A_{iw,i,j}$: 階$i$の住戸$j$における界壁の面積 (m<sup>2</sup>)  \n",
    "$l_{short,total,i}$: 階$i$における専有部全体の短辺の長さ (m)  \n",
    "$H_i$: 階$i$の階高 (m)"
   ]
  },
  {
   "cell_type": "code",
   "execution_count": 21,
   "metadata": {},
   "outputs": [],
   "source": [
    "def get_inside_wall_area(l_short_total, H, n, idx):\n",
    "    if idx == 0:\n",
    "        return l_short_total * H\n",
    "    elif idx == n - 1:\n",
    "        return l_short_total * H\n",
    "    else:\n",
    "        return l_short_total * H * 2"
   ]
  },
  {
   "cell_type": "markdown",
   "metadata": {},
   "source": [
    "### 2.7 界床の面積"
   ]
  },
  {
   "cell_type": "markdown",
   "metadata": {},
   "source": [
    "階$i$の住戸$j$における界床の面積$A_{if,i,j}$ (m<sup>2</sup>) は、次式により算出する。"
   ]
  },
  {
   "cell_type": "markdown",
   "metadata": {},
   "source": [
    "$$\n",
    "A_{if,i,j} = \\left\\{\n",
    "    \\begin{array}{ll}\n",
    "        0 & (i=1)\\\\\n",
    "        \\frac{ A_{f,total,i} }{ n_i } - A_{of,i,j} & ( i \\ge 2 )\n",
    "    \\end{array}\n",
    "\\right.\n",
    "$$"
   ]
  },
  {
   "cell_type": "markdown",
   "metadata": {},
   "source": [
    "$A_{if,i,j}$: 階$i$の住戸$j$における界床面積 (m<sup>2</sup>)  \n",
    "$A_{f,total,i}$: 階$i$の専有部の床面積の合計 (m<sup>2</sup>)  \n",
    "$A_{of,i,j}$: 階$i$の住戸$j$における外気に接する床の面積 (m<sup>2</sup>)  \n",
    "$n_i$: 階$i$における住戸数(戸)"
   ]
  },
  {
   "cell_type": "code",
   "execution_count": 22,
   "metadata": {},
   "outputs": [],
   "source": [
    "def get_inside_floor_area(A_f_total, A_of, n, level):\n",
    "    if level == 0:\n",
    "        return 0.0\n",
    "    else:\n",
    "        return A_f_total / n - A_of"
   ]
  },
  {
   "cell_type": "markdown",
   "metadata": {},
   "source": [
    "### 2.8 界天井の面積"
   ]
  },
  {
   "cell_type": "markdown",
   "metadata": {},
   "source": [
    "階$i$の住戸$j$における界天井の面積$A_{ic,i,j}$ (m<sup>2</sup>) は、次式により算出する。"
   ]
  },
  {
   "cell_type": "markdown",
   "metadata": {},
   "source": [
    "$$\n",
    "A_{ic,i,j} = \\left\\{\n",
    "    \\begin{array}{ll}\n",
    "        0 & (i=N)\\\\\n",
    "        \\frac{ A_{f,total,i} }{ n_i } - A_{r,i} & ( i < N )\n",
    "    \\end{array}\n",
    "\\right.\n",
    "$$"
   ]
  },
  {
   "cell_type": "markdown",
   "metadata": {},
   "source": [
    "$N$: 建物の階数(階)  \n",
    "$A_{ic,i,j}$: 階$i$の住戸$j$における界天井の面積 (m<sup>2</sup>)  \n",
    "$A_{f,total,i}$: 階$i$の専有部の床面積の合計 (m<sup>2</sup>)  \n",
    "$A_{r,i}$: 階$i$の住戸$j$における外気に接する屋根の面積 (m<sup>2</sup>)  \n",
    "$n_i$: 階$i$における住戸数(戸)"
   ]
  },
  {
   "cell_type": "code",
   "execution_count": 23,
   "metadata": {},
   "outputs": [],
   "source": [
    "def get_inside_ceiling_area( A_f_total, A_r, n, level, levelNumber ):\n",
    "    if level == levelNumber - 1:\n",
    "        return 0.0\n",
    "    else:\n",
    "        return A_f_total/n - A_r"
   ]
  },
  {
   "cell_type": "markdown",
   "metadata": {},
   "source": [
    "### 2.9 床下に面する床面積"
   ]
  },
  {
   "cell_type": "markdown",
   "metadata": {},
   "source": [
    "階$i$の住戸$j$における床下に面する床面積$A_{csf,i,j}$ (m<sup>2</sup>) は、次式により算出する。"
   ]
  },
  {
   "cell_type": "markdown",
   "metadata": {},
   "source": [
    "$$\n",
    "A_{csf,i,j} = \\left\\{\n",
    "    \\begin{array}{ll}\n",
    "        \\frac{ A_{f,total,i} }{ n_i } & (i=1)\\\\\n",
    "        0 & ( i \\ge 2 )\n",
    "    \\end{array}\n",
    "\\right.\n",
    "$$"
   ]
  },
  {
   "cell_type": "markdown",
   "metadata": {},
   "source": [
    "$A_{csf,i,j}$: 階$i$の住戸$j$における床下に面する床面積 (m<sup>2</sup>)  \n",
    "$A_{f,total,i}$: 階$i$の専有部の床面積の合計 (m<sup>2</sup>)  \n",
    "$n_i$: 階$i$における住戸数(戸)"
   ]
  },
  {
   "cell_type": "code",
   "execution_count": 24,
   "metadata": {},
   "outputs": [],
   "source": [
    "def get_crawl_space_floor_area(A_f_total, n, level):\n",
    "    if level > 2:\n",
    "        return 0.0\n",
    "    else:\n",
    "        return A_f_total / n"
   ]
  },
  {
   "cell_type": "markdown",
   "metadata": {},
   "source": [
    "### 3. 各住戸の熱橋長さ"
   ]
  },
  {
   "cell_type": "markdown",
   "metadata": {},
   "source": [
    "![HeatBridge](HeatBridgeType.png)"
   ]
  },
  {
   "cell_type": "markdown",
   "metadata": {},
   "source": [
    "各階における各住戸の構造熱橋部の長さ"
   ]
  },
  {
   "cell_type": "markdown",
   "metadata": {},
   "source": [
    "| 種類(修正版)<br>(記号) | 種類<br>(記号) | 境界の数<br>(屋外/屋内/床下) | 熱橋の方向 | 主な発生場所 |\n",
    "| --- | --- | --- | --- | --- |\n",
    "| $ \\psi_{1v,w-w} $  | $ \\psi_{1v} $    | 3 / 1 / - | 鉛直 | 外壁同士の接合部 |\n",
    "| $ \\psi_{1h,w-r} $  | $ \\psi_{1h,r} $  | 3 / 1 / - | 水平 | 外壁と屋根の接合部 |\n",
    "| $ \\psi_{1h,w-f} $  | $ \\psi_{1h,f} $  | 3 / 1 / - | 水平 | 外壁と外気床の接合部 |\n",
    "| $ \\psi_{2v,w} $    | $ \\psi_{2v} $    | 2 / 2 / - | 鉛直 | 外壁と間仕切壁の接合部（住戸長辺≧20mの場合は追加） |\n",
    "| $ \\psi_{2h,r} $    | $ \\psi_{2h,r} $  | 2 / 2 / - | 水平 | 屋根と界壁の接合部（住戸長辺≧20mの場合は追加） |\n",
    "| $ \\psi_{2h,w} $    | $ \\psi_{2h,f1} $ | 2 / 2 / - | 水平 | 外壁と界床の接合部 |\n",
    "| $ \\psi_{2h,f} $  | $ \\psi_{2h,f2} $ | 2 / 2 / - | 水平 | 外気床と界壁の接合部 |\n",
    "| $ \\psi_{3v,w-w} $  | $ \\psi_{3v} $    | 1 / 3 / - | 鉛直 | 外壁同士の接合部 |\n",
    "| $ \\psi_{3h,w-r} $  | $ \\psi_{3h,r} $  | 1 / 3 / - | 水平 | 外壁と中間階屋根の接合部 |\n",
    "| $ \\psi_{3h,w-f} $  | $ \\psi_{3h,f} $  | 1 / 3 / - | 水平 | 外壁と外気床の接合部 |\n",
    "| $ \\psi_{1h,w-uf} $ | $ \\psi_{4h,uf} $ | 2 / 1 / 1 | 水平 | 外壁と最下階床の接合部 |\n",
    "| $ \\psi_{2h,uf} $   | $ \\psi_{5h,uf} $ | - / 2 / 2 | 水平 | 界壁と最下階床の接合部 |\n"
   ]
  },
  {
   "cell_type": "markdown",
   "metadata": {},
   "source": [
    "### 3.1 熱橋長さ$l_{\\psi 1 v,w-w}$"
   ]
  },
  {
   "cell_type": "markdown",
   "metadata": {},
   "source": [
    "階$i$における住戸$j$の$\\psi_{1v,i,j}$の熱橋長さは、住戸位置ごとに下式により算出する。なお、方位+180に玄関前を想定した窪み(幅1m、奥行き1m)を想定する（以下、同じ）。"
   ]
  },
  {
   "cell_type": "markdown",
   "metadata": {},
   "source": [
    "$$\n",
    "l_{\\psi 1v,D0-D90,i,j} = \\left \\{\n",
    "    \\begin{array}{ll}\n",
    "        H_i & ( j = 1 ) \\\\\n",
    "        0 & ( j \\ne 1 ) \\\\\n",
    "    \\end{array}\n",
    "\\right.\n",
    "$$"
   ]
  },
  {
   "cell_type": "markdown",
   "metadata": {},
   "source": [
    "$$\n",
    "l_{\\psi 1v,D90-D180,i,j} = \\left \\{\n",
    "    \\begin{array}{ll}\n",
    "        H_i \\times 2 & ( j = 1 ) \\\\\n",
    "        H_i & ( j \\ne 1 ) \\\\\n",
    "    \\end{array}\n",
    "\\right.\n",
    "$$"
   ]
  },
  {
   "cell_type": "markdown",
   "metadata": {},
   "source": [
    "$$\n",
    "l_{\\psi 1v,D180-D270,i,j} = \\left \\{\n",
    "    \\begin{array}{ll}\n",
    "        H_i \\times 2 & ( j = n ) \\\\\n",
    "        H_i & ( j \\ne n ) \\\\\n",
    "    \\end{array}\n",
    "\\right.\n",
    "$$"
   ]
  },
  {
   "cell_type": "markdown",
   "metadata": {},
   "source": [
    "$$\n",
    "l_{\\psi 1v,D270-D0,i,j} = \\left \\{\n",
    "    \\begin{array}{ll}\n",
    "        H_i & ( j = n ) \\\\\n",
    "        0 & ( j \\ne n ) \\\\\n",
    "    \\end{array}\n",
    "\\right.\n",
    "$$"
   ]
  },
  {
   "cell_type": "code",
   "execution_count": 25,
   "metadata": {},
   "outputs": [],
   "source": [
    "def get_l_psi_1v_ww( H, n, idx ):\n",
    "    return [\n",
    "        OrientationValueHB( H     if idx == 0     else 0.0, 'D0',   'D90'  ),\n",
    "        OrientationValueHB( H * 2 if idx == 0     else H,   'D90',  'D180' ),\n",
    "        OrientationValueHB( H * 2 if idx == n - 1 else H,   'D180', 'D270' ),\n",
    "        OrientationValueHB( H     if idx == n - 1 else 0.0, 'D270', 'D0'   )\n",
    "    ]"
   ]
  },
  {
   "cell_type": "markdown",
   "metadata": {},
   "source": [
    "### 3.2 熱橋長さ$l_{\\psi 1h,w-r}$"
   ]
  },
  {
   "cell_type": "markdown",
   "metadata": {},
   "source": [
    "#### i) 最上階以外($i \\ne N$)の場合でかつ屋根がある($A_{r,total,i} \\gt 0$)場合"
   ]
  },
  {
   "cell_type": "markdown",
   "metadata": {},
   "source": [
    "$$\n",
    "l_{\\psi 1h,w-r,top-D0,i,j} = \\frac{ l_{long,total,i} }{ n_i }\n",
    "$$"
   ]
  },
  {
   "cell_type": "markdown",
   "metadata": {},
   "source": [
    "$$\n",
    "l_{\\psi 1h,w-r,top-D90,i,j} = \\left \\{\n",
    "    \\begin{array}{ll}\n",
    "        \\frac{ A_{r,total,i} }{ l_{long,total,i} } & ( j = 1 ) \\\\\n",
    "        0 & ( j \\ne 1 ) \\\\\n",
    "    \\end{array}\n",
    "\\right.\n",
    "$$"
   ]
  },
  {
   "cell_type": "markdown",
   "metadata": {},
   "source": [
    "$$\n",
    "l_{\\psi 1h,w-r,top-D180,i,j} = 0\n",
    "$$"
   ]
  },
  {
   "cell_type": "markdown",
   "metadata": {},
   "source": [
    "$$\n",
    "l_{\\psi 1h,w-r,top-D270,i,j} = \\left \\{\n",
    "    \\begin{array}{ll}\n",
    "        \\frac{ A_{r,total,i} }{ l_{long,total,i} } & ( j = n_i ) \\\\\n",
    "        0 & ( j \\ne n_i ) \\\\\n",
    "    \\end{array}\n",
    "\\right.\n",
    "$$"
   ]
  },
  {
   "cell_type": "markdown",
   "metadata": {},
   "source": [
    "#### ii) 最上階以外($i \\ne N_i$)の場合でかつ屋根がない($A_{r,total,i} = 0$)場合"
   ]
  },
  {
   "cell_type": "markdown",
   "metadata": {},
   "source": [
    "$$\n",
    "l_{\\psi 1h,w-r,top-D0,i,j} = 0\n",
    "$$"
   ]
  },
  {
   "cell_type": "markdown",
   "metadata": {},
   "source": [
    "$$\n",
    "l_{\\psi 1h,w-r,top-D90,i,j} = 0\n",
    "$$"
   ]
  },
  {
   "cell_type": "markdown",
   "metadata": {},
   "source": [
    "$$\n",
    "l_{\\psi 1h,w-r,top-D180,i,j} = 0\n",
    "$$"
   ]
  },
  {
   "cell_type": "markdown",
   "metadata": {},
   "source": [
    "$$\n",
    "l_{\\psi 1h,w-r,top-D270,i,j} = 0\n",
    "$$"
   ]
  },
  {
   "cell_type": "markdown",
   "metadata": {},
   "source": [
    "#### iii) 最上階($i = N$)の場合"
   ]
  },
  {
   "cell_type": "markdown",
   "metadata": {},
   "source": [
    "$$\n",
    "l_{\\psi 1h,w-r,top-D0,i,j} = \\frac{ l_{long,total,i} }{ n_i }\n",
    "$$"
   ]
  },
  {
   "cell_type": "markdown",
   "metadata": {},
   "source": [
    "$$\n",
    "l_{\\psi 1h,w-r,top-D90,i,j} = \\left \\{\n",
    "    \\begin{array}{ll}\n",
    "        l_{short,total,i} + 1 & ( j = 1 ) \\\\\n",
    "        1 & ( j \\ne 1 ) \\\\\n",
    "    \\end{array}\n",
    "\\right.\n",
    "$$"
   ]
  },
  {
   "cell_type": "markdown",
   "metadata": {},
   "source": [
    "$$\n",
    "l_{\\psi 1h,w-r,top-D180,i,j} = \\frac{ l_{long,total,i} }{ n_i }\n",
    "$$"
   ]
  },
  {
   "cell_type": "markdown",
   "metadata": {},
   "source": [
    "$$\n",
    "l_{\\psi 1h,w-r,top-D270,i,j} = \\left \\{\n",
    "    \\begin{array}{ll}\n",
    "        l_{short,total,i} + 1 & ( j = n ) \\\\\n",
    "        1 & ( j \\ne n ) \\\\\n",
    "    \\end{array}\n",
    "\\right.\n",
    "$$"
   ]
  },
  {
   "cell_type": "code",
   "execution_count": 26,
   "metadata": {},
   "outputs": [],
   "source": [
    "def get_l_psi_1h_wr( l_long_total, l_short_total, A_r_total, n, idx, level, levelNumber ):\n",
    "    if level == levelNumber:\n",
    "        return [\n",
    "            OrientationValueHB( l_long_total / n,                           'top', 'D0'   ),\n",
    "            OrientationValueHB( l_short_total + 1.0 if idx == 0 else 1.0,   'top', 'D90'  ),\n",
    "            OrientationValueHB( l_long_total / n,                           'top', 'D180' ),\n",
    "            OrientationValueHB( l_short_total + 1.0 if idx == n-1 else 1.0, 'top', 'D270' ),\n",
    "        ]\n",
    "    else:\n",
    "        if A_r_total == 0:\n",
    "            return [\n",
    "                OrientationValueHB( 0.0, 'top', 'D0'   ),\n",
    "                OrientationValueHB( 0.0, 'top', 'D90'  ),\n",
    "                OrientationValueHB( 0.0, 'top', 'D180' ),\n",
    "                OrientationValueHB( 0.0, 'top', 'D270' ),\n",
    "            ]\n",
    "        else:\n",
    "            return[\n",
    "                OrientationValueHB( l_long_total / n,                                  'top', 'D0'   ),\n",
    "                OrientationValueHB( A_r_total / l_long_total if idx == 0 else 0.0,     'top', 'D90'  ),\n",
    "                OrientationValueHB( 0.0,                                               'top', 'D180' ),\n",
    "                OrientationValueHB( A_r_total / l_long_total if idx == n - 1 else 0.0, 'top', 'D270' ),\n",
    "            ]        "
   ]
  },
  {
   "cell_type": "markdown",
   "metadata": {},
   "source": [
    "### 3.3 熱橋長さ$l_{\\psi 1h,w-f}$"
   ]
  },
  {
   "cell_type": "markdown",
   "metadata": {},
   "source": [
    "#### i) 外気床がある($A_{of,total,i} \\gt 0$)場合"
   ]
  },
  {
   "cell_type": "markdown",
   "metadata": {},
   "source": [
    "$$\n",
    "l_{\\psi 1h,w-f,bottom-D0,i,j} = \\frac{ l_{long,total,i} }{ n_i }\n",
    "$$"
   ]
  },
  {
   "cell_type": "markdown",
   "metadata": {},
   "source": [
    "$$\n",
    "l_{\\psi 1h,w-f,bottom-D90} = \\left \\{\n",
    "    \\begin{array}{ll}\n",
    "        \\frac{ A_{of,total,i} }{ l_{long,total,i} } & ( j = 1 ) \\\\\n",
    "        0 & ( j \\ne 1 ) \\\\\n",
    "    \\end{array}\n",
    "\\right.\n",
    "$$"
   ]
  },
  {
   "cell_type": "markdown",
   "metadata": {},
   "source": [
    "$$\n",
    "l_{\\psi 1h,w-f,bottom-D180,i,j} = 0\n",
    "$$"
   ]
  },
  {
   "cell_type": "markdown",
   "metadata": {},
   "source": [
    "$$\n",
    "l_{\\psi 1h,w-f,bottom-D270,i,j} = \\left \\{\n",
    "    \\begin{array}{ll}\n",
    "        \\frac{ A_{of,total,i} }{ l_{long,total,i} } & ( j = n ) \\\\\n",
    "        0 & ( j \\ne n ) \\\\\n",
    "    \\end{array}\n",
    "\\right.\n",
    "$$"
   ]
  },
  {
   "cell_type": "markdown",
   "metadata": {},
   "source": [
    "#### ii) 外気床がない($A_{of,total,i} = 0$)場合"
   ]
  },
  {
   "cell_type": "markdown",
   "metadata": {},
   "source": [
    "$$\n",
    "l_{\\psi 1h,w-f,bottom-D0,i,j} = 0\n",
    "$$"
   ]
  },
  {
   "cell_type": "markdown",
   "metadata": {},
   "source": [
    "$$\n",
    "l_{\\psi 1h,w-f,bottom-D90,i,j} = 0\n",
    "$$"
   ]
  },
  {
   "cell_type": "markdown",
   "metadata": {},
   "source": [
    "$$\n",
    "l_{\\psi 1h,w-f,bottom-D180,i,j} = 0\n",
    "$$"
   ]
  },
  {
   "cell_type": "markdown",
   "metadata": {},
   "source": [
    "$$\n",
    "l_{\\psi 1h,w-f,bottom-D270,i,j} = 0\n",
    "$$"
   ]
  },
  {
   "cell_type": "code",
   "execution_count": 27,
   "metadata": {},
   "outputs": [],
   "source": [
    "def get_l_psi_1h_wf( l_long_total, A_of_total, n, idx ):\n",
    "    if A_of_total > 0:\n",
    "        return [\n",
    "            OrientationValueHB( l_long_total / n,                                   'bottom', 'D0'   ),\n",
    "            OrientationValueHB( A_of_total / l_long_total if idx == 0 else 0.0,     'bottom', 'D90'  ),\n",
    "            OrientationValueHB( 0.0,                                                'bottom', 'D180' ),\n",
    "            OrientationValueHB( A_of_total / l_long_total if idx == n - 1 else 0.0, 'bottom', 'D270' ),\n",
    "        ]\n",
    "    else:\n",
    "        return [\n",
    "            OrientationValueHB( 0.0, 'bottom', 'D0'   ),\n",
    "            OrientationValueHB( 0.0, 'bottom', 'D90'  ),\n",
    "            OrientationValueHB( 0.0, 'bottom', 'D180' ),\n",
    "            OrientationValueHB( 0.0, 'bottom', 'D270' ),\n",
    "        ]"
   ]
  },
  {
   "cell_type": "markdown",
   "metadata": {},
   "source": [
    "### 3.4 熱橋長さ$l_{\\psi 2v,w}$"
   ]
  },
  {
   "cell_type": "markdown",
   "metadata": {},
   "source": [
    "$$\n",
    "l_{\\psi 2v,w,D0,i,j} = \\left \\{\n",
    "    \\begin{array}{ll}\n",
    "        0 & ( n_i = 1 ) \\\\\n",
    "        H_i & ( n_i \\gt 1 \\  and \\  j = 1 ) \\\\\n",
    "        H_i & ( n_i \\gt 1 \\  and \\  j = n ) \\\\\n",
    "        H_i \\times 2 & ( n_i \\gt 1 , \\  j \\ne 1 \\  and \\  j \\ne n ) \\\\\n",
    "    \\end{array}\n",
    "\\right.\n",
    "$$"
   ]
  },
  {
   "cell_type": "markdown",
   "metadata": {},
   "source": [
    "$$\n",
    "l_{\\psi 2v,w,D90,i,j} = \\left \\{\n",
    "    \\begin{array}{ll}\n",
    "        H_i \\times \\frac{ \\max \\left( l_{short,total,i} - 10, \\  0 \\right) }{ 10 } & ( j = 1 ) \\\\\n",
    "        0 & ( j \\ne 1 ) \\\\\n",
    "    \\end{array}\n",
    "\\right.\n",
    "$$"
   ]
  },
  {
   "cell_type": "markdown",
   "metadata": {},
   "source": [
    "$$\n",
    "l_{\\psi 2v,w,D180,i,j} = \\left \\{\n",
    "    \\begin{array}{ll}\n",
    "        0 & ( n_i = 1 ) \\\\\n",
    "        H_i & ( n_i \\gt 1 \\  and \\  j = 1 ) \\\\\n",
    "        H_i & ( n_i \\gt 1 \\  and \\  j = n ) \\\\\n",
    "        H_i \\times 2 & ( n_i \\gt 1 , \\  j \\ne 1 \\  and \\  j \\ne n ) \\\\\n",
    "    \\end{array}\n",
    "\\right.\n",
    "$$"
   ]
  },
  {
   "cell_type": "markdown",
   "metadata": {},
   "source": [
    "$$\n",
    "l_{\\psi 2v,w,D270,i,j} = \\left \\{\n",
    "    \\begin{array}{ll}\n",
    "        H_i \\times \\frac{ \\max \\left( l_{short,total,i} - 10, \\  0 \\right) }{ 10 } & ( j = n ) \\\\\n",
    "        0 & ( j \\ne n ) \\\\\n",
    "    \\end{array}\n",
    "\\right.\n",
    "$$"
   ]
  },
  {
   "cell_type": "code",
   "execution_count": 28,
   "metadata": {},
   "outputs": [],
   "source": [
    "def get_l_psi_2v_w( l_short_total, H, n, idx ):\n",
    "    return [\n",
    "        OrientationValueHB( 0.0 if n == 1 else ( H if idx == 0 or idx == n - 1 else H * 2 ),   'D0',   'D0'   ),\n",
    "        OrientationValueHB( H * max( l_short_total - 10, 0.0 ) / 10.0 if idx == 0 else 0.0,    'D90',  'D90'  ),\n",
    "        OrientationValueHB( 0.0 if n == 1 else ( H if idx == 0 or idx == n - 1 else H * 2 ),   'D180', 'D180' ),\n",
    "        OrientationValueHB( H * max( l_short_total - 10, 0.0 ) / 10.0 if idx == n-1 else 0.0,  'D270', 'D270' ),\n",
    "    ]"
   ]
  },
  {
   "cell_type": "markdown",
   "metadata": {},
   "source": [
    "### 3.5 熱橋長さ$l_{\\psi 2h,r}$"
   ]
  },
  {
   "cell_type": "markdown",
   "metadata": {},
   "source": [
    "#### i) 最上階以外($i \\ne N$)の場合でかつ屋根がある($A_{r,total,i} \\gt 0$)場合"
   ]
  },
  {
   "cell_type": "markdown",
   "metadata": {},
   "source": [
    "$$\n",
    "l_{\\psi 2h,r,top,i,j} = \\left \\{\n",
    "    \\begin{array}{ll}\n",
    "        \\frac{ l_{long,total,i} }{ n_i } \\times \\frac{ \\max \\left( \\frac{ A_{r,total,i} }{ l_{long,total,i} } - 10, \\  0 \\right) }{ 10 } & ( n_i = 1 ) \\\\\n",
    "        \\frac{ A_{r,total,i} }{ l_{long,total,i} } + \\frac{ l_{long,total,i} }{ n_i } \\times \\frac{ \\max \\left( \\frac{ A_{r,total,i} }{ l_{long,total,i} } - 10, \\  0 \\right) }{ 10 } & ( n_i > 1 \\  and \\  j = 1 ) \\\\\n",
    "        \\frac{ A_{r,total,i} }{ l_{long,total,i} } + \\frac{ l_{long,total,i} }{ n_i } \\times \\frac{ \\max \\left( \\frac{ A_{r,total,i} }{ l_{long,total,i} } - 10, \\  0 \\right) }{ 10 } & ( n_i > 1 \\  and \\  j = n ) \\\\\n",
    "        \\frac{ A_{r,total,i} }{ l_{long,total,i} } \\times 2 + \\frac{ l_{long,total,i} }{ n_i } \\times \\frac{ \\max \\left( \\frac{ A_{r,total,i} }{ l_{long,total,i} } - 10, \\  0 \\right) }{ 10 } & ( n_i > 1 , \\  j \\ne 1 \\  and \\ j \\ne n ) \\\\\n",
    "    \\end{array}\n",
    "\\right.\n",
    "$$"
   ]
  },
  {
   "cell_type": "markdown",
   "metadata": {},
   "source": [
    "#### ii) 最上階以外($i \\ne N$)の場合でかつ屋根がない($A_{r,total,i} = 0$)場合"
   ]
  },
  {
   "cell_type": "markdown",
   "metadata": {},
   "source": [
    "$$\n",
    "l_{\\psi 2h,r,top,i,j} = 0\n",
    "$$"
   ]
  },
  {
   "cell_type": "markdown",
   "metadata": {},
   "source": [
    "#### iii) 最上階($i = N$)の場合"
   ]
  },
  {
   "cell_type": "markdown",
   "metadata": {},
   "source": [
    "$$\n",
    "l_{\\psi 2h,r,top,i,j} = \\left \\{\n",
    "    \\begin{array}{ll}\n",
    "        \\frac{ l_{long,total,i} }{ n_i } \\times \\frac{ \\max \\left( l_{short,total,i} - 10, \\  0 \\right) }{ 10 } & ( n_i = 1 ) \\\\\n",
    "        l_{short,total,i} + \\frac{ l_{long,total,i} }{ n_i } \\times \\frac{ \\max \\left( l_{short,total,i} - 10, \\  0 \\right)}{ 10 } & ( n_i > 1 \\  and \\  j = 1 ) \\\\\n",
    "        l_{short,total,i} + \\frac{ l_{long,total,i} }{ n_i } \\times \\frac{ \\max \\left( l_{short,total,i} - 10, \\  0 \\right) }{ 10 } & ( n_i > 1 \\  and \\  j = n ) \\\\\n",
    "        l_{short,total,i} \\times 2 + \\frac{ l_{long,total,i} }{ n_i } \\times \\frac{ \\max \\left( l_{short,total,i} - 10, \\  0 \\right) }{ 10 } & ( n_i > 1 , \\  j \\ne 1 \\  and \\ k \\ne n ) \\\\\n",
    "    \\end{array}\n",
    "\\right.\n",
    "$$"
   ]
  },
  {
   "cell_type": "code",
   "execution_count": 29,
   "metadata": {},
   "outputs": [],
   "source": [
    "def get_l_psi_2h_r( A_r_total, l_long_total, l_short_total, n, idx, level, levelNumber ):\n",
    "    if level == levelNumber-1:\n",
    "        return [\n",
    "            OrientationValueHB( 0.0 if n == 1 else ( l_short_total if idx == 0 or idx == n - 1 else l_short_total * 2 )\n",
    "                                 + l_long_total / n * max( l_short_total - 10.0, 0.0 ) / 10.0, 'top', 'top' )\n",
    "        ]\n",
    "    else:\n",
    "        if A_r_total == 0.0:\n",
    "            return [ OrientationValueHB( 0.0, 'top', 'top' ) ]\n",
    "        else:\n",
    "            return [\n",
    "                OrientationValueHB(\n",
    "                0.0 if n == 1 else ( A_r_total / l_long_total if idx == 0 or idx == n - 1 else A_r_total / l_long_total * 2 )\n",
    "                + l_long_total / n * max( A_r_total / l_long_total - 10.0, 0.0 ) / 10.0, 'top', 'top' )\n",
    "            ]"
   ]
  },
  {
   "cell_type": "markdown",
   "metadata": {},
   "source": [
    "### 3.6 熱橋長さ$l_{\\psi 2h,w}$"
   ]
  },
  {
   "cell_type": "markdown",
   "metadata": {},
   "source": [
    "#### i) 最下階($i = 1$)の場合"
   ]
  },
  {
   "cell_type": "markdown",
   "metadata": {},
   "source": [
    "$$\n",
    "l_{\\psi 2 h,w,D0, i,j} = \\left \\{\n",
    "    \\begin{array}{ll}\n",
    "        \\frac{ l_{long,total,i} }{ n_i } & ( A_{of,total,i+1} = 0 ) \\\\\n",
    "        0 & ( A_{of,total,i+1} > 0 ) \\\\\n",
    "    \\end{array}\n",
    "\\right.\n",
    "$$"
   ]
  },
  {
   "cell_type": "markdown",
   "metadata": {},
   "source": [
    "$$\n",
    "l_{\\psi 2 h, w, D90,i,j} = \\left \\{\n",
    "    \\begin{array}{ll}\n",
    "        l_{short,total,i} - \\frac{ A_{r,total,i} }{ l_{long,total,i} } + 1 & ( j = 0 ) \\\\\n",
    "        1 & ( j \\ne 0 ) \\\\\n",
    "    \\end{array}\n",
    "\\right.\n",
    "$$"
   ]
  },
  {
   "cell_type": "markdown",
   "metadata": {},
   "source": [
    "$$\n",
    "l_{ \\psi 2 h, w, D180,i,j } = \\frac{ l_{long,total,i} }{ n_i }\n",
    "$$"
   ]
  },
  {
   "cell_type": "markdown",
   "metadata": {},
   "source": [
    "$$\n",
    "l_{\\psi 2 h, w, D270,i,j} = \\left \\{\n",
    "    \\begin{array}{ll}\n",
    "        l_{short,total,i} - \\frac{ A_{r,total,i} }{ l_{long,total,i} } + 1 & ( j = n_i ) \\\\\n",
    "        1 & ( j \\ne n_i ) \\\\\n",
    "    \\end{array}\n",
    "\\right.\n",
    "$$"
   ]
  },
  {
   "cell_type": "markdown",
   "metadata": {},
   "source": [
    "#### ii) 最上階($i = N$)の場合"
   ]
  },
  {
   "cell_type": "markdown",
   "metadata": {},
   "source": [
    "$$\n",
    "l_{\\psi 2 h,w,D0, i,j} = \\left \\{\n",
    "    \\begin{array}{ll}\n",
    "        \\frac{ l_{long,total,i} }{ n_i } & ( A_{r,total,i-1} = 0 ) \\\\\n",
    "        0 & ( A_{r,total,i-1} > 0 ) \\\\\n",
    "    \\end{array}\n",
    "\\right.\n",
    "$$"
   ]
  },
  {
   "cell_type": "markdown",
   "metadata": {},
   "source": [
    "$$\n",
    "l_{\\psi 2 h, w, D90,i,j} = \\left \\{\n",
    "    \\begin{array}{ll}\n",
    "        l_{short,total,i} - \\frac{ A_{of,total,i} }{ l_{long,total,i} } + 1 & ( j = 0 ) \\\\\n",
    "        1 & ( j \\ne 0 ) \\\\\n",
    "    \\end{array}\n",
    "\\right.\n",
    "$$"
   ]
  },
  {
   "cell_type": "markdown",
   "metadata": {},
   "source": [
    "$$\n",
    "l_{ \\psi 2 h, w, D180,i,j } = \\frac{ l_{long,total,i} }{ n_i }\n",
    "$$"
   ]
  },
  {
   "cell_type": "markdown",
   "metadata": {},
   "source": [
    "$$\n",
    "l_{\\psi 2 h, w, D270,i,j} = \\left \\{\n",
    "    \\begin{array}{ll}\n",
    "        l_{short,total,i} - \\frac{ A_{of,total,i} }{ l_{long,total,i} } + 1 & ( j = n_i ) \\\\\n",
    "        1 & ( j \\ne n_i ) \\\\\n",
    "    \\end{array}\n",
    "\\right.\n",
    "$$"
   ]
  },
  {
   "cell_type": "markdown",
   "metadata": {},
   "source": [
    "#### iii) 中間階($i \\ne 0 \\  and \\  i \\ne N$)の場合"
   ]
  },
  {
   "cell_type": "markdown",
   "metadata": {},
   "source": [
    "$$\n",
    "l_{\\psi 2 h,w,D0, i,j} = \\left \\{\n",
    "    \\begin{array}{ll}\n",
    "        \\frac{ l_{long,total,i} }{ n_i } \\times 2 & ( ( A_{of,total,i+1} = 0 ) \\  and \\  ( A_{r,total,i-1} = 0 ) ) \\\\\n",
    "        \\frac{ l_{long,total,i} }{ n_i } & ( ( A_{of,total,i+1} > 0 ) \\  and \\  ( A_{r,total,i-1} = 0 ) ) \\\\\n",
    "        \\frac{ l_{long,total,i} }{ n_i } & ( ( A_{of,total,i+1} = 0 ) \\  and \\  ( A_{r,total,i-1} > 0 ) ) \\\\\n",
    "        0 & ( ( A_{of,total,i+1} > 0 ) \\  and \\  ( A_{r,total,i-1} > 0 ) ) \\\\\n",
    "    \\end{array}\n",
    "\\right.\n",
    "$$"
   ]
  },
  {
   "cell_type": "markdown",
   "metadata": {},
   "source": [
    "$$\n",
    "l_{\\psi 2 h, w, D90,i,j} = \\left \\{\n",
    "    \\begin{array}{ll}\n",
    "        l_{short,total,i} \\times 2 - \\frac{ A_{r,total,i} }{ l_{long,total,i} } - \\frac{ A_{of,total,i} }{ l_{long,total,i} } + 2 & ( j = 0 ) \\\\\n",
    "        2 & ( j \\ne 0 ) \\\\\n",
    "    \\end{array}\n",
    "\\right.\n",
    "$$"
   ]
  },
  {
   "cell_type": "markdown",
   "metadata": {},
   "source": [
    "$$\n",
    "l_{ \\psi 2 h, w, D180,i,j } = \\frac{ l_{long,total,i} }{ n_i } \\times 2\n",
    "$$"
   ]
  },
  {
   "cell_type": "markdown",
   "metadata": {},
   "source": [
    "$$\n",
    "l_{\\psi 2 h, w, D270,i,j} = \\left \\{\n",
    "    \\begin{array}{ll}\n",
    "        l_{short,total,i} \\times 2 - \\frac{ A_{r,total,i} }{ l_{long,total,i} } - \\frac{ A_{of,total,i} }{ l_{long,total,i} } + 2 & ( j = n_i ) \\\\\n",
    "        2 & ( j \\ne n_i ) \\\\\n",
    "    \\end{array}\n",
    "\\right.\n",
    "$$"
   ]
  },
  {
   "cell_type": "code",
   "execution_count": 30,
   "metadata": {},
   "outputs": [],
   "source": [
    "def get_l_psi_2h_w( A_r_total, A_r_total_mns, A_of_total, A_of_total_pls, l_long_total, l_short_total, n, idx, level, levelNumber ):\n",
    "    if level == 0:\n",
    "        return [\n",
    "            OrientationValueHB( l_long_total / n if A_of_total_pls == 0.0 else 0.0,                     'D0',   'D0'    ),\n",
    "            # ここの条件は、A_r_total == 0.0 も加えるべきではないのか？ 2018.12.10 三浦\n",
    "            OrientationValueHB( l_short_total - A_r_total / l_long_total + 1.0 if idx == 0 else 1.0,    'D90',  'D90'   ),\n",
    "            OrientationValueHB( l_long_total / n,                                                        'D180', 'D180' ),\n",
    "            OrientationValueHB( l_short_total - A_r_total / l_long_total + 1.0 if idx == n - 1 else 1.0, 'D270', 'D270' )\n",
    "        ]\n",
    "    elif level == levelNumber-1:\n",
    "        return [\n",
    "            OrientationValueHB( l_long_total / n if A_r_total_mns == 0.0 else 0.0,                        'D0',   'D0'   ),\n",
    "            # ここの条件は、A_of_tltal == 0.0 も加えるべきではないのか？ 2018.12.10 三浦\n",
    "            OrientationValueHB( l_short_total - A_of_total / l_long_total + 1.0 if idx == 0 else 1.0,     'D90',  'D90'  ),\n",
    "            OrientationValueHB( l_long_total / n,                                                         'D180', 'D180' ),\n",
    "            OrientationValueHB( l_short_total - A_of_total / l_long_total + 1.0 if idx == n - 1 else 1.0, 'D270', 'D270' )\n",
    "        ]\n",
    "    else:\n",
    "        return [\n",
    "            OrientationValueHB( l_long_total / n * 2 if A_of_total_pls == 0.0 and A_r_total_mns == 0.0\n",
    "                               else ( 0.0 if A_of_total_pls > 0.0 and A_r_total_mns > 0.0 else l_long_total / n ), 'D0', 'D0' ),\n",
    "            # ここも上記と同じ疑問 2018.12.10 三浦\n",
    "            OrientationValueHB( l_short_total * 2 - A_r_total / l_long_total - A_of_total / l_long_total + 2.0 if idx == 0\n",
    "                               else 2.0, 'D90', 'D90' ),\n",
    "            OrientationValueHB( l_long_total / n * 2, 'D180', 'D180' ),\n",
    "            OrientationValueHB( l_short_total * 2 - A_r_total / l_long_total - A_of_total / l_long_total + 2.0 if idx == n - 1\n",
    "                               else 2.0, 'D270', 'D270' )\n",
    "        ]"
   ]
  },
  {
   "cell_type": "markdown",
   "metadata": {},
   "source": [
    "### 3.7 熱橋長さ$l_{\\psi 2h,f}$"
   ]
  },
  {
   "cell_type": "markdown",
   "metadata": {},
   "source": [
    "#### i) 外気床がある($A_{of,total,i} \\gt 0$)場合"
   ]
  },
  {
   "cell_type": "markdown",
   "metadata": {},
   "source": [
    "$$\n",
    "l_{\\psi 2h,f,bottom,i,j} = \\left \\{\n",
    "    \\begin{array}{ll}\n",
    "        \\frac{ l_{long,total,i} }{ n_i } \\times \\frac{ \\max \\left( \\frac{ A_{of,total,i} }{ l_{long,total,i} } - 10.0, \\  0.0 \\right) }{ 10 } & ( n_i = 1 ) \\\\\n",
    "        \\frac{ A_{of,total,i} }{ l_{long,total,i} } + \\frac{ l_{long,total,i} }{ n_i } \\times \\frac{ \\max \\left( \\frac{ A_{of,total,i} }{ l_{long,total,i} } - 10.0, \\  0.0 \\right) }{ 10 } & ( n_i > 1 \\  and \\  j = 1 ) \\\\\n",
    "        \\frac{ A_{of,total,i} }{ l_{long,total,i} } + \\frac{ l_{long,total,i} }{ n_i } \\times \\frac{ \\max \\left( \\frac{ A_{of,total,i} }{ l_{long,total,i} } - 10.0, \\  0.0 \\right) }{ 10 } & ( n_i > 1 \\  and \\  j = n ) \\\\\n",
    "        \\frac{ A_{of,total,i} }{ l_{long,total,i} } \\times 2 + \\frac{ l_{long,total,i} }{ n_i } \\times \\frac{ \\max \\left( \\frac{ A_{of,total,i} }{ l_{long,total,i} } - 10.0, \\  0.0 \\right) }{ 10 } & ( n_i > 1 , \\  j \\ne 1 \\  and \\ j \\ne n ) \\\\\n",
    "    \\end{array}\n",
    "\\right.\n",
    "$$"
   ]
  },
  {
   "cell_type": "markdown",
   "metadata": {},
   "source": [
    "#### ii) 外気床がない($A_{of,total,i} = 0$)場合"
   ]
  },
  {
   "cell_type": "markdown",
   "metadata": {},
   "source": [
    "$$\n",
    "l_{\\psi 2h,f,bottom,i,j} = 0\n",
    "$$"
   ]
  },
  {
   "cell_type": "code",
   "execution_count": 31,
   "metadata": {},
   "outputs": [],
   "source": [
    "def get_l_psi_2h_f( A_of_total, l_long_total, n, idx ):\n",
    "    if A_of_total > 0:\n",
    "        if n == 1:\n",
    "            return [ OrientationValueHB( l_long_total / n * max( A_of_total / l_long_total - 10.0, 0.0 ) / 10.0, 'bottom', 'bottom' ) ]\n",
    "        else:\n",
    "            if idx == 0 or idx == n - 1:\n",
    "                return [ OrientationValueHB( A_of_total / l_long_total\n",
    "                                          + l_long_total / n * max( A_of_total / l_long_total - 10.0, 0.0 ) / 10.0, 'bottom', 'bottom' ) ]\n",
    "            else:\n",
    "                return [ OrientationValueHB( A_of_total / l_long_total * 2\n",
    "                                          + l_long_total / n * max( A_of_total / l_long_total - 10.0, 0.0 ) / 10.0, 'bottom', 'bottom' ) ]\n",
    "    else:\n",
    "        return [ OrientationValueHB( 0.0, 'bottom', 'bottom' ) ]"
   ]
  },
  {
   "cell_type": "markdown",
   "metadata": {},
   "source": [
    "### 3.8 熱橋長さ$l_{\\psi 3v,w-w}$"
   ]
  },
  {
   "cell_type": "markdown",
   "metadata": {},
   "source": [
    "$$\n",
    "l_{\\psi 3 v, w-w, D90-D180,i,j} = H_i \\times 2\n",
    "$$"
   ]
  },
  {
   "cell_type": "markdown",
   "metadata": {},
   "source": [
    "$$\n",
    "l_{\\psi 3 v, w-w, D180-D270,i,j} = H_i \\times 2\n",
    "$$"
   ]
  },
  {
   "cell_type": "code",
   "execution_count": 32,
   "metadata": {},
   "outputs": [],
   "source": [
    "def get_l_psi_3v_ww( H ):\n",
    "    return [ OrientationValueHB( H * 2, 'D90',  'D180' ),\n",
    "             OrientationValueHB( H * 2, 'D180', 'D270' ) ]"
   ]
  },
  {
   "cell_type": "markdown",
   "metadata": {},
   "source": [
    "### 3.9 熱橋長さ$l_{\\psi 3h,w-r}$"
   ]
  },
  {
   "cell_type": "markdown",
   "metadata": {},
   "source": [
    "#### i) 最下階($i = 1$)の場合"
   ]
  },
  {
   "cell_type": "markdown",
   "metadata": {},
   "source": [
    "$$\n",
    "l_{\\psi 3 h, w-r, top-D0,i,j} = \\left \\{\n",
    "    \\begin{array}{ll}\n",
    "        0 & (A_{r,total,i}=0) \\\\\n",
    "        \\frac{ l_{long,total,i} }{ n_i } & (A_{r,total,i}>0) \\\\\n",
    "    \\end{array}\n",
    "\\right.\n",
    "$$"
   ]
  },
  {
   "cell_type": "markdown",
   "metadata": {},
   "source": [
    "#### ii) 最上階($i=N$)の場合"
   ]
  },
  {
   "cell_type": "markdown",
   "metadata": {},
   "source": [
    "$$\n",
    "l_{\\psi 3 h, w-r, top-D0,i,j} = \\left \\{\n",
    "    \\begin{array}{ll}\n",
    "        0 & (A_{r,total,i-1}=0) \\\\\n",
    "        \\frac{ l_{long,total,i} }{ n_i } & (A_{r,total,i-1}>0) \\\\\n",
    "    \\end{array}\n",
    "\\right.\n",
    "$$"
   ]
  },
  {
   "cell_type": "markdown",
   "metadata": {},
   "source": [
    "#### iii) 中間階($(i \\ne 1) \\  and \\  (i \\ne N)$)の場合"
   ]
  },
  {
   "cell_type": "markdown",
   "metadata": {},
   "source": [
    "$$\n",
    "l_{\\psi 3 h, w-r, top-D0,i,j} = \\left \\{\n",
    "    \\begin{array}{ll}\n",
    "        0 & ((A_{r,total,i}=0)\\  and \\  (A_{r,total,i-1}=0)) \\\\\n",
    "        \\frac{ l_{long,total,i} }{ n_i } & ((A_{r,total,i}>0)\\  and \\  (A_{r,total,i-1}=0)) \\\\\n",
    "        \\frac{ l_{long,total,i} }{ n_i } & ((A_{r,total,i}=0)\\  and \\  (A_{r,total,i-1}>0)) \\\\\n",
    "        \\frac{ l_{long,total,i} }{ n_i } \\times 2 & ((A_{r,total,i}>0)\\  and \\  (A_{r,total,i-1}>0)) \\\\\n",
    "    \\end{array}\n",
    "\\right.\n",
    "$$"
   ]
  },
  {
   "cell_type": "code",
   "execution_count": 33,
   "metadata": {},
   "outputs": [],
   "source": [
    "def get_l_psi_3h_wr( l_long_total, A_r_total, A_r_total_mns, n, level, levelNumber ):\n",
    "    if level == 0:\n",
    "        return [ OrientationValueHB( 0.0 if A_r_total == 0.0 else l_long_total / n, 'top', 'D0' ) ]\n",
    "    elif level == levelNumber-1:\n",
    "        return [ OrientationValueHB( 0.0 if A_r_total_mns == 0.0 else l_long_total / n, 'top', 'D0' ) ]\n",
    "    else:\n",
    "        return [ OrientationValueHB( 0.0 if A_r_total == 0.0 and A_r_total_mns == 0.0 \n",
    "                                   else ( l_long_total / n * 2 if A_r_total > 0.0 and A_r_total_mns > 0.0 else l_long_total / n ),\n",
    "                                   'top', 'D0' ) ] # ここの書き方は明示的でないので直すこと"
   ]
  },
  {
   "cell_type": "markdown",
   "metadata": {},
   "source": [
    "### 3.10 熱橋長さ$l_{\\psi 3h,w-f}$"
   ]
  },
  {
   "cell_type": "markdown",
   "metadata": {},
   "source": [
    "#### i) 最上階($i=N$)の場合"
   ]
  },
  {
   "cell_type": "markdown",
   "metadata": {},
   "source": [
    "$$\n",
    "l_{\\psi 3 h, w-f, bottom-D0,i,j} = \\left \\{\n",
    "    \\begin{array}{ll}\n",
    "        0 & (A_{of,total,i}=0) \\\\\n",
    "        \\frac{ l_{long,total,i} }{ n_i } & (A_{of,total,i}>0) \\\\\n",
    "    \\end{array}\n",
    "\\right.\n",
    "$$"
   ]
  },
  {
   "cell_type": "markdown",
   "metadata": {},
   "source": [
    "#### ii) 最上階以外($i \\ne N$)の場合"
   ]
  },
  {
   "cell_type": "markdown",
   "metadata": {},
   "source": [
    "$$\n",
    "l_{\\psi 3 h, w-f, bottom-D0,i,j} = \\left \\{\n",
    "    \\begin{array}{ll}\n",
    "        0 & ((A_{of,total,i}=0)\\  and \\  (A_{of,total,i+1}=0)) \\\\\n",
    "        \\frac{ l_{long,total,i} }{ n_i } & ((A_{of,total,i}>0)\\  and \\  (A_{of,total,i+1}=0)) \\\\\n",
    "        \\frac{ l_{long,total,i} }{ n_i } & ((A_{of,total,i}=0)\\  and \\  (A_{of,total,i+1}>0)) \\\\\n",
    "        \\frac{ l_{long,total,i} }{ n_i } \\times 2 & ((A_{of,total,i}>0)\\  and \\  (A_{of,total,i+1}>0)) \\\\\n",
    "    \\end{array}\n",
    "\\right.\n",
    "$$"
   ]
  },
  {
   "cell_type": "code",
   "execution_count": 34,
   "metadata": {},
   "outputs": [],
   "source": [
    "def get_l_psi_3h_wf( A_of_total, A_of_total_pls, level, levelNumber ):\n",
    "    if level == levelNumber:\n",
    "        return [ OrientationValueHB( 0.0 if A_of_total == 0.0 else l_long_total / n, 'bottom', 'D0' ) ]\n",
    "    else:\n",
    "        return [ OrientationValueHB( 0.0 if A_of_total == 0.0 and A_of_total_pls == 0.0\n",
    "                                   else ( l_long_total / n * 2 if A_of_total > 0.0 and A_of_total_pls > 0.0 else l_long_total / n ),\n",
    "                                   'bottom', 'D0' ) ] # ここも少し書き直した方が良い"
   ]
  },
  {
   "cell_type": "markdown",
   "metadata": {},
   "source": [
    "### 3.11 熱橋長さ$l_{\\psi 1h,w-uf}$"
   ]
  },
  {
   "cell_type": "markdown",
   "metadata": {},
   "source": [
    "$$\n",
    "l_{\\psi 1 h, w-uf, bottom-D0,i,j} = \\frac{ l_{long,total,i} }{ n_i }\n",
    "$$"
   ]
  },
  {
   "cell_type": "markdown",
   "metadata": {},
   "source": [
    "$$\n",
    "l_{\\psi 1 h, w-uf,bottom-D90,i,j} = \\left \\{\n",
    "    \\begin{array}{ll}\n",
    "        l_{short,total,i} + 1 & (j=1) \\\\\n",
    "        1 & (j \\ne 1) \\\\\n",
    "    \\end{array}\n",
    "\\right.\n",
    "$$"
   ]
  },
  {
   "cell_type": "markdown",
   "metadata": {},
   "source": [
    "$$\n",
    "l_{\\psi 1 h, w-uf, bottom-D180,i,j} = \\frac{ l_{long,total,i} }{ n_i }\n",
    "$$"
   ]
  },
  {
   "cell_type": "markdown",
   "metadata": {},
   "source": [
    "$$\n",
    "l_{\\psi 1 h, w-uf,bottom-D270,i,j} = \\left \\{\n",
    "    \\begin{array}{ll}\n",
    "        l_{short,total,i} + 1 & (j=n_i) \\\\\n",
    "        1 & (j \\ne n_i) \\\\\n",
    "    \\end{array}\n",
    "\\right.\n",
    "$$"
   ]
  },
  {
   "cell_type": "code",
   "execution_count": 35,
   "metadata": {},
   "outputs": [],
   "source": [
    "def get_l_psi_1h_wuf( l_long_total, l_short_total, idx, n ):\n",
    "    return [\n",
    "        OrientationValueHB( l_long_total / n, 'bottom', 'D0' ),\n",
    "        OrientationValueHB( l_short_total + 1.0 if idx == 0 else 1.0, 'bottom', 'D90' ),\n",
    "        OrientationValueHB( l_long_total / n, 'bottom', 'D180' ),\n",
    "        OrientationValueHB( l_short_total + 1.0 if idx == 0 else n - 1, 'bottom', 'D270' ),\n",
    "    ]"
   ]
  },
  {
   "cell_type": "markdown",
   "metadata": {},
   "source": [
    "### 3.12 熱橋長さ$l_{\\psi 2h,uf}$"
   ]
  },
  {
   "cell_type": "markdown",
   "metadata": {},
   "source": [
    "#### i) 最下階($i=1$)の場合"
   ]
  },
  {
   "cell_type": "markdown",
   "metadata": {},
   "source": [
    "$$\n",
    "l_{\\psi 2 h,uf,bottom,i,j} = \\left \\{\n",
    "    \\begin{array}{ll}\n",
    "        \\frac{ l_{long,total,i} }{ n_i } \\times \\frac{ \\max \\left( l_{short,total,i} - 10, \\  0 \\right) }{ 10 } & ( n_i = 1 ) \\\\\n",
    "        l_{short,total,i} + \\frac{ l_{long,total,i} }{ n_i } \\times \\frac{ \\max \\left( l_{short,total,i} - 10, \\  0 \\right) }{ 10 } & ( n_i > 1 \\  and \\  j = 1 ) \\\\\n",
    "        l_{short,total,i} + \\frac{ l_{long,total,i} }{ n_i } \\times \\frac{ \\max \\left( l_{short,total,i} - 10, \\  0 \\right) }{ 10 } & ( n_i > 1 \\  and \\  j = n_i ) \\\\\n",
    "        l_{short,total,i} \\times 2 + \\frac{ l_{long,total,i} }{ n_i } \\times \\frac{ \\max \\left( l_{short,total,i} - 10, \\  0 \\right) }{ 10 } & ( n_i > 1 , \\  j \\ne 1 \\  and \\ j \\ne n_i ) \\\\\n",
    "    \\end{array}\n",
    "\\right.\n",
    "$$"
   ]
  },
  {
   "cell_type": "markdown",
   "metadata": {},
   "source": [
    "#### ii) 最下階($i \\ne 1$)の場合"
   ]
  },
  {
   "cell_type": "markdown",
   "metadata": {},
   "source": [
    "$$\n",
    "l_{\\psi 2 h,uf,bottom,i,j} = 0\n",
    "$$"
   ]
  },
  {
   "cell_type": "code",
   "execution_count": 36,
   "metadata": {},
   "outputs": [],
   "source": [
    "def get_l_psi_2h_uf( l_long_total, l_short_total, n, idx, level ):\n",
    "    if level == 0:\n",
    "        if n == 1:\n",
    "            return [\n",
    "                OrientationValueHB( l_long_total / n * max( l_short_total - 10.0, 0.0 ) / 10.0, 'bottom', 'bottom' )\n",
    "            ]\n",
    "        else:\n",
    "            if idx != 0 and idx != n - 1:\n",
    "                return [\n",
    "                    OrientationValueHB( l_short_total *  2 + l_long_total / n * max( l_short_total - 10.0, 0.0 ) / 10.0, 'bottom', 'bottom')\n",
    "                ]\n",
    "            else:\n",
    "                return [\n",
    "                    OrientationValueHB( l_short_total + l_long_total / n * max( l_short_total - 10.0, 0.0 ) / 10.0, 'bottom', 'bottom')\n",
    "                ]\n",
    "    else:\n",
    "        return [ OrientationValueHB( 0.0, 'bottom', 'bottom' ) ]"
   ]
  },
  {
   "cell_type": "markdown",
   "metadata": {},
   "source": [
    "## V. クラス"
   ]
  },
  {
   "cell_type": "code",
   "execution_count": 37,
   "metadata": {},
   "outputs": [],
   "source": [
    "class Building():\n",
    "    \n",
    "    def __init__(self, d):\n",
    "        \n",
    "        common = d['common']\n",
    "        \n",
    "        self.region       = common['region']\n",
    "        self.structure    = common['structure']\n",
    "        self.levels       = common['levels_number']\n",
    "        self.height       = common['height']\n",
    "        self.direction    = common['opening_main_direction']\n",
    "        \n",
    "        self.private_area = PrivateArea(d, self.levels)\n",
    "    \n",
    "    def calc(self):\n",
    "        \n",
    "        self.private_area.calc(self)\n",
    "    \n",
    "    def get_dict(self):\n",
    "        \n",
    "        return {\n",
    "            'common' : {\n",
    "                'region'    : self.region,\n",
    "                'structure' : self.structure,\n",
    "            },\n",
    "            'private_area' : self.private_area.get_dict()\n",
    "        }"
   ]
  },
  {
   "cell_type": "code",
   "execution_count": 38,
   "metadata": {},
   "outputs": [],
   "source": [
    "class PrivateArea():\n",
    "    \n",
    "    def __init__(self, d, levels_number):\n",
    "        \n",
    "        private_area = d['private_area']\n",
    "        \n",
    "        self.wall_U_value         = private_area['wall']['U_value']\n",
    "        self.wall_ins_pos         = private_area['wall']['ins_pos']\n",
    "        self.wall_HB_spec         = private_area['wall']['HB_spec']\n",
    "        self.roof_U_value         = private_area['roof']['U_value']\n",
    "        self.roof_ins_pos         = private_area['roof']['ins_pos']\n",
    "        self.roof_HB_spec         = private_area['roof']['HB_spec']\n",
    "        self.floor_U_value        = private_area['floor']['U_value']\n",
    "        self.floor_ins_pos        = private_area['floor']['ins_pos']\n",
    "        self.floor_HB_spec        = private_area['floor']['HB_spec']\n",
    "        self.inside_wall_U_value  = private_area['inside_wall']['U_value']\n",
    "        self.inside_floor_U_value = private_area['inside_floor']['U_value']\n",
    "        self.window_U_value       = private_area['window']['U_value']\n",
    "        self.window_eta_value     = private_area['window']['eta_value']\n",
    "        \n",
    "        self.floors = [ PrivateFloor(level, d) for level in range(levels_number) ]\n",
    "    \n",
    "    def calc(self, building):\n",
    "        \n",
    "        for f in self.floors:\n",
    "            f.calc(building, self)\n",
    "            \n",
    "    def get_dict(self):\n",
    "        \n",
    "        return {\n",
    "            'wall' : {\n",
    "                'U_value' : self.wall_U_value,\n",
    "                'ins_pos' : self.wall_ins_pos,\n",
    "                'HB_spec' : self.wall_HB_spec,\n",
    "            },\n",
    "            'roof' : {\n",
    "                'U_value' : self.roof_U_value,\n",
    "                'ins_pos' : self.roof_ins_pos,\n",
    "                'HB_spec' : self.roof_HB_spec,\n",
    "            },\n",
    "            'floor' : {\n",
    "                'U_value' : self.floor_U_value,\n",
    "                'ins_pos' : self.floor_ins_pos,\n",
    "                'HB_spec' : self.floor_HB_spec,\n",
    "            },\n",
    "            'inside_wall' : {\n",
    "                'U_value' : self.inside_wall_U_value,\n",
    "            },\n",
    "            'inside_floor' : {\n",
    "                'U_value' : self.inside_floor_U_value,\n",
    "            },\n",
    "            'window' : {\n",
    "                'U_value' : self.window_U_value,\n",
    "                'eta_value' : self.window_eta_value,\n",
    "            },\n",
    "            'private_floors' : [f.get_dict() for f in self.floors]\n",
    "        }"
   ]
  },
  {
   "cell_type": "code",
   "execution_count": 39,
   "metadata": {},
   "outputs": [],
   "source": [
    "class PrivateFloor():\n",
    "    \n",
    "    def __init__(self, level, d):\n",
    "        \n",
    "        self.level = level\n",
    "        \n",
    "        private_floor = d['private_area']['private_floors'][self.level]\n",
    "\n",
    "        self.house_number             = private_floor['house_number']\n",
    "        self.floor_area               = private_floor['floor_area']\n",
    "        self.peri_length_outside      = private_floor['peri_length_outside']\n",
    "        self.window_area              = private_floor['window_area']\n",
    "        self.roof_area_total_input    = private_floor['roof_area']\n",
    "        self.outside_floor_area_input = private_floor['outside_floor_area']\n",
    "        \n",
    "        levels_number = d['common']['levels_number']\n",
    "        self.roof_area_total = get_roof_area_total(\n",
    "            self.roof_area_total_input, self.floor_area, self.level, levels_number) # 屋根面積\n",
    "        self.outside_floor_area_total = get_outside_floor_area_total(self.outside_floor_area_input, self.level) # 外気に接する床の面積\n",
    "        \n",
    "        self.houses = [ House(i) for i in range(self.house_number) ]\n",
    "\n",
    "    def calc(self, building, private_area):\n",
    "        \n",
    "        self.height = get_height(building.height, building.levels) # 階高\n",
    "        \n",
    "        self.l_long_total  = get_l_long_total(self.peri_length_outside, self.floor_area) # 長辺の長さ\n",
    "        self.l_short_total = get_l_short_total(self.peri_length_outside, self.floor_area) # 短辺の長さ\n",
    "        \n",
    "        self.windows_area_total = get_windows_area_total(self.window_area, self.house_number) # 窓面積の合計\n",
    "        \n",
    "        for h in self.houses:\n",
    "            h.calc(building, self)\n",
    "        \n",
    "    def get_dict(self):\n",
    "        \n",
    "        return {\n",
    "            'level'  : self.level,\n",
    "            'height' : self.height,\n",
    "            'houses' : [ h.get_dict() for h in self.houses ]\n",
    "        }"
   ]
  },
  {
   "cell_type": "code",
   "execution_count": 40,
   "metadata": {},
   "outputs": [],
   "source": [
    "class House():\n",
    "    \n",
    "    def __init__(self, index):\n",
    "        \n",
    "        self.index = index\n",
    "    \n",
    "    def calc(self, building, floor):\n",
    "        \n",
    "        self.roof_area = get_roof_area(\n",
    "            floor.roof_area_total, floor.house_number) # 屋根面積\n",
    "        \n",
    "        self.windows_area = get_windows_area(\n",
    "            floor.windows_area_total, floor.house_number, self.index) # 窓面積\n",
    "        \n",
    "        self.doors_area = get_doors_area() # 玄関ドア面積\n",
    "        \n",
    "        self.outside_walls_area = get_outside_walls_area(\n",
    "            floor.l_long_total, floor.l_short_total, floor.height, self.windows_area,\n",
    "            self.doors_area, floor.house_number, self.index) # 外壁面積\n",
    "        \n",
    "        self.outside_floor_area = get_outside_floor_area(\n",
    "            floor.outside_floor_area_total, floor.house_number) # 外気に面する床面積\n",
    "\n",
    "        self.inside_wall_area = get_inside_wall_area(\n",
    "            floor.l_short_total, floor.height, floor.house_number, self.index) # 界壁面積\n",
    "        \n",
    "        self.inside_floor_area = get_inside_floor_area(\n",
    "            floor.floor_area, self.outside_floor_area, floor.house_number, floor.level) # 界床面積\n",
    "\n",
    "        self.inside_ceiling_area = get_inside_ceiling_area(\n",
    "            floor.floor_area, self.roof_area, floor.house_number, floor.level, building.levels) # 界天井面積\n",
    "        \n",
    "        self.crawl_space_floor_area = get_crawl_space_floor_area(\n",
    "            floor.floor_area, floor.house_number, floor.level) # 床下に面する床面積\n",
    "        \n",
    "        # 熱橋長さ\n",
    "        self.l_psi_1v_ww = get_l_psi_1v_ww(\n",
    "            floor.height, floor.house_number, self.index)\n",
    "        self.l_psi_1h_wr = get_l_psi_1h_wr(\n",
    "            floor.l_long_total, floor.l_short_total, floor.roof_area_total, floor.house_number, self.index,\n",
    "            floor.level, building.levels)\n",
    "        self.l_psi_1h_wf = get_l_psi_1h_wf(\n",
    "            floor.l_long_total, floor.outside_floor_area_total, floor.house_number, self.index)\n",
    "        self.l_psi_2v_w = get_l_psi_2v_w(\n",
    "            floor.l_short_total, floor.height, floor.house_number, self.index)\n",
    "        self.l_psi_2h_r = get_l_psi_2h_r(\n",
    "            floor.roof_area_total, floor.l_long_total, floor.l_short_total, floor.house_number,\n",
    "            self.index, floor.level, building.levels)\n",
    "        \n",
    "        # １つ上の階の外気床の面積 もっと良い書き方があるかもしれないので後日書き換えること\n",
    "        A_of_total_pls = 0.0 if floor.level == building.levels - 1 else building.private_area.floors[floor.level+1].outside_floor_area_total\n",
    "        # 1つ下の階の屋根の面積 もっと良い書き方があるかもしれないので後日書き換えること\n",
    "        A_r_total_mns  = 0.0 if floor.level == 0 else building.private_area.floors[floor.level-1].roof_area_total\n",
    "        # ↑１つ上の階層の、floorで書いた方が良い。\n",
    "        \n",
    "        self.l_psi_2h_w = get_l_psi_2h_w(\n",
    "            floor.roof_area_total, A_r_total_mns, floor.outside_floor_area_total, A_of_total_pls,\n",
    "            floor.l_long_total, floor.l_short_total, floor.house_number, self.index, floor.level, building.levels )\n",
    "        self.l_psi_2h_f   = get_l_psi_2h_f(\n",
    "            floor.outside_floor_area_total, floor.l_long_total, floor.house_number, self.index )\n",
    "        self.l_psi_3v_ww = get_l_psi_3v_ww(floor.height)\n",
    "        self.l_psi_3h_wr = get_l_psi_3h_wr(\n",
    "            floor.l_long_total, floor.roof_area_total, A_r_total_mns, floor.house_number, floor.level, building.levels)\n",
    "        self.l_psi_3h_wf = get_l_psi_3h_wf(\n",
    "            floor.outside_floor_area_total, A_of_total_pls, floor.level, building.levels)\n",
    "        self.l_psi_1h_wuf = get_l_psi_1h_wuf(\n",
    "            floor.l_long_total, floor.l_short_total, self.index, floor.house_number)\n",
    "        self.l_psi_2h_uf = get_l_psi_2h_uf(\n",
    "            floor.l_long_total, floor.l_short_total, floor.house_number, self.index, floor.level)\n",
    "\n",
    "    def get_dict(self):\n",
    "        \n",
    "        return {\n",
    "            'index'                  : self.index,\n",
    "            'roof_area'              : self.roof_area,\n",
    "            'windows_area'           : self.windows_area.get_dict(),\n",
    "            'doors_area'             : self.doors_area.get_dict(),\n",
    "            'outside_walls_area'     : self.outside_walls_area.get_dict(),\n",
    "            'outside_floor_area'     : self.outside_floor_area,\n",
    "            'inside_wall_area'       : self.inside_wall_area,\n",
    "            'inside_floor_area'      : self.inside_floor_area,\n",
    "            'inside_ceiling_area'    : self.inside_ceiling_area,\n",
    "            'crawl_space_floor_area' : self.crawl_space_floor_area,\n",
    "            'heat_bridge_length' : {\n",
    "                '1v_ww'  : [l.get_info() for l in self.l_psi_1v_ww],\n",
    "                '1h_wr'  : [l.get_info() for l in self.l_psi_1h_wr],\n",
    "                '1h_wf'  : [l.get_info() for l in self.l_psi_1h_wf],\n",
    "                '2v_w'   : [l.get_info() for l in self.l_psi_2v_w],\n",
    "                '2h_r'   : [l.get_info() for l in self.l_psi_2h_r],\n",
    "                '2h_w'   : [l.get_info() for l in self.l_psi_2h_w],\n",
    "                '2h_f'   : [l.get_info() for l in self.l_psi_2h_f],\n",
    "                '3v_ww'  : [l.get_info() for l in self.l_psi_3v_ww],\n",
    "                '3h_wr'  : [l.get_info() for l in self.l_psi_3h_wr],\n",
    "                '3h_wf'  : [l.get_info() for l in self.l_psi_3h_wf],\n",
    "                '1h_wuf' : [l.get_info() for l in self.l_psi_1h_wuf],\n",
    "                '2h_uf'  : [l.get_info() for l in self.l_psi_2h_uf],\n",
    "            },\n",
    "        }"
   ]
  },
  {
   "cell_type": "code",
   "execution_count": 41,
   "metadata": {},
   "outputs": [],
   "source": [
    "d = {\n",
    "    'common' : {\n",
    "        'region'                 : 6,    # 地域の区分\n",
    "        'structure'              : 'RC', # 建物の構造\n",
    "        'levels_number'          : 3,    # 建物の階数\n",
    "        'height'                 : 9.1,  # 建物の高さ(m)\n",
    "        'opening_main_direction' : 'S',  # 主開口部の方位\n",
    "    },\n",
    "    'private_area' : {\n",
    "        'private_floors' : [    # 各階の情報\n",
    "            {\n",
    "                'house_number'        : 4,         # 住戸数\n",
    "                'floor_area'          : 162.64,    # 床面積の合計(m2)\n",
    "                'peri_length_outside' : 66.56,     # 外周長 外気と接する部分(m)\n",
    "                'PeriLengthInside'    : 0.0,       # 外周長 空調された共用部や非住宅部と接する部分(m)\n",
    "                'PeriLengthPrivate'   : 0.0,       # 外周長 住戸と接する部分(住棟を複数の方位に分けて計算する場合のみ)(m)\n",
    "                'window_area'         : 30.48,     # 窓面積の合計(m2)\n",
    "                'roof_area'           : 0.0,       # (最上階を除く)屋根面積の合計(m2)\n",
    "                'outside_floor_area'  : None,      # (最下階を除く)外気床の面積の合計(m2)\n",
    "            },\n",
    "            {\n",
    "                'house_number'        : 4,         # 住戸数\n",
    "                'floor_area'          : 162.64,    # 床面積の合計(m2)\n",
    "                'peri_length_outside' : 66.56,     # 外周長 外気と接する部分(m)\n",
    "                'PeriLengthInside'    : 0.0,       # 外周長 空調された共用部や非住宅部と接する部分(m)\n",
    "                'PeriLengthPrivate'   : 0.0,       # 外周長 住戸と接する部分(住棟を複数の方位に分けて計算する場合のみ)(m)\n",
    "                'window_area'         : 30.64,     # 窓面積の合計(m2)\n",
    "                'roof_area'           : 0.0,       # (最上階を除く)屋根面積の合計(m2)\n",
    "                'outside_floor_area'  : 0.0,       # (最下階を除く)外気床の面積の合計(m2)\n",
    "            },\n",
    "            {\n",
    "                'house_number'        : 4,         # 住戸数\n",
    "                'floor_area'          : 162.64,    # 床面積の合計(m2)\n",
    "                'peri_length_outside' : 66.56,     # 外周長 外気と接する部分(m)\n",
    "                'PeriLengthInside'    : 0.0,       # 外周長 空調された共用部や非住宅部と接する部分(m)\n",
    "                'PeriLengthPrivate'   : 0.0,       # 外周長 住戸と接する部分(住棟を複数の方位に分けて計算する場合のみ)(m)\n",
    "                'window_area'         : 30.64,     # 窓面積の合計(m2)\n",
    "                'roof_area'           : None,      # (最上階を除く)屋根面積の合計(m2)\n",
    "                'outside_floor_area'  : 0.0,       # (最下階を除く)外気床の面積の合計(m2)\n",
    "            },\n",
    "        ],\n",
    "        'wall' : {                 # 外壁の仕様\n",
    "            'U_value' : 0.785,     # 熱貫流率(U値)(W/m2K)\n",
    "            'ins_pos' : 'inside',  # 断熱位置, inside=内断熱, outside=外断熱, non=無断熱 から選択\n",
    "            'HB_spec' : 'spec1'    # 断熱補強の仕様, spec1=仕様1, spec2=仕様2, non=補強なし, null=該当なし から選択\n",
    "        },\n",
    "        'roof' : {                 # 屋根の仕様\n",
    "            'U_value' : 0.417,     # 熱貫流率(U値)(W/m2K)\n",
    "            'ins_pos' : 'outside', # 断熱位置, inside=内断熱, outside=外断熱, non=無断熱 から選択\n",
    "            'HB_spec' : 'spec1'    # 断熱補強の仕様, spec1=仕様1, spec2=仕様2, non=補強なし, null=該当なし から選択\n",
    "        },\n",
    "        'floor' : {                # 最下階床の仕様\n",
    "            'U_value' : 0.507,     # 熱貫流率(U値)(W/m2K)\n",
    "            'ins_pos' : 'outside', # 断熱位置, inside=内断熱, outside=外断熱, non=無断熱 から選択\n",
    "            'HB_spec' : 'null'     # 断熱補強の仕様, spec1=仕様1, spec2=仕様2, non=補強なし, null=該当なし から選択\n",
    "        },\n",
    "        'inside_wall' : {\n",
    "            'U_value'   : 2.34, # 界壁の熱貫流率(U値)(W/m2K)\n",
    "        },\n",
    "        'inside_floor' : {\n",
    "            'U_value'  : 1.796, # 界床の熱貫流率(U値)(W/m2K)\n",
    "        },\n",
    "        'window' : {\n",
    "            'U_value'   : 4.65, # 窓の熱貫流率(U値)(W/m2K)\n",
    "            'eta_value' : 0.79, # 窓の日射熱取得率(η値)    \n",
    "        }\n",
    "    },\n",
    "    \"PublicArea\" : {\n",
    "        'FloorArea'          : [68.82, 59.7, 59.7], # 各階の共用部・非住宅部の床面積の合計(m2)\n",
    "        'RoofArea'           : [9.125, 0.0, None],  # 各階(最上階を除く)の屋根面積の合計(m2)\n",
    "        'OutsideFloorArea'   : [None, 0.0, 0.0],    # 各階(最下階を除く)の外気床の面積の合計(m2)\n",
    "        'WallUValue'         : 0.00,                # 外壁の熱貫流率(U値)(W/m2K)\n",
    "        'InsideFloorUValue'  : 0.00,                # 界床の熱貫流率(U値)(W/m2K)\n",
    "        'OutsideFloorUValue' : 0.00,                # 外気床の熱貫流率(U値)(W/m2K)\n",
    "        'WindowUValue'       : 0.00,                # 窓の熱貫流率(U値)(W/m2K)\n",
    "        'WindowEtaValue'     : 0.00,                # 窓の日射熱取得率(η値)\n",
    "    },\n",
    "}"
   ]
  },
  {
   "cell_type": "code",
   "execution_count": 42,
   "metadata": {},
   "outputs": [
    {
     "name": "stdout",
     "output_type": "stream",
     "text": [
      "{'common': {'region': 6, 'structure': 'RC'},\n",
      " 'private_area': {'floor': {'HB_spec': 'null',\n",
      "                            'U_value': 0.507,\n",
      "                            'ins_pos': 'outside'},\n",
      "                  'inside_floor': {'U_value': 1.796},\n",
      "                  'inside_wall': {'U_value': 2.34},\n",
      "                  'private_floors': [{'height': 3.033333333333333,\n",
      "                                      'houses': [{'crawl_space_floor_area': 40.66,\n",
      "                                                  'doors_area': {'D0': 0.0,\n",
      "                                                                 'D180': 1.6,\n",
      "                                                                 'D270': 0.0,\n",
      "                                                                 'D90': 0.0},\n",
      "                                                  'heat_bridge_length': {'1h_wf': [{'orientation1': 'bottom',\n",
      "                                                                                    'orientation2': 'D0',\n",
      "                                                                                    'value': 0.0},\n",
      "                                                                                   {'orientation1': 'bottom',\n",
      "                                                                                    'orientation2': 'D90',\n",
      "                                                                                    'value': 0.0},\n",
      "                                                                                   {'orientation1': 'bottom',\n",
      "                                                                                    'orientation2': 'D180',\n",
      "                                                                                    'value': 0.0},\n",
      "                                                                                   {'orientation1': 'bottom',\n",
      "                                                                                    'orientation2': 'D270',\n",
      "                                                                                    'value': 0.0}],\n",
      "                                                                         '1h_wr': [{'orientation1': 'top',\n",
      "                                                                                    'orientation2': 'D0',\n",
      "                                                                                    'value': 0.0},\n",
      "                                                                                   {'orientation1': 'top',\n",
      "                                                                                    'orientation2': 'D90',\n",
      "                                                                                    'value': 0.0},\n",
      "                                                                                   {'orientation1': 'top',\n",
      "                                                                                    'orientation2': 'D180',\n",
      "                                                                                    'value': 0.0},\n",
      "                                                                                   {'orientation1': 'top',\n",
      "                                                                                    'orientation2': 'D270',\n",
      "                                                                                    'value': 0.0}],\n",
      "                                                                         '1h_wuf': [{'orientation1': 'bottom',\n",
      "                                                                                     'orientation2': 'D0',\n",
      "                                                                                     'value': 6.832190112997203},\n",
      "                                                                                    {'orientation1': 'bottom',\n",
      "                                                                                     'orientation2': 'D90',\n",
      "                                                                                     'value': 6.9512395480111895},\n",
      "                                                                                    {'orientation1': 'bottom',\n",
      "                                                                                     'orientation2': 'D180',\n",
      "                                                                                     'value': 6.832190112997203},\n",
      "                                                                                    {'orientation1': 'bottom',\n",
      "                                                                                     'orientation2': 'D270',\n",
      "                                                                                     'value': 6.9512395480111895}],\n",
      "                                                                         '1v_ww': [{'orientation1': 'D0',\n",
      "                                                                                    'orientation2': 'D90',\n",
      "                                                                                    'value': 3.033333333333333},\n",
      "                                                                                   {'orientation1': 'D90',\n",
      "                                                                                    'orientation2': 'D180',\n",
      "                                                                                    'value': 6.066666666666666},\n",
      "                                                                                   {'orientation1': 'D180',\n",
      "                                                                                    'orientation2': 'D270',\n",
      "                                                                                    'value': 3.033333333333333},\n",
      "                                                                                   {'orientation1': 'D270',\n",
      "                                                                                    'orientation2': 'D0',\n",
      "                                                                                    'value': 0.0}],\n",
      "                                                                         '2h_f': [{'orientation1': 'bottom',\n",
      "                                                                                   'orientation2': 'bottom',\n",
      "                                                                                   'value': 0.0}],\n",
      "                                                                         '2h_r': [{'orientation1': 'top',\n",
      "                                                                                   'orientation2': 'top',\n",
      "                                                                                   'value': 0.0}],\n",
      "                                                                         '2h_uf': [{'orientation1': 'bottom',\n",
      "                                                                                    'orientation2': 'bottom',\n",
      "                                                                                    'value': 5.9512395480111895}],\n",
      "                                                                         '2h_w': [{'orientation1': 'D0',\n",
      "                                                                                   'orientation2': 'D0',\n",
      "                                                                                   'value': 6.832190112997203},\n",
      "                                                                                  {'orientation1': 'D90',\n",
      "                                                                                   'orientation2': 'D90',\n",
      "                                                                                   'value': 6.9512395480111895},\n",
      "                                                                                  {'orientation1': 'D180',\n",
      "                                                                                   'orientation2': 'D180',\n",
      "                                                                                   'value': 6.832190112997203},\n",
      "                                                                                  {'orientation1': 'D270',\n",
      "                                                                                   'orientation2': 'D270',\n",
      "                                                                                   'value': 1.0}],\n",
      "                                                                         '2v_w': [{'orientation1': 'D0',\n",
      "                                                                                   'orientation2': 'D0',\n",
      "                                                                                   'value': 3.033333333333333},\n",
      "                                                                                  {'orientation1': 'D90',\n",
      "                                                                                   'orientation2': 'D90',\n",
      "                                                                                   'value': 0.0},\n",
      "                                                                                  {'orientation1': 'D180',\n",
      "                                                                                   'orientation2': 'D180',\n",
      "                                                                                   'value': 3.033333333333333},\n",
      "                                                                                  {'orientation1': 'D270',\n",
      "                                                                                   'orientation2': 'D270',\n",
      "                                                                                   'value': 0.0}],\n",
      "                                                                         '3h_wf': [{'orientation1': 'bottom',\n",
      "                                                                                    'orientation2': 'D0',\n",
      "                                                                                    'value': 0.0}],\n",
      "                                                                         '3h_wr': [{'orientation1': 'top',\n",
      "                                                                                    'orientation2': 'D0',\n",
      "                                                                                    'value': 0.0}],\n",
      "                                                                         '3v_ww': [{'orientation1': 'D90',\n",
      "                                                                                    'orientation2': 'D180',\n",
      "                                                                                    'value': 6.066666666666666},\n",
      "                                                                                   {'orientation1': 'D180',\n",
      "                                                                                    'orientation2': 'D270',\n",
      "                                                                                    'value': 6.066666666666666}]},\n",
      "                                                  'index': 0,\n",
      "                                                  'inside_ceiling_area': 40.66,\n",
      "                                                  'inside_floor_area': 0.0,\n",
      "                                                  'inside_wall_area': 18.05209329563394,\n",
      "                                                  'outside_floor_area': 0.0,\n",
      "                                                  'outside_walls_area': {'D0': 16.140118009424853,\n",
      "                                                                         'D180': 16.54570200942485,\n",
      "                                                                         'D270': 3.033333333333333,\n",
      "                                                                         'D90': 17.13769329563394},\n",
      "                                                  'roof_area': 0.0,\n",
      "                                                  'windows_area': {'D0': 4.584192,\n",
      "                                                                   'D180': 2.578608,\n",
      "                                                                   'D270': 0,\n",
      "                                                                   'D90': 0.9144}},\n",
      "                                                 {'crawl_space_floor_area': 40.66,\n",
      "                                                  'doors_area': {'D0': 0.0,\n",
      "                                                                 'D180': 1.6,\n",
      "                                                                 'D270': 0.0,\n",
      "                                                                 'D90': 0.0},\n",
      "                                                  'heat_bridge_length': {'1h_wf': [{'orientation1': 'bottom',\n",
      "                                                                                    'orientation2': 'D0',\n",
      "                                                                                    'value': 0.0},\n",
      "                                                                                   {'orientation1': 'bottom',\n",
      "                                                                                    'orientation2': 'D90',\n",
      "                                                                                    'value': 0.0},\n",
      "                                                                                   {'orientation1': 'bottom',\n",
      "                                                                                    'orientation2': 'D180',\n",
      "                                                                                    'value': 0.0},\n",
      "                                                                                   {'orientation1': 'bottom',\n",
      "                                                                                    'orientation2': 'D270',\n",
      "                                                                                    'value': 0.0}],\n",
      "                                                                         '1h_wr': [{'orientation1': 'top',\n",
      "                                                                                    'orientation2': 'D0',\n",
      "                                                                                    'value': 0.0},\n",
      "                                                                                   {'orientation1': 'top',\n",
      "                                                                                    'orientation2': 'D90',\n",
      "                                                                                    'value': 0.0},\n",
      "                                                                                   {'orientation1': 'top',\n",
      "                                                                                    'orientation2': 'D180',\n",
      "                                                                                    'value': 0.0},\n",
      "                                                                                   {'orientation1': 'top',\n",
      "                                                                                    'orientation2': 'D270',\n",
      "                                                                                    'value': 0.0}],\n",
      "                                                                         '1h_wuf': [{'orientation1': 'bottom',\n",
      "                                                                                     'orientation2': 'D0',\n",
      "                                                                                     'value': 6.832190112997203},\n",
      "                                                                                    {'orientation1': 'bottom',\n",
      "                                                                                     'orientation2': 'D90',\n",
      "                                                                                     'value': 1.0},\n",
      "                                                                                    {'orientation1': 'bottom',\n",
      "                                                                                     'orientation2': 'D180',\n",
      "                                                                                     'value': 6.832190112997203},\n",
      "                                                                                    {'orientation1': 'bottom',\n",
      "                                                                                     'orientation2': 'D270',\n",
      "                                                                                     'value': 3}],\n",
      "                                                                         '1v_ww': [{'orientation1': 'D0',\n",
      "                                                                                    'orientation2': 'D90',\n",
      "                                                                                    'value': 0.0},\n",
      "                                                                                   {'orientation1': 'D90',\n",
      "                                                                                    'orientation2': 'D180',\n",
      "                                                                                    'value': 3.033333333333333},\n",
      "                                                                                   {'orientation1': 'D180',\n",
      "                                                                                    'orientation2': 'D270',\n",
      "                                                                                    'value': 3.033333333333333},\n",
      "                                                                                   {'orientation1': 'D270',\n",
      "                                                                                    'orientation2': 'D0',\n",
      "                                                                                    'value': 0.0}],\n",
      "                                                                         '2h_f': [{'orientation1': 'bottom',\n",
      "                                                                                   'orientation2': 'bottom',\n",
      "                                                                                   'value': 0.0}],\n",
      "                                                                         '2h_r': [{'orientation1': 'top',\n",
      "                                                                                   'orientation2': 'top',\n",
      "                                                                                   'value': 0.0}],\n",
      "                                                                         '2h_uf': [{'orientation1': 'bottom',\n",
      "                                                                                    'orientation2': 'bottom',\n",
      "                                                                                    'value': 11.902479096022379}],\n",
      "                                                                         '2h_w': [{'orientation1': 'D0',\n",
      "                                                                                   'orientation2': 'D0',\n",
      "                                                                                   'value': 6.832190112997203},\n",
      "                                                                                  {'orientation1': 'D90',\n",
      "                                                                                   'orientation2': 'D90',\n",
      "                                                                                   'value': 1.0},\n",
      "                                                                                  {'orientation1': 'D180',\n",
      "                                                                                   'orientation2': 'D180',\n",
      "                                                                                   'value': 6.832190112997203},\n",
      "                                                                                  {'orientation1': 'D270',\n",
      "                                                                                   'orientation2': 'D270',\n",
      "                                                                                   'value': 1.0}],\n",
      "                                                                         '2v_w': [{'orientation1': 'D0',\n",
      "                                                                                   'orientation2': 'D0',\n",
      "                                                                                   'value': 6.066666666666666},\n",
      "                                                                                  {'orientation1': 'D90',\n",
      "                                                                                   'orientation2': 'D90',\n",
      "                                                                                   'value': 0.0},\n",
      "                                                                                  {'orientation1': 'D180',\n",
      "                                                                                   'orientation2': 'D180',\n",
      "                                                                                   'value': 6.066666666666666},\n",
      "                                                                                  {'orientation1': 'D270',\n",
      "                                                                                   'orientation2': 'D270',\n",
      "                                                                                   'value': 0.0}],\n",
      "                                                                         '3h_wf': [{'orientation1': 'bottom',\n",
      "                                                                                    'orientation2': 'D0',\n",
      "                                                                                    'value': 0.0}],\n",
      "                                                                         '3h_wr': [{'orientation1': 'top',\n",
      "                                                                                    'orientation2': 'D0',\n",
      "                                                                                    'value': 0.0}],\n",
      "                                                                         '3v_ww': [{'orientation1': 'D90',\n",
      "                                                                                    'orientation2': 'D180',\n",
      "                                                                                    'value': 6.066666666666666},\n",
      "                                                                                   {'orientation1': 'D180',\n",
      "                                                                                    'orientation2': 'D270',\n",
      "                                                                                    'value': 6.066666666666666}]},\n",
      "                                                  'index': 1,\n",
      "                                                  'inside_ceiling_area': 40.66,\n",
      "                                                  'inside_floor_area': 0.0,\n",
      "                                                  'inside_wall_area': 36.10418659126788,\n",
      "                                                  'outside_floor_area': 0.0,\n",
      "                                                  'outside_walls_area': {'D0': 16.140118009424853,\n",
      "                                                                         'D180': 16.54570200942485,\n",
      "                                                                         'D270': 3.033333333333333,\n",
      "                                                                         'D90': 3.033333333333333},\n",
      "                                                  'roof_area': 0.0,\n",
      "                                                  'windows_area': {'D0': 4.584192,\n",
      "                                                                   'D180': 2.578608,\n",
      "                                                                   'D270': 0,\n",
      "                                                                   'D90': 0}},\n",
      "                                                 {'crawl_space_floor_area': 40.66,\n",
      "                                                  'doors_area': {'D0': 0.0,\n",
      "                                                                 'D180': 1.6,\n",
      "                                                                 'D270': 0.0,\n",
      "                                                                 'D90': 0.0},\n",
      "                                                  'heat_bridge_length': {'1h_wf': [{'orientation1': 'bottom',\n",
      "                                                                                    'orientation2': 'D0',\n",
      "                                                                                    'value': 0.0},\n",
      "                                                                                   {'orientation1': 'bottom',\n",
      "                                                                                    'orientation2': 'D90',\n",
      "                                                                                    'value': 0.0},\n",
      "                                                                                   {'orientation1': 'bottom',\n",
      "                                                                                    'orientation2': 'D180',\n",
      "                                                                                    'value': 0.0},\n",
      "                                                                                   {'orientation1': 'bottom',\n",
      "                                                                                    'orientation2': 'D270',\n",
      "                                                                                    'value': 0.0}],\n",
      "                                                                         '1h_wr': [{'orientation1': 'top',\n",
      "                                                                                    'orientation2': 'D0',\n",
      "                                                                                    'value': 0.0},\n",
      "                                                                                   {'orientation1': 'top',\n",
      "                                                                                    'orientation2': 'D90',\n",
      "                                                                                    'value': 0.0},\n",
      "                                                                                   {'orientation1': 'top',\n",
      "                                                                                    'orientation2': 'D180',\n",
      "                                                                                    'value': 0.0},\n",
      "                                                                                   {'orientation1': 'top',\n",
      "                                                                                    'orientation2': 'D270',\n",
      "                                                                                    'value': 0.0}],\n",
      "                                                                         '1h_wuf': [{'orientation1': 'bottom',\n",
      "                                                                                     'orientation2': 'D0',\n",
      "                                                                                     'value': 6.832190112997203},\n",
      "                                                                                    {'orientation1': 'bottom',\n",
      "                                                                                     'orientation2': 'D90',\n",
      "                                                                                     'value': 1.0},\n",
      "                                                                                    {'orientation1': 'bottom',\n",
      "                                                                                     'orientation2': 'D180',\n",
      "                                                                                     'value': 6.832190112997203},\n",
      "                                                                                    {'orientation1': 'bottom',\n",
      "                                                                                     'orientation2': 'D270',\n",
      "                                                                                     'value': 3}],\n",
      "                                                                         '1v_ww': [{'orientation1': 'D0',\n",
      "                                                                                    'orientation2': 'D90',\n",
      "                                                                                    'value': 0.0},\n",
      "                                                                                   {'orientation1': 'D90',\n",
      "                                                                                    'orientation2': 'D180',\n",
      "                                                                                    'value': 3.033333333333333},\n",
      "                                                                                   {'orientation1': 'D180',\n",
      "                                                                                    'orientation2': 'D270',\n",
      "                                                                                    'value': 3.033333333333333},\n",
      "                                                                                   {'orientation1': 'D270',\n",
      "                                                                                    'orientation2': 'D0',\n",
      "                                                                                    'value': 0.0}],\n",
      "                                                                         '2h_f': [{'orientation1': 'bottom',\n",
      "                                                                                   'orientation2': 'bottom',\n",
      "                                                                                   'value': 0.0}],\n",
      "                                                                         '2h_r': [{'orientation1': 'top',\n",
      "                                                                                   'orientation2': 'top',\n",
      "                                                                                   'value': 0.0}],\n",
      "                                                                         '2h_uf': [{'orientation1': 'bottom',\n",
      "                                                                                    'orientation2': 'bottom',\n",
      "                                                                                    'value': 11.902479096022379}],\n",
      "                                                                         '2h_w': [{'orientation1': 'D0',\n",
      "                                                                                   'orientation2': 'D0',\n",
      "                                                                                   'value': 6.832190112997203},\n",
      "                                                                                  {'orientation1': 'D90',\n",
      "                                                                                   'orientation2': 'D90',\n",
      "                                                                                   'value': 1.0},\n",
      "                                                                                  {'orientation1': 'D180',\n",
      "                                                                                   'orientation2': 'D180',\n",
      "                                                                                   'value': 6.832190112997203},\n",
      "                                                                                  {'orientation1': 'D270',\n",
      "                                                                                   'orientation2': 'D270',\n",
      "                                                                                   'value': 1.0}],\n",
      "                                                                         '2v_w': [{'orientation1': 'D0',\n",
      "                                                                                   'orientation2': 'D0',\n",
      "                                                                                   'value': 6.066666666666666},\n",
      "                                                                                  {'orientation1': 'D90',\n",
      "                                                                                   'orientation2': 'D90',\n",
      "                                                                                   'value': 0.0},\n",
      "                                                                                  {'orientation1': 'D180',\n",
      "                                                                                   'orientation2': 'D180',\n",
      "                                                                                   'value': 6.066666666666666},\n",
      "                                                                                  {'orientation1': 'D270',\n",
      "                                                                                   'orientation2': 'D270',\n",
      "                                                                                   'value': 0.0}],\n",
      "                                                                         '3h_wf': [{'orientation1': 'bottom',\n",
      "                                                                                    'orientation2': 'D0',\n",
      "                                                                                    'value': 0.0}],\n",
      "                                                                         '3h_wr': [{'orientation1': 'top',\n",
      "                                                                                    'orientation2': 'D0',\n",
      "                                                                                    'value': 0.0}],\n",
      "                                                                         '3v_ww': [{'orientation1': 'D90',\n",
      "                                                                                    'orientation2': 'D180',\n",
      "                                                                                    'value': 6.066666666666666},\n",
      "                                                                                   {'orientation1': 'D180',\n",
      "                                                                                    'orientation2': 'D270',\n",
      "                                                                                    'value': 6.066666666666666}]},\n",
      "                                                  'index': 2,\n",
      "                                                  'inside_ceiling_area': 40.66,\n",
      "                                                  'inside_floor_area': 0.0,\n",
      "                                                  'inside_wall_area': 36.10418659126788,\n",
      "                                                  'outside_floor_area': 0.0,\n",
      "                                                  'outside_walls_area': {'D0': 16.140118009424853,\n",
      "                                                                         'D180': 16.54570200942485,\n",
      "                                                                         'D270': 3.033333333333333,\n",
      "                                                                         'D90': 3.033333333333333},\n",
      "                                                  'roof_area': 0.0,\n",
      "                                                  'windows_area': {'D0': 4.584192,\n",
      "                                                                   'D180': 2.578608,\n",
      "                                                                   'D270': 0,\n",
      "                                                                   'D90': 0}},\n",
      "                                                 {'crawl_space_floor_area': 40.66,\n",
      "                                                  'doors_area': {'D0': 0.0,\n",
      "                                                                 'D180': 1.6,\n",
      "                                                                 'D270': 0.0,\n",
      "                                                                 'D90': 0.0},\n",
      "                                                  'heat_bridge_length': {'1h_wf': [{'orientation1': 'bottom',\n",
      "                                                                                    'orientation2': 'D0',\n",
      "                                                                                    'value': 0.0},\n",
      "                                                                                   {'orientation1': 'bottom',\n",
      "                                                                                    'orientation2': 'D90',\n",
      "                                                                                    'value': 0.0},\n",
      "                                                                                   {'orientation1': 'bottom',\n",
      "                                                                                    'orientation2': 'D180',\n",
      "                                                                                    'value': 0.0},\n",
      "                                                                                   {'orientation1': 'bottom',\n",
      "                                                                                    'orientation2': 'D270',\n",
      "                                                                                    'value': 0.0}],\n",
      "                                                                         '1h_wr': [{'orientation1': 'top',\n",
      "                                                                                    'orientation2': 'D0',\n",
      "                                                                                    'value': 0.0},\n",
      "                                                                                   {'orientation1': 'top',\n",
      "                                                                                    'orientation2': 'D90',\n",
      "                                                                                    'value': 0.0},\n",
      "                                                                                   {'orientation1': 'top',\n",
      "                                                                                    'orientation2': 'D180',\n",
      "                                                                                    'value': 0.0},\n",
      "                                                                                   {'orientation1': 'top',\n",
      "                                                                                    'orientation2': 'D270',\n",
      "                                                                                    'value': 0.0}],\n",
      "                                                                         '1h_wuf': [{'orientation1': 'bottom',\n",
      "                                                                                     'orientation2': 'D0',\n",
      "                                                                                     'value': 6.832190112997203},\n",
      "                                                                                    {'orientation1': 'bottom',\n",
      "                                                                                     'orientation2': 'D90',\n",
      "                                                                                     'value': 1.0},\n",
      "                                                                                    {'orientation1': 'bottom',\n",
      "                                                                                     'orientation2': 'D180',\n",
      "                                                                                     'value': 6.832190112997203},\n",
      "                                                                                    {'orientation1': 'bottom',\n",
      "                                                                                     'orientation2': 'D270',\n",
      "                                                                                     'value': 3}],\n",
      "                                                                         '1v_ww': [{'orientation1': 'D0',\n",
      "                                                                                    'orientation2': 'D90',\n",
      "                                                                                    'value': 0.0},\n",
      "                                                                                   {'orientation1': 'D90',\n",
      "                                                                                    'orientation2': 'D180',\n",
      "                                                                                    'value': 3.033333333333333},\n",
      "                                                                                   {'orientation1': 'D180',\n",
      "                                                                                    'orientation2': 'D270',\n",
      "                                                                                    'value': 6.066666666666666},\n",
      "                                                                                   {'orientation1': 'D270',\n",
      "                                                                                    'orientation2': 'D0',\n",
      "                                                                                    'value': 3.033333333333333}],\n",
      "                                                                         '2h_f': [{'orientation1': 'bottom',\n",
      "                                                                                   'orientation2': 'bottom',\n",
      "                                                                                   'value': 0.0}],\n",
      "                                                                         '2h_r': [{'orientation1': 'top',\n",
      "                                                                                   'orientation2': 'top',\n",
      "                                                                                   'value': 0.0}],\n",
      "                                                                         '2h_uf': [{'orientation1': 'bottom',\n",
      "                                                                                    'orientation2': 'bottom',\n",
      "                                                                                    'value': 5.9512395480111895}],\n",
      "                                                                         '2h_w': [{'orientation1': 'D0',\n",
      "                                                                                   'orientation2': 'D0',\n",
      "                                                                                   'value': 6.832190112997203},\n",
      "                                                                                  {'orientation1': 'D90',\n",
      "                                                                                   'orientation2': 'D90',\n",
      "                                                                                   'value': 1.0},\n",
      "                                                                                  {'orientation1': 'D180',\n",
      "                                                                                   'orientation2': 'D180',\n",
      "                                                                                   'value': 6.832190112997203},\n",
      "                                                                                  {'orientation1': 'D270',\n",
      "                                                                                   'orientation2': 'D270',\n",
      "                                                                                   'value': 6.9512395480111895}],\n",
      "                                                                         '2v_w': [{'orientation1': 'D0',\n",
      "                                                                                   'orientation2': 'D0',\n",
      "                                                                                   'value': 3.033333333333333},\n",
      "                                                                                  {'orientation1': 'D90',\n",
      "                                                                                   'orientation2': 'D90',\n",
      "                                                                                   'value': 0.0},\n",
      "                                                                                  {'orientation1': 'D180',\n",
      "                                                                                   'orientation2': 'D180',\n",
      "                                                                                   'value': 3.033333333333333},\n",
      "                                                                                  {'orientation1': 'D270',\n",
      "                                                                                   'orientation2': 'D270',\n",
      "                                                                                   'value': 0.0}],\n",
      "                                                                         '3h_wf': [{'orientation1': 'bottom',\n",
      "                                                                                    'orientation2': 'D0',\n",
      "                                                                                    'value': 0.0}],\n",
      "                                                                         '3h_wr': [{'orientation1': 'top',\n",
      "                                                                                    'orientation2': 'D0',\n",
      "                                                                                    'value': 0.0}],\n",
      "                                                                         '3v_ww': [{'orientation1': 'D90',\n",
      "                                                                                    'orientation2': 'D180',\n",
      "                                                                                    'value': 6.066666666666666},\n",
      "                                                                                   {'orientation1': 'D180',\n",
      "                                                                                    'orientation2': 'D270',\n",
      "                                                                                    'value': 6.066666666666666}]},\n",
      "                                                  'index': 3,\n",
      "                                                  'inside_ceiling_area': 40.66,\n",
      "                                                  'inside_floor_area': 0.0,\n",
      "                                                  'inside_wall_area': 18.05209329563394,\n",
      "                                                  'outside_floor_area': 0.0,\n",
      "                                                  'outside_walls_area': {'D0': 16.140118009424853,\n",
      "                                                                         'D180': 16.54570200942485,\n",
      "                                                                         'D270': 17.13769329563394,\n",
      "                                                                         'D90': 3.033333333333333},\n",
      "                                                  'roof_area': 0.0,\n",
      "                                                  'windows_area': {'D0': 4.584192,\n",
      "                                                                   'D180': 2.578608,\n",
      "                                                                   'D270': 0.9144,\n",
      "                                                                   'D90': 0}}],\n",
      "                                      'level': 0},\n",
      "                                     {'height': 3.033333333333333,\n",
      "                                      'houses': [{'crawl_space_floor_area': 40.66,\n",
      "                                                  'doors_area': {'D0': 0.0,\n",
      "                                                                 'D180': 1.6,\n",
      "                                                                 'D270': 0.0,\n",
      "                                                                 'D90': 0.0},\n",
      "                                                  'heat_bridge_length': {'1h_wf': [{'orientation1': 'bottom',\n",
      "                                                                                    'orientation2': 'D0',\n",
      "                                                                                    'value': 0.0},\n",
      "                                                                                   {'orientation1': 'bottom',\n",
      "                                                                                    'orientation2': 'D90',\n",
      "                                                                                    'value': 0.0},\n",
      "                                                                                   {'orientation1': 'bottom',\n",
      "                                                                                    'orientation2': 'D180',\n",
      "                                                                                    'value': 0.0},\n",
      "                                                                                   {'orientation1': 'bottom',\n",
      "                                                                                    'orientation2': 'D270',\n",
      "                                                                                    'value': 0.0}],\n"
     ]
    },
    {
     "name": "stdout",
     "output_type": "stream",
     "text": [
      "                                                                         '1h_wr': [{'orientation1': 'top',\n",
      "                                                                                    'orientation2': 'D0',\n",
      "                                                                                    'value': 0.0},\n",
      "                                                                                   {'orientation1': 'top',\n",
      "                                                                                    'orientation2': 'D90',\n",
      "                                                                                    'value': 0.0},\n",
      "                                                                                   {'orientation1': 'top',\n",
      "                                                                                    'orientation2': 'D180',\n",
      "                                                                                    'value': 0.0},\n",
      "                                                                                   {'orientation1': 'top',\n",
      "                                                                                    'orientation2': 'D270',\n",
      "                                                                                    'value': 0.0}],\n",
      "                                                                         '1h_wuf': [{'orientation1': 'bottom',\n",
      "                                                                                     'orientation2': 'D0',\n",
      "                                                                                     'value': 6.832190112997203},\n",
      "                                                                                    {'orientation1': 'bottom',\n",
      "                                                                                     'orientation2': 'D90',\n",
      "                                                                                     'value': 6.9512395480111895},\n",
      "                                                                                    {'orientation1': 'bottom',\n",
      "                                                                                     'orientation2': 'D180',\n",
      "                                                                                     'value': 6.832190112997203},\n",
      "                                                                                    {'orientation1': 'bottom',\n",
      "                                                                                     'orientation2': 'D270',\n",
      "                                                                                     'value': 6.9512395480111895}],\n",
      "                                                                         '1v_ww': [{'orientation1': 'D0',\n",
      "                                                                                    'orientation2': 'D90',\n",
      "                                                                                    'value': 3.033333333333333},\n",
      "                                                                                   {'orientation1': 'D90',\n",
      "                                                                                    'orientation2': 'D180',\n",
      "                                                                                    'value': 6.066666666666666},\n",
      "                                                                                   {'orientation1': 'D180',\n",
      "                                                                                    'orientation2': 'D270',\n",
      "                                                                                    'value': 3.033333333333333},\n",
      "                                                                                   {'orientation1': 'D270',\n",
      "                                                                                    'orientation2': 'D0',\n",
      "                                                                                    'value': 0.0}],\n",
      "                                                                         '2h_f': [{'orientation1': 'bottom',\n",
      "                                                                                   'orientation2': 'bottom',\n",
      "                                                                                   'value': 0.0}],\n",
      "                                                                         '2h_r': [{'orientation1': 'top',\n",
      "                                                                                   'orientation2': 'top',\n",
      "                                                                                   'value': 0.0}],\n",
      "                                                                         '2h_uf': [{'orientation1': 'bottom',\n",
      "                                                                                    'orientation2': 'bottom',\n",
      "                                                                                    'value': 0.0}],\n",
      "                                                                         '2h_w': [{'orientation1': 'D0',\n",
      "                                                                                   'orientation2': 'D0',\n",
      "                                                                                   'value': 13.664380225994407},\n",
      "                                                                                  {'orientation1': 'D90',\n",
      "                                                                                   'orientation2': 'D90',\n",
      "                                                                                   'value': 13.902479096022379},\n",
      "                                                                                  {'orientation1': 'D180',\n",
      "                                                                                   'orientation2': 'D180',\n",
      "                                                                                   'value': 13.664380225994407},\n",
      "                                                                                  {'orientation1': 'D270',\n",
      "                                                                                   'orientation2': 'D270',\n",
      "                                                                                   'value': 2.0}],\n",
      "                                                                         '2v_w': [{'orientation1': 'D0',\n",
      "                                                                                   'orientation2': 'D0',\n",
      "                                                                                   'value': 3.033333333333333},\n",
      "                                                                                  {'orientation1': 'D90',\n",
      "                                                                                   'orientation2': 'D90',\n",
      "                                                                                   'value': 0.0},\n",
      "                                                                                  {'orientation1': 'D180',\n",
      "                                                                                   'orientation2': 'D180',\n",
      "                                                                                   'value': 3.033333333333333},\n",
      "                                                                                  {'orientation1': 'D270',\n",
      "                                                                                   'orientation2': 'D270',\n",
      "                                                                                   'value': 0.0}],\n",
      "                                                                         '3h_wf': [{'orientation1': 'bottom',\n",
      "                                                                                    'orientation2': 'D0',\n",
      "                                                                                    'value': 0.0}],\n",
      "                                                                         '3h_wr': [{'orientation1': 'top',\n",
      "                                                                                    'orientation2': 'D0',\n",
      "                                                                                    'value': 0.0}],\n",
      "                                                                         '3v_ww': [{'orientation1': 'D90',\n",
      "                                                                                    'orientation2': 'D180',\n",
      "                                                                                    'value': 6.066666666666666},\n",
      "                                                                                   {'orientation1': 'D180',\n",
      "                                                                                    'orientation2': 'D270',\n",
      "                                                                                    'value': 6.066666666666666}]},\n",
      "                                                  'index': 0,\n",
      "                                                  'inside_ceiling_area': 40.66,\n",
      "                                                  'inside_floor_area': 40.66,\n",
      "                                                  'inside_wall_area': 18.05209329563394,\n",
      "                                                  'outside_floor_area': 0.0,\n",
      "                                                  'outside_walls_area': {'D0': 16.11605400942485,\n",
      "                                                                         'D180': 16.53216600942485,\n",
      "                                                                         'D270': 3.033333333333333,\n",
      "                                                                         'D90': 17.13289329563394},\n",
      "                                                  'roof_area': 0.0,\n",
      "                                                  'windows_area': {'D0': 4.608256,\n",
      "                                                                   'D180': 2.592144,\n",
      "                                                                   'D270': 0,\n",
      "                                                                   'D90': 0.9192}},\n",
      "                                                 {'crawl_space_floor_area': 40.66,\n",
      "                                                  'doors_area': {'D0': 0.0,\n",
      "                                                                 'D180': 1.6,\n",
      "                                                                 'D270': 0.0,\n",
      "                                                                 'D90': 0.0},\n",
      "                                                  'heat_bridge_length': {'1h_wf': [{'orientation1': 'bottom',\n",
      "                                                                                    'orientation2': 'D0',\n",
      "                                                                                    'value': 0.0},\n",
      "                                                                                   {'orientation1': 'bottom',\n",
      "                                                                                    'orientation2': 'D90',\n",
      "                                                                                    'value': 0.0},\n",
      "                                                                                   {'orientation1': 'bottom',\n",
      "                                                                                    'orientation2': 'D180',\n",
      "                                                                                    'value': 0.0},\n",
      "                                                                                   {'orientation1': 'bottom',\n",
      "                                                                                    'orientation2': 'D270',\n",
      "                                                                                    'value': 0.0}],\n",
      "                                                                         '1h_wr': [{'orientation1': 'top',\n",
      "                                                                                    'orientation2': 'D0',\n",
      "                                                                                    'value': 0.0},\n",
      "                                                                                   {'orientation1': 'top',\n",
      "                                                                                    'orientation2': 'D90',\n",
      "                                                                                    'value': 0.0},\n",
      "                                                                                   {'orientation1': 'top',\n",
      "                                                                                    'orientation2': 'D180',\n",
      "                                                                                    'value': 0.0},\n",
      "                                                                                   {'orientation1': 'top',\n",
      "                                                                                    'orientation2': 'D270',\n",
      "                                                                                    'value': 0.0}],\n",
      "                                                                         '1h_wuf': [{'orientation1': 'bottom',\n",
      "                                                                                     'orientation2': 'D0',\n",
      "                                                                                     'value': 6.832190112997203},\n",
      "                                                                                    {'orientation1': 'bottom',\n",
      "                                                                                     'orientation2': 'D90',\n",
      "                                                                                     'value': 1.0},\n",
      "                                                                                    {'orientation1': 'bottom',\n",
      "                                                                                     'orientation2': 'D180',\n",
      "                                                                                     'value': 6.832190112997203},\n",
      "                                                                                    {'orientation1': 'bottom',\n",
      "                                                                                     'orientation2': 'D270',\n",
      "                                                                                     'value': 3}],\n",
      "                                                                         '1v_ww': [{'orientation1': 'D0',\n",
      "                                                                                    'orientation2': 'D90',\n",
      "                                                                                    'value': 0.0},\n",
      "                                                                                   {'orientation1': 'D90',\n",
      "                                                                                    'orientation2': 'D180',\n",
      "                                                                                    'value': 3.033333333333333},\n",
      "                                                                                   {'orientation1': 'D180',\n",
      "                                                                                    'orientation2': 'D270',\n",
      "                                                                                    'value': 3.033333333333333},\n",
      "                                                                                   {'orientation1': 'D270',\n",
      "                                                                                    'orientation2': 'D0',\n",
      "                                                                                    'value': 0.0}],\n",
      "                                                                         '2h_f': [{'orientation1': 'bottom',\n",
      "                                                                                   'orientation2': 'bottom',\n",
      "                                                                                   'value': 0.0}],\n",
      "                                                                         '2h_r': [{'orientation1': 'top',\n",
      "                                                                                   'orientation2': 'top',\n",
      "                                                                                   'value': 0.0}],\n",
      "                                                                         '2h_uf': [{'orientation1': 'bottom',\n",
      "                                                                                    'orientation2': 'bottom',\n",
      "                                                                                    'value': 0.0}],\n",
      "                                                                         '2h_w': [{'orientation1': 'D0',\n",
      "                                                                                   'orientation2': 'D0',\n",
      "                                                                                   'value': 13.664380225994407},\n",
      "                                                                                  {'orientation1': 'D90',\n",
      "                                                                                   'orientation2': 'D90',\n",
      "                                                                                   'value': 2.0},\n",
      "                                                                                  {'orientation1': 'D180',\n",
      "                                                                                   'orientation2': 'D180',\n",
      "                                                                                   'value': 13.664380225994407},\n",
      "                                                                                  {'orientation1': 'D270',\n",
      "                                                                                   'orientation2': 'D270',\n",
      "                                                                                   'value': 2.0}],\n",
      "                                                                         '2v_w': [{'orientation1': 'D0',\n",
      "                                                                                   'orientation2': 'D0',\n",
      "                                                                                   'value': 6.066666666666666},\n",
      "                                                                                  {'orientation1': 'D90',\n",
      "                                                                                   'orientation2': 'D90',\n",
      "                                                                                   'value': 0.0},\n",
      "                                                                                  {'orientation1': 'D180',\n",
      "                                                                                   'orientation2': 'D180',\n",
      "                                                                                   'value': 6.066666666666666},\n",
      "                                                                                  {'orientation1': 'D270',\n",
      "                                                                                   'orientation2': 'D270',\n",
      "                                                                                   'value': 0.0}],\n",
      "                                                                         '3h_wf': [{'orientation1': 'bottom',\n",
      "                                                                                    'orientation2': 'D0',\n",
      "                                                                                    'value': 0.0}],\n",
      "                                                                         '3h_wr': [{'orientation1': 'top',\n",
      "                                                                                    'orientation2': 'D0',\n",
      "                                                                                    'value': 0.0}],\n",
      "                                                                         '3v_ww': [{'orientation1': 'D90',\n",
      "                                                                                    'orientation2': 'D180',\n",
      "                                                                                    'value': 6.066666666666666},\n",
      "                                                                                   {'orientation1': 'D180',\n",
      "                                                                                    'orientation2': 'D270',\n",
      "                                                                                    'value': 6.066666666666666}]},\n",
      "                                                  'index': 1,\n",
      "                                                  'inside_ceiling_area': 40.66,\n",
      "                                                  'inside_floor_area': 40.66,\n",
      "                                                  'inside_wall_area': 36.10418659126788,\n",
      "                                                  'outside_floor_area': 0.0,\n",
      "                                                  'outside_walls_area': {'D0': 16.11605400942485,\n",
      "                                                                         'D180': 16.53216600942485,\n",
      "                                                                         'D270': 3.033333333333333,\n",
      "                                                                         'D90': 3.033333333333333},\n",
      "                                                  'roof_area': 0.0,\n",
      "                                                  'windows_area': {'D0': 4.608256,\n",
      "                                                                   'D180': 2.592144,\n",
      "                                                                   'D270': 0,\n",
      "                                                                   'D90': 0}},\n",
      "                                                 {'crawl_space_floor_area': 40.66,\n",
      "                                                  'doors_area': {'D0': 0.0,\n",
      "                                                                 'D180': 1.6,\n",
      "                                                                 'D270': 0.0,\n",
      "                                                                 'D90': 0.0},\n",
      "                                                  'heat_bridge_length': {'1h_wf': [{'orientation1': 'bottom',\n",
      "                                                                                    'orientation2': 'D0',\n",
      "                                                                                    'value': 0.0},\n",
      "                                                                                   {'orientation1': 'bottom',\n",
      "                                                                                    'orientation2': 'D90',\n",
      "                                                                                    'value': 0.0},\n",
      "                                                                                   {'orientation1': 'bottom',\n",
      "                                                                                    'orientation2': 'D180',\n",
      "                                                                                    'value': 0.0},\n",
      "                                                                                   {'orientation1': 'bottom',\n",
      "                                                                                    'orientation2': 'D270',\n",
      "                                                                                    'value': 0.0}],\n",
      "                                                                         '1h_wr': [{'orientation1': 'top',\n",
      "                                                                                    'orientation2': 'D0',\n",
      "                                                                                    'value': 0.0},\n",
      "                                                                                   {'orientation1': 'top',\n",
      "                                                                                    'orientation2': 'D90',\n",
      "                                                                                    'value': 0.0},\n",
      "                                                                                   {'orientation1': 'top',\n",
      "                                                                                    'orientation2': 'D180',\n",
      "                                                                                    'value': 0.0},\n",
      "                                                                                   {'orientation1': 'top',\n",
      "                                                                                    'orientation2': 'D270',\n",
      "                                                                                    'value': 0.0}],\n",
      "                                                                         '1h_wuf': [{'orientation1': 'bottom',\n",
      "                                                                                     'orientation2': 'D0',\n",
      "                                                                                     'value': 6.832190112997203},\n",
      "                                                                                    {'orientation1': 'bottom',\n",
      "                                                                                     'orientation2': 'D90',\n",
      "                                                                                     'value': 1.0},\n",
      "                                                                                    {'orientation1': 'bottom',\n",
      "                                                                                     'orientation2': 'D180',\n",
      "                                                                                     'value': 6.832190112997203},\n",
      "                                                                                    {'orientation1': 'bottom',\n",
      "                                                                                     'orientation2': 'D270',\n",
      "                                                                                     'value': 3}],\n",
      "                                                                         '1v_ww': [{'orientation1': 'D0',\n",
      "                                                                                    'orientation2': 'D90',\n",
      "                                                                                    'value': 0.0},\n",
      "                                                                                   {'orientation1': 'D90',\n",
      "                                                                                    'orientation2': 'D180',\n",
      "                                                                                    'value': 3.033333333333333},\n",
      "                                                                                   {'orientation1': 'D180',\n",
      "                                                                                    'orientation2': 'D270',\n",
      "                                                                                    'value': 3.033333333333333},\n",
      "                                                                                   {'orientation1': 'D270',\n",
      "                                                                                    'orientation2': 'D0',\n",
      "                                                                                    'value': 0.0}],\n",
      "                                                                         '2h_f': [{'orientation1': 'bottom',\n",
      "                                                                                   'orientation2': 'bottom',\n",
      "                                                                                   'value': 0.0}],\n",
      "                                                                         '2h_r': [{'orientation1': 'top',\n",
      "                                                                                   'orientation2': 'top',\n",
      "                                                                                   'value': 0.0}],\n",
      "                                                                         '2h_uf': [{'orientation1': 'bottom',\n",
      "                                                                                    'orientation2': 'bottom',\n",
      "                                                                                    'value': 0.0}],\n",
      "                                                                         '2h_w': [{'orientation1': 'D0',\n",
      "                                                                                   'orientation2': 'D0',\n",
      "                                                                                   'value': 13.664380225994407},\n",
      "                                                                                  {'orientation1': 'D90',\n",
      "                                                                                   'orientation2': 'D90',\n",
      "                                                                                   'value': 2.0},\n",
      "                                                                                  {'orientation1': 'D180',\n",
      "                                                                                   'orientation2': 'D180',\n",
      "                                                                                   'value': 13.664380225994407},\n",
      "                                                                                  {'orientation1': 'D270',\n",
      "                                                                                   'orientation2': 'D270',\n",
      "                                                                                   'value': 2.0}],\n",
      "                                                                         '2v_w': [{'orientation1': 'D0',\n",
      "                                                                                   'orientation2': 'D0',\n",
      "                                                                                   'value': 6.066666666666666},\n",
      "                                                                                  {'orientation1': 'D90',\n",
      "                                                                                   'orientation2': 'D90',\n",
      "                                                                                   'value': 0.0},\n",
      "                                                                                  {'orientation1': 'D180',\n",
      "                                                                                   'orientation2': 'D180',\n",
      "                                                                                   'value': 6.066666666666666},\n",
      "                                                                                  {'orientation1': 'D270',\n",
      "                                                                                   'orientation2': 'D270',\n",
      "                                                                                   'value': 0.0}],\n",
      "                                                                         '3h_wf': [{'orientation1': 'bottom',\n",
      "                                                                                    'orientation2': 'D0',\n",
      "                                                                                    'value': 0.0}],\n",
      "                                                                         '3h_wr': [{'orientation1': 'top',\n",
      "                                                                                    'orientation2': 'D0',\n",
      "                                                                                    'value': 0.0}],\n",
      "                                                                         '3v_ww': [{'orientation1': 'D90',\n",
      "                                                                                    'orientation2': 'D180',\n",
      "                                                                                    'value': 6.066666666666666},\n",
      "                                                                                   {'orientation1': 'D180',\n",
      "                                                                                    'orientation2': 'D270',\n",
      "                                                                                    'value': 6.066666666666666}]},\n",
      "                                                  'index': 2,\n",
      "                                                  'inside_ceiling_area': 40.66,\n",
      "                                                  'inside_floor_area': 40.66,\n",
      "                                                  'inside_wall_area': 36.10418659126788,\n",
      "                                                  'outside_floor_area': 0.0,\n",
      "                                                  'outside_walls_area': {'D0': 16.11605400942485,\n",
      "                                                                         'D180': 16.53216600942485,\n",
      "                                                                         'D270': 3.033333333333333,\n",
      "                                                                         'D90': 3.033333333333333},\n",
      "                                                  'roof_area': 0.0,\n",
      "                                                  'windows_area': {'D0': 4.608256,\n",
      "                                                                   'D180': 2.592144,\n",
      "                                                                   'D270': 0,\n",
      "                                                                   'D90': 0}},\n",
      "                                                 {'crawl_space_floor_area': 40.66,\n",
      "                                                  'doors_area': {'D0': 0.0,\n",
      "                                                                 'D180': 1.6,\n",
      "                                                                 'D270': 0.0,\n",
      "                                                                 'D90': 0.0},\n",
      "                                                  'heat_bridge_length': {'1h_wf': [{'orientation1': 'bottom',\n",
      "                                                                                    'orientation2': 'D0',\n",
      "                                                                                    'value': 0.0},\n",
      "                                                                                   {'orientation1': 'bottom',\n",
      "                                                                                    'orientation2': 'D90',\n",
      "                                                                                    'value': 0.0},\n",
      "                                                                                   {'orientation1': 'bottom',\n",
      "                                                                                    'orientation2': 'D180',\n",
      "                                                                                    'value': 0.0},\n",
      "                                                                                   {'orientation1': 'bottom',\n",
      "                                                                                    'orientation2': 'D270',\n",
      "                                                                                    'value': 0.0}],\n",
      "                                                                         '1h_wr': [{'orientation1': 'top',\n",
      "                                                                                    'orientation2': 'D0',\n",
      "                                                                                    'value': 0.0},\n",
      "                                                                                   {'orientation1': 'top',\n",
      "                                                                                    'orientation2': 'D90',\n",
      "                                                                                    'value': 0.0},\n",
      "                                                                                   {'orientation1': 'top',\n",
      "                                                                                    'orientation2': 'D180',\n",
      "                                                                                    'value': 0.0},\n",
      "                                                                                   {'orientation1': 'top',\n",
      "                                                                                    'orientation2': 'D270',\n",
      "                                                                                    'value': 0.0}],\n",
      "                                                                         '1h_wuf': [{'orientation1': 'bottom',\n",
      "                                                                                     'orientation2': 'D0',\n",
      "                                                                                     'value': 6.832190112997203},\n",
      "                                                                                    {'orientation1': 'bottom',\n",
      "                                                                                     'orientation2': 'D90',\n",
      "                                                                                     'value': 1.0},\n",
      "                                                                                    {'orientation1': 'bottom',\n",
      "                                                                                     'orientation2': 'D180',\n",
      "                                                                                     'value': 6.832190112997203},\n",
      "                                                                                    {'orientation1': 'bottom',\n",
      "                                                                                     'orientation2': 'D270',\n",
      "                                                                                     'value': 3}],\n",
      "                                                                         '1v_ww': [{'orientation1': 'D0',\n",
      "                                                                                    'orientation2': 'D90',\n",
      "                                                                                    'value': 0.0},\n",
      "                                                                                   {'orientation1': 'D90',\n",
      "                                                                                    'orientation2': 'D180',\n",
      "                                                                                    'value': 3.033333333333333},\n",
      "                                                                                   {'orientation1': 'D180',\n",
      "                                                                                    'orientation2': 'D270',\n",
      "                                                                                    'value': 6.066666666666666},\n",
      "                                                                                   {'orientation1': 'D270',\n",
      "                                                                                    'orientation2': 'D0',\n",
      "                                                                                    'value': 3.033333333333333}],\n",
      "                                                                         '2h_f': [{'orientation1': 'bottom',\n",
      "                                                                                   'orientation2': 'bottom',\n",
      "                                                                                   'value': 0.0}],\n",
      "                                                                         '2h_r': [{'orientation1': 'top',\n",
      "                                                                                   'orientation2': 'top',\n",
      "                                                                                   'value': 0.0}],\n",
      "                                                                         '2h_uf': [{'orientation1': 'bottom',\n",
      "                                                                                    'orientation2': 'bottom',\n"
     ]
    },
    {
     "name": "stdout",
     "output_type": "stream",
     "text": [
      "                                                                                    'value': 0.0}],\n",
      "                                                                         '2h_w': [{'orientation1': 'D0',\n",
      "                                                                                   'orientation2': 'D0',\n",
      "                                                                                   'value': 13.664380225994407},\n",
      "                                                                                  {'orientation1': 'D90',\n",
      "                                                                                   'orientation2': 'D90',\n",
      "                                                                                   'value': 2.0},\n",
      "                                                                                  {'orientation1': 'D180',\n",
      "                                                                                   'orientation2': 'D180',\n",
      "                                                                                   'value': 13.664380225994407},\n",
      "                                                                                  {'orientation1': 'D270',\n",
      "                                                                                   'orientation2': 'D270',\n",
      "                                                                                   'value': 13.902479096022379}],\n",
      "                                                                         '2v_w': [{'orientation1': 'D0',\n",
      "                                                                                   'orientation2': 'D0',\n",
      "                                                                                   'value': 3.033333333333333},\n",
      "                                                                                  {'orientation1': 'D90',\n",
      "                                                                                   'orientation2': 'D90',\n",
      "                                                                                   'value': 0.0},\n",
      "                                                                                  {'orientation1': 'D180',\n",
      "                                                                                   'orientation2': 'D180',\n",
      "                                                                                   'value': 3.033333333333333},\n",
      "                                                                                  {'orientation1': 'D270',\n",
      "                                                                                   'orientation2': 'D270',\n",
      "                                                                                   'value': 0.0}],\n",
      "                                                                         '3h_wf': [{'orientation1': 'bottom',\n",
      "                                                                                    'orientation2': 'D0',\n",
      "                                                                                    'value': 0.0}],\n",
      "                                                                         '3h_wr': [{'orientation1': 'top',\n",
      "                                                                                    'orientation2': 'D0',\n",
      "                                                                                    'value': 0.0}],\n",
      "                                                                         '3v_ww': [{'orientation1': 'D90',\n",
      "                                                                                    'orientation2': 'D180',\n",
      "                                                                                    'value': 6.066666666666666},\n",
      "                                                                                   {'orientation1': 'D180',\n",
      "                                                                                    'orientation2': 'D270',\n",
      "                                                                                    'value': 6.066666666666666}]},\n",
      "                                                  'index': 3,\n",
      "                                                  'inside_ceiling_area': 40.66,\n",
      "                                                  'inside_floor_area': 40.66,\n",
      "                                                  'inside_wall_area': 18.05209329563394,\n",
      "                                                  'outside_floor_area': 0.0,\n",
      "                                                  'outside_walls_area': {'D0': 16.11605400942485,\n",
      "                                                                         'D180': 16.53216600942485,\n",
      "                                                                         'D270': 17.13289329563394,\n",
      "                                                                         'D90': 3.033333333333333},\n",
      "                                                  'roof_area': 0.0,\n",
      "                                                  'windows_area': {'D0': 4.608256,\n",
      "                                                                   'D180': 2.592144,\n",
      "                                                                   'D270': 0.9192,\n",
      "                                                                   'D90': 0}}],\n",
      "                                      'level': 1},\n",
      "                                     {'height': 3.033333333333333,\n",
      "                                      'houses': [{'crawl_space_floor_area': 40.66,\n",
      "                                                  'doors_area': {'D0': 0.0,\n",
      "                                                                 'D180': 1.6,\n",
      "                                                                 'D270': 0.0,\n",
      "                                                                 'D90': 0.0},\n",
      "                                                  'heat_bridge_length': {'1h_wf': [{'orientation1': 'bottom',\n",
      "                                                                                    'orientation2': 'D0',\n",
      "                                                                                    'value': 0.0},\n",
      "                                                                                   {'orientation1': 'bottom',\n",
      "                                                                                    'orientation2': 'D90',\n",
      "                                                                                    'value': 0.0},\n",
      "                                                                                   {'orientation1': 'bottom',\n",
      "                                                                                    'orientation2': 'D180',\n",
      "                                                                                    'value': 0.0},\n",
      "                                                                                   {'orientation1': 'bottom',\n",
      "                                                                                    'orientation2': 'D270',\n",
      "                                                                                    'value': 0.0}],\n",
      "                                                                         '1h_wr': [{'orientation1': 'top',\n",
      "                                                                                    'orientation2': 'D0',\n",
      "                                                                                    'value': 6.832190112997203},\n",
      "                                                                                   {'orientation1': 'top',\n",
      "                                                                                    'orientation2': 'D90',\n",
      "                                                                                    'value': 5.9512395480111895},\n",
      "                                                                                   {'orientation1': 'top',\n",
      "                                                                                    'orientation2': 'D180',\n",
      "                                                                                    'value': 0.0},\n",
      "                                                                                   {'orientation1': 'top',\n",
      "                                                                                    'orientation2': 'D270',\n",
      "                                                                                    'value': 0.0}],\n",
      "                                                                         '1h_wuf': [{'orientation1': 'bottom',\n",
      "                                                                                     'orientation2': 'D0',\n",
      "                                                                                     'value': 6.832190112997203},\n",
      "                                                                                    {'orientation1': 'bottom',\n",
      "                                                                                     'orientation2': 'D90',\n",
      "                                                                                     'value': 6.9512395480111895},\n",
      "                                                                                    {'orientation1': 'bottom',\n",
      "                                                                                     'orientation2': 'D180',\n",
      "                                                                                     'value': 6.832190112997203},\n",
      "                                                                                    {'orientation1': 'bottom',\n",
      "                                                                                     'orientation2': 'D270',\n",
      "                                                                                     'value': 6.9512395480111895}],\n",
      "                                                                         '1v_ww': [{'orientation1': 'D0',\n",
      "                                                                                    'orientation2': 'D90',\n",
      "                                                                                    'value': 3.033333333333333},\n",
      "                                                                                   {'orientation1': 'D90',\n",
      "                                                                                    'orientation2': 'D180',\n",
      "                                                                                    'value': 6.066666666666666},\n",
      "                                                                                   {'orientation1': 'D180',\n",
      "                                                                                    'orientation2': 'D270',\n",
      "                                                                                    'value': 3.033333333333333},\n",
      "                                                                                   {'orientation1': 'D270',\n",
      "                                                                                    'orientation2': 'D0',\n",
      "                                                                                    'value': 0.0}],\n",
      "                                                                         '2h_f': [{'orientation1': 'bottom',\n",
      "                                                                                   'orientation2': 'bottom',\n",
      "                                                                                   'value': 0.0}],\n",
      "                                                                         '2h_r': [{'orientation1': 'top',\n",
      "                                                                                   'orientation2': 'top',\n",
      "                                                                                   'value': 5.9512395480111895}],\n",
      "                                                                         '2h_uf': [{'orientation1': 'bottom',\n",
      "                                                                                    'orientation2': 'bottom',\n",
      "                                                                                    'value': 0.0}],\n",
      "                                                                         '2h_w': [{'orientation1': 'D0',\n",
      "                                                                                   'orientation2': 'D0',\n",
      "                                                                                   'value': 6.832190112997203},\n",
      "                                                                                  {'orientation1': 'D90',\n",
      "                                                                                   'orientation2': 'D90',\n",
      "                                                                                   'value': 6.9512395480111895},\n",
      "                                                                                  {'orientation1': 'D180',\n",
      "                                                                                   'orientation2': 'D180',\n",
      "                                                                                   'value': 6.832190112997203},\n",
      "                                                                                  {'orientation1': 'D270',\n",
      "                                                                                   'orientation2': 'D270',\n",
      "                                                                                   'value': 1.0}],\n",
      "                                                                         '2v_w': [{'orientation1': 'D0',\n",
      "                                                                                   'orientation2': 'D0',\n",
      "                                                                                   'value': 3.033333333333333},\n",
      "                                                                                  {'orientation1': 'D90',\n",
      "                                                                                   'orientation2': 'D90',\n",
      "                                                                                   'value': 0.0},\n",
      "                                                                                  {'orientation1': 'D180',\n",
      "                                                                                   'orientation2': 'D180',\n",
      "                                                                                   'value': 3.033333333333333},\n",
      "                                                                                  {'orientation1': 'D270',\n",
      "                                                                                   'orientation2': 'D270',\n",
      "                                                                                   'value': 0.0}],\n",
      "                                                                         '3h_wf': [{'orientation1': 'bottom',\n",
      "                                                                                    'orientation2': 'D0',\n",
      "                                                                                    'value': 0.0}],\n",
      "                                                                         '3h_wr': [{'orientation1': 'top',\n",
      "                                                                                    'orientation2': 'D0',\n",
      "                                                                                    'value': 0.0}],\n",
      "                                                                         '3v_ww': [{'orientation1': 'D90',\n",
      "                                                                                    'orientation2': 'D180',\n",
      "                                                                                    'value': 6.066666666666666},\n",
      "                                                                                   {'orientation1': 'D180',\n",
      "                                                                                    'orientation2': 'D270',\n",
      "                                                                                    'value': 6.066666666666666}]},\n",
      "                                                  'index': 0,\n",
      "                                                  'inside_ceiling_area': 0.0,\n",
      "                                                  'inside_floor_area': 40.66,\n",
      "                                                  'inside_wall_area': 18.05209329563394,\n",
      "                                                  'outside_floor_area': 0.0,\n",
      "                                                  'outside_walls_area': {'D0': 16.11605400942485,\n",
      "                                                                         'D180': 16.53216600942485,\n",
      "                                                                         'D270': 3.033333333333333,\n",
      "                                                                         'D90': 17.13289329563394},\n",
      "                                                  'roof_area': 40.66,\n",
      "                                                  'windows_area': {'D0': 4.608256,\n",
      "                                                                   'D180': 2.592144,\n",
      "                                                                   'D270': 0,\n",
      "                                                                   'D90': 0.9192}},\n",
      "                                                 {'crawl_space_floor_area': 40.66,\n",
      "                                                  'doors_area': {'D0': 0.0,\n",
      "                                                                 'D180': 1.6,\n",
      "                                                                 'D270': 0.0,\n",
      "                                                                 'D90': 0.0},\n",
      "                                                  'heat_bridge_length': {'1h_wf': [{'orientation1': 'bottom',\n",
      "                                                                                    'orientation2': 'D0',\n",
      "                                                                                    'value': 0.0},\n",
      "                                                                                   {'orientation1': 'bottom',\n",
      "                                                                                    'orientation2': 'D90',\n",
      "                                                                                    'value': 0.0},\n",
      "                                                                                   {'orientation1': 'bottom',\n",
      "                                                                                    'orientation2': 'D180',\n",
      "                                                                                    'value': 0.0},\n",
      "                                                                                   {'orientation1': 'bottom',\n",
      "                                                                                    'orientation2': 'D270',\n",
      "                                                                                    'value': 0.0}],\n",
      "                                                                         '1h_wr': [{'orientation1': 'top',\n",
      "                                                                                    'orientation2': 'D0',\n",
      "                                                                                    'value': 6.832190112997203},\n",
      "                                                                                   {'orientation1': 'top',\n",
      "                                                                                    'orientation2': 'D90',\n",
      "                                                                                    'value': 0.0},\n",
      "                                                                                   {'orientation1': 'top',\n",
      "                                                                                    'orientation2': 'D180',\n",
      "                                                                                    'value': 0.0},\n",
      "                                                                                   {'orientation1': 'top',\n",
      "                                                                                    'orientation2': 'D270',\n",
      "                                                                                    'value': 0.0}],\n",
      "                                                                         '1h_wuf': [{'orientation1': 'bottom',\n",
      "                                                                                     'orientation2': 'D0',\n",
      "                                                                                     'value': 6.832190112997203},\n",
      "                                                                                    {'orientation1': 'bottom',\n",
      "                                                                                     'orientation2': 'D90',\n",
      "                                                                                     'value': 1.0},\n",
      "                                                                                    {'orientation1': 'bottom',\n",
      "                                                                                     'orientation2': 'D180',\n",
      "                                                                                     'value': 6.832190112997203},\n",
      "                                                                                    {'orientation1': 'bottom',\n",
      "                                                                                     'orientation2': 'D270',\n",
      "                                                                                     'value': 3}],\n",
      "                                                                         '1v_ww': [{'orientation1': 'D0',\n",
      "                                                                                    'orientation2': 'D90',\n",
      "                                                                                    'value': 0.0},\n",
      "                                                                                   {'orientation1': 'D90',\n",
      "                                                                                    'orientation2': 'D180',\n",
      "                                                                                    'value': 3.033333333333333},\n",
      "                                                                                   {'orientation1': 'D180',\n",
      "                                                                                    'orientation2': 'D270',\n",
      "                                                                                    'value': 3.033333333333333},\n",
      "                                                                                   {'orientation1': 'D270',\n",
      "                                                                                    'orientation2': 'D0',\n",
      "                                                                                    'value': 0.0}],\n",
      "                                                                         '2h_f': [{'orientation1': 'bottom',\n",
      "                                                                                   'orientation2': 'bottom',\n",
      "                                                                                   'value': 0.0}],\n",
      "                                                                         '2h_r': [{'orientation1': 'top',\n",
      "                                                                                   'orientation2': 'top',\n",
      "                                                                                   'value': 11.902479096022379}],\n",
      "                                                                         '2h_uf': [{'orientation1': 'bottom',\n",
      "                                                                                    'orientation2': 'bottom',\n",
      "                                                                                    'value': 0.0}],\n",
      "                                                                         '2h_w': [{'orientation1': 'D0',\n",
      "                                                                                   'orientation2': 'D0',\n",
      "                                                                                   'value': 6.832190112997203},\n",
      "                                                                                  {'orientation1': 'D90',\n",
      "                                                                                   'orientation2': 'D90',\n",
      "                                                                                   'value': 1.0},\n",
      "                                                                                  {'orientation1': 'D180',\n",
      "                                                                                   'orientation2': 'D180',\n",
      "                                                                                   'value': 6.832190112997203},\n",
      "                                                                                  {'orientation1': 'D270',\n",
      "                                                                                   'orientation2': 'D270',\n",
      "                                                                                   'value': 1.0}],\n",
      "                                                                         '2v_w': [{'orientation1': 'D0',\n",
      "                                                                                   'orientation2': 'D0',\n",
      "                                                                                   'value': 6.066666666666666},\n",
      "                                                                                  {'orientation1': 'D90',\n",
      "                                                                                   'orientation2': 'D90',\n",
      "                                                                                   'value': 0.0},\n",
      "                                                                                  {'orientation1': 'D180',\n",
      "                                                                                   'orientation2': 'D180',\n",
      "                                                                                   'value': 6.066666666666666},\n",
      "                                                                                  {'orientation1': 'D270',\n",
      "                                                                                   'orientation2': 'D270',\n",
      "                                                                                   'value': 0.0}],\n",
      "                                                                         '3h_wf': [{'orientation1': 'bottom',\n",
      "                                                                                    'orientation2': 'D0',\n",
      "                                                                                    'value': 0.0}],\n",
      "                                                                         '3h_wr': [{'orientation1': 'top',\n",
      "                                                                                    'orientation2': 'D0',\n",
      "                                                                                    'value': 0.0}],\n",
      "                                                                         '3v_ww': [{'orientation1': 'D90',\n",
      "                                                                                    'orientation2': 'D180',\n",
      "                                                                                    'value': 6.066666666666666},\n",
      "                                                                                   {'orientation1': 'D180',\n",
      "                                                                                    'orientation2': 'D270',\n",
      "                                                                                    'value': 6.066666666666666}]},\n",
      "                                                  'index': 1,\n",
      "                                                  'inside_ceiling_area': 0.0,\n",
      "                                                  'inside_floor_area': 40.66,\n",
      "                                                  'inside_wall_area': 36.10418659126788,\n",
      "                                                  'outside_floor_area': 0.0,\n",
      "                                                  'outside_walls_area': {'D0': 16.11605400942485,\n",
      "                                                                         'D180': 16.53216600942485,\n",
      "                                                                         'D270': 3.033333333333333,\n",
      "                                                                         'D90': 3.033333333333333},\n",
      "                                                  'roof_area': 40.66,\n",
      "                                                  'windows_area': {'D0': 4.608256,\n",
      "                                                                   'D180': 2.592144,\n",
      "                                                                   'D270': 0,\n",
      "                                                                   'D90': 0}},\n",
      "                                                 {'crawl_space_floor_area': 40.66,\n",
      "                                                  'doors_area': {'D0': 0.0,\n",
      "                                                                 'D180': 1.6,\n",
      "                                                                 'D270': 0.0,\n",
      "                                                                 'D90': 0.0},\n",
      "                                                  'heat_bridge_length': {'1h_wf': [{'orientation1': 'bottom',\n",
      "                                                                                    'orientation2': 'D0',\n",
      "                                                                                    'value': 0.0},\n",
      "                                                                                   {'orientation1': 'bottom',\n",
      "                                                                                    'orientation2': 'D90',\n",
      "                                                                                    'value': 0.0},\n",
      "                                                                                   {'orientation1': 'bottom',\n",
      "                                                                                    'orientation2': 'D180',\n",
      "                                                                                    'value': 0.0},\n",
      "                                                                                   {'orientation1': 'bottom',\n",
      "                                                                                    'orientation2': 'D270',\n",
      "                                                                                    'value': 0.0}],\n",
      "                                                                         '1h_wr': [{'orientation1': 'top',\n",
      "                                                                                    'orientation2': 'D0',\n",
      "                                                                                    'value': 6.832190112997203},\n",
      "                                                                                   {'orientation1': 'top',\n",
      "                                                                                    'orientation2': 'D90',\n",
      "                                                                                    'value': 0.0},\n",
      "                                                                                   {'orientation1': 'top',\n",
      "                                                                                    'orientation2': 'D180',\n",
      "                                                                                    'value': 0.0},\n",
      "                                                                                   {'orientation1': 'top',\n",
      "                                                                                    'orientation2': 'D270',\n",
      "                                                                                    'value': 0.0}],\n",
      "                                                                         '1h_wuf': [{'orientation1': 'bottom',\n",
      "                                                                                     'orientation2': 'D0',\n",
      "                                                                                     'value': 6.832190112997203},\n",
      "                                                                                    {'orientation1': 'bottom',\n",
      "                                                                                     'orientation2': 'D90',\n",
      "                                                                                     'value': 1.0},\n",
      "                                                                                    {'orientation1': 'bottom',\n",
      "                                                                                     'orientation2': 'D180',\n",
      "                                                                                     'value': 6.832190112997203},\n",
      "                                                                                    {'orientation1': 'bottom',\n",
      "                                                                                     'orientation2': 'D270',\n",
      "                                                                                     'value': 3}],\n",
      "                                                                         '1v_ww': [{'orientation1': 'D0',\n",
      "                                                                                    'orientation2': 'D90',\n",
      "                                                                                    'value': 0.0},\n",
      "                                                                                   {'orientation1': 'D90',\n",
      "                                                                                    'orientation2': 'D180',\n",
      "                                                                                    'value': 3.033333333333333},\n",
      "                                                                                   {'orientation1': 'D180',\n",
      "                                                                                    'orientation2': 'D270',\n",
      "                                                                                    'value': 3.033333333333333},\n",
      "                                                                                   {'orientation1': 'D270',\n",
      "                                                                                    'orientation2': 'D0',\n",
      "                                                                                    'value': 0.0}],\n",
      "                                                                         '2h_f': [{'orientation1': 'bottom',\n",
      "                                                                                   'orientation2': 'bottom',\n",
      "                                                                                   'value': 0.0}],\n",
      "                                                                         '2h_r': [{'orientation1': 'top',\n",
      "                                                                                   'orientation2': 'top',\n",
      "                                                                                   'value': 11.902479096022379}],\n",
      "                                                                         '2h_uf': [{'orientation1': 'bottom',\n",
      "                                                                                    'orientation2': 'bottom',\n",
      "                                                                                    'value': 0.0}],\n",
      "                                                                         '2h_w': [{'orientation1': 'D0',\n",
      "                                                                                   'orientation2': 'D0',\n",
      "                                                                                   'value': 6.832190112997203},\n",
      "                                                                                  {'orientation1': 'D90',\n",
      "                                                                                   'orientation2': 'D90',\n",
      "                                                                                   'value': 1.0},\n",
      "                                                                                  {'orientation1': 'D180',\n",
      "                                                                                   'orientation2': 'D180',\n",
      "                                                                                   'value': 6.832190112997203},\n",
      "                                                                                  {'orientation1': 'D270',\n",
      "                                                                                   'orientation2': 'D270',\n",
      "                                                                                   'value': 1.0}],\n",
      "                                                                         '2v_w': [{'orientation1': 'D0',\n",
      "                                                                                   'orientation2': 'D0',\n",
      "                                                                                   'value': 6.066666666666666},\n",
      "                                                                                  {'orientation1': 'D90',\n",
      "                                                                                   'orientation2': 'D90',\n",
      "                                                                                   'value': 0.0},\n",
      "                                                                                  {'orientation1': 'D180',\n",
      "                                                                                   'orientation2': 'D180',\n",
      "                                                                                   'value': 6.066666666666666},\n",
      "                                                                                  {'orientation1': 'D270',\n",
      "                                                                                   'orientation2': 'D270',\n",
      "                                                                                   'value': 0.0}],\n",
      "                                                                         '3h_wf': [{'orientation1': 'bottom',\n",
      "                                                                                    'orientation2': 'D0',\n",
      "                                                                                    'value': 0.0}],\n",
      "                                                                         '3h_wr': [{'orientation1': 'top',\n",
      "                                                                                    'orientation2': 'D0',\n",
      "                                                                                    'value': 0.0}],\n",
      "                                                                         '3v_ww': [{'orientation1': 'D90',\n",
      "                                                                                    'orientation2': 'D180',\n",
      "                                                                                    'value': 6.066666666666666},\n",
      "                                                                                   {'orientation1': 'D180',\n",
      "                                                                                    'orientation2': 'D270',\n",
      "                                                                                    'value': 6.066666666666666}]},\n",
      "                                                  'index': 2,\n",
      "                                                  'inside_ceiling_area': 0.0,\n",
      "                                                  'inside_floor_area': 40.66,\n",
      "                                                  'inside_wall_area': 36.10418659126788,\n",
      "                                                  'outside_floor_area': 0.0,\n"
     ]
    },
    {
     "name": "stdout",
     "output_type": "stream",
     "text": [
      "                                                  'outside_walls_area': {'D0': 16.11605400942485,\n",
      "                                                                         'D180': 16.53216600942485,\n",
      "                                                                         'D270': 3.033333333333333,\n",
      "                                                                         'D90': 3.033333333333333},\n",
      "                                                  'roof_area': 40.66,\n",
      "                                                  'windows_area': {'D0': 4.608256,\n",
      "                                                                   'D180': 2.592144,\n",
      "                                                                   'D270': 0,\n",
      "                                                                   'D90': 0}},\n",
      "                                                 {'crawl_space_floor_area': 40.66,\n",
      "                                                  'doors_area': {'D0': 0.0,\n",
      "                                                                 'D180': 1.6,\n",
      "                                                                 'D270': 0.0,\n",
      "                                                                 'D90': 0.0},\n",
      "                                                  'heat_bridge_length': {'1h_wf': [{'orientation1': 'bottom',\n",
      "                                                                                    'orientation2': 'D0',\n",
      "                                                                                    'value': 0.0},\n",
      "                                                                                   {'orientation1': 'bottom',\n",
      "                                                                                    'orientation2': 'D90',\n",
      "                                                                                    'value': 0.0},\n",
      "                                                                                   {'orientation1': 'bottom',\n",
      "                                                                                    'orientation2': 'D180',\n",
      "                                                                                    'value': 0.0},\n",
      "                                                                                   {'orientation1': 'bottom',\n",
      "                                                                                    'orientation2': 'D270',\n",
      "                                                                                    'value': 0.0}],\n",
      "                                                                         '1h_wr': [{'orientation1': 'top',\n",
      "                                                                                    'orientation2': 'D0',\n",
      "                                                                                    'value': 6.832190112997203},\n",
      "                                                                                   {'orientation1': 'top',\n",
      "                                                                                    'orientation2': 'D90',\n",
      "                                                                                    'value': 0.0},\n",
      "                                                                                   {'orientation1': 'top',\n",
      "                                                                                    'orientation2': 'D180',\n",
      "                                                                                    'value': 0.0},\n",
      "                                                                                   {'orientation1': 'top',\n",
      "                                                                                    'orientation2': 'D270',\n",
      "                                                                                    'value': 5.9512395480111895}],\n",
      "                                                                         '1h_wuf': [{'orientation1': 'bottom',\n",
      "                                                                                     'orientation2': 'D0',\n",
      "                                                                                     'value': 6.832190112997203},\n",
      "                                                                                    {'orientation1': 'bottom',\n",
      "                                                                                     'orientation2': 'D90',\n",
      "                                                                                     'value': 1.0},\n",
      "                                                                                    {'orientation1': 'bottom',\n",
      "                                                                                     'orientation2': 'D180',\n",
      "                                                                                     'value': 6.832190112997203},\n",
      "                                                                                    {'orientation1': 'bottom',\n",
      "                                                                                     'orientation2': 'D270',\n",
      "                                                                                     'value': 3}],\n",
      "                                                                         '1v_ww': [{'orientation1': 'D0',\n",
      "                                                                                    'orientation2': 'D90',\n",
      "                                                                                    'value': 0.0},\n",
      "                                                                                   {'orientation1': 'D90',\n",
      "                                                                                    'orientation2': 'D180',\n",
      "                                                                                    'value': 3.033333333333333},\n",
      "                                                                                   {'orientation1': 'D180',\n",
      "                                                                                    'orientation2': 'D270',\n",
      "                                                                                    'value': 6.066666666666666},\n",
      "                                                                                   {'orientation1': 'D270',\n",
      "                                                                                    'orientation2': 'D0',\n",
      "                                                                                    'value': 3.033333333333333}],\n",
      "                                                                         '2h_f': [{'orientation1': 'bottom',\n",
      "                                                                                   'orientation2': 'bottom',\n",
      "                                                                                   'value': 0.0}],\n",
      "                                                                         '2h_r': [{'orientation1': 'top',\n",
      "                                                                                   'orientation2': 'top',\n",
      "                                                                                   'value': 5.9512395480111895}],\n",
      "                                                                         '2h_uf': [{'orientation1': 'bottom',\n",
      "                                                                                    'orientation2': 'bottom',\n",
      "                                                                                    'value': 0.0}],\n",
      "                                                                         '2h_w': [{'orientation1': 'D0',\n",
      "                                                                                   'orientation2': 'D0',\n",
      "                                                                                   'value': 6.832190112997203},\n",
      "                                                                                  {'orientation1': 'D90',\n",
      "                                                                                   'orientation2': 'D90',\n",
      "                                                                                   'value': 1.0},\n",
      "                                                                                  {'orientation1': 'D180',\n",
      "                                                                                   'orientation2': 'D180',\n",
      "                                                                                   'value': 6.832190112997203},\n",
      "                                                                                  {'orientation1': 'D270',\n",
      "                                                                                   'orientation2': 'D270',\n",
      "                                                                                   'value': 6.9512395480111895}],\n",
      "                                                                         '2v_w': [{'orientation1': 'D0',\n",
      "                                                                                   'orientation2': 'D0',\n",
      "                                                                                   'value': 3.033333333333333},\n",
      "                                                                                  {'orientation1': 'D90',\n",
      "                                                                                   'orientation2': 'D90',\n",
      "                                                                                   'value': 0.0},\n",
      "                                                                                  {'orientation1': 'D180',\n",
      "                                                                                   'orientation2': 'D180',\n",
      "                                                                                   'value': 3.033333333333333},\n",
      "                                                                                  {'orientation1': 'D270',\n",
      "                                                                                   'orientation2': 'D270',\n",
      "                                                                                   'value': 0.0}],\n",
      "                                                                         '3h_wf': [{'orientation1': 'bottom',\n",
      "                                                                                    'orientation2': 'D0',\n",
      "                                                                                    'value': 0.0}],\n",
      "                                                                         '3h_wr': [{'orientation1': 'top',\n",
      "                                                                                    'orientation2': 'D0',\n",
      "                                                                                    'value': 0.0}],\n",
      "                                                                         '3v_ww': [{'orientation1': 'D90',\n",
      "                                                                                    'orientation2': 'D180',\n",
      "                                                                                    'value': 6.066666666666666},\n",
      "                                                                                   {'orientation1': 'D180',\n",
      "                                                                                    'orientation2': 'D270',\n",
      "                                                                                    'value': 6.066666666666666}]},\n",
      "                                                  'index': 3,\n",
      "                                                  'inside_ceiling_area': 0.0,\n",
      "                                                  'inside_floor_area': 40.66,\n",
      "                                                  'inside_wall_area': 18.05209329563394,\n",
      "                                                  'outside_floor_area': 0.0,\n",
      "                                                  'outside_walls_area': {'D0': 16.11605400942485,\n",
      "                                                                         'D180': 16.53216600942485,\n",
      "                                                                         'D270': 17.13289329563394,\n",
      "                                                                         'D90': 3.033333333333333},\n",
      "                                                  'roof_area': 40.66,\n",
      "                                                  'windows_area': {'D0': 4.608256,\n",
      "                                                                   'D180': 2.592144,\n",
      "                                                                   'D270': 0.9192,\n",
      "                                                                   'D90': 0}}],\n",
      "                                      'level': 2}],\n",
      "                  'roof': {'HB_spec': 'spec1',\n",
      "                           'U_value': 0.417,\n",
      "                           'ins_pos': 'outside'},\n",
      "                  'wall': {'HB_spec': 'spec1',\n",
      "                           'U_value': 0.785,\n",
      "                           'ins_pos': 'inside'},\n",
      "                  'window': {'U_value': 4.65, 'eta_value': 0.79}}}\n"
     ]
    }
   ],
   "source": [
    "b = Building(d)\n",
    "b.calc()\n",
    "\n",
    "pprint.pprint(b.get_dict(), compact=True)"
   ]
  },
  {
   "cell_type": "code",
   "execution_count": null,
   "metadata": {},
   "outputs": [],
   "source": []
  }
 ],
 "metadata": {
  "kernelspec": {
   "display_name": "Python 3",
   "language": "python",
   "name": "python3"
  },
  "language_info": {
   "codemirror_mode": {
    "name": "ipython",
    "version": 3
   },
   "file_extension": ".py",
   "mimetype": "text/x-python",
   "name": "python",
   "nbconvert_exporter": "python",
   "pygments_lexer": "ipython3",
   "version": "3.6.4"
  }
 },
 "nbformat": 4,
 "nbformat_minor": 2
}
